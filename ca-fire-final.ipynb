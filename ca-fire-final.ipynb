{
 "cells": [
  {
   "cell_type": "markdown",
   "metadata": {},
   "source": [
    "IMPORTS"
   ]
  },
  {
   "cell_type": "code",
   "execution_count": 128,
   "metadata": {},
   "outputs": [],
   "source": [
    "import numpy as np\n",
    "import pandas as pd\n",
    "\n",
    "import matplotlib.pyplot as plt\n",
    "import folium\n",
    "import folium.plugins as plugins\n",
    "\n",
    "import scipy.stats as stats\n",
    "from datetime import datetime, timedelta\n",
    "from scipy.stats import pearsonr"
   ]
  },
  {
   "cell_type": "code",
   "execution_count": null,
   "metadata": {},
   "outputs": [],
   "source": []
  },
  {
   "cell_type": "code",
   "execution_count": null,
   "metadata": {},
   "outputs": [],
   "source": []
  },
  {
   "cell_type": "markdown",
   "metadata": {},
   "source": [
    "LOAD DATA"
   ]
  },
  {
   "cell_type": "code",
   "execution_count": 129,
   "metadata": {},
   "outputs": [
    {
     "data": {
      "text/html": [
       "<div>\n",
       "<style scoped>\n",
       "    .dataframe tbody tr th:only-of-type {\n",
       "        vertical-align: middle;\n",
       "    }\n",
       "\n",
       "    .dataframe tbody tr th {\n",
       "        vertical-align: top;\n",
       "    }\n",
       "\n",
       "    .dataframe thead th {\n",
       "        text-align: right;\n",
       "    }\n",
       "</style>\n",
       "<table border=\"1\" class=\"dataframe\">\n",
       "  <thead>\n",
       "    <tr style=\"text-align: right;\">\n",
       "      <th></th>\n",
       "      <th>AcresBurned</th>\n",
       "      <th>Active</th>\n",
       "      <th>AdminUnit</th>\n",
       "      <th>AirTankers</th>\n",
       "      <th>ArchiveYear</th>\n",
       "      <th>CalFireIncident</th>\n",
       "      <th>CanonicalUrl</th>\n",
       "      <th>ConditionStatement</th>\n",
       "      <th>ControlStatement</th>\n",
       "      <th>Counties</th>\n",
       "      <th>...</th>\n",
       "      <th>SearchKeywords</th>\n",
       "      <th>Started</th>\n",
       "      <th>Status</th>\n",
       "      <th>StructuresDamaged</th>\n",
       "      <th>StructuresDestroyed</th>\n",
       "      <th>StructuresEvacuated</th>\n",
       "      <th>StructuresThreatened</th>\n",
       "      <th>UniqueId</th>\n",
       "      <th>Updated</th>\n",
       "      <th>WaterTenders</th>\n",
       "    </tr>\n",
       "  </thead>\n",
       "  <tbody>\n",
       "    <tr>\n",
       "      <th>0</th>\n",
       "      <td>257314.0</td>\n",
       "      <td>False</td>\n",
       "      <td>Stanislaus National Forest/Yosemite National Park</td>\n",
       "      <td>NaN</td>\n",
       "      <td>2013</td>\n",
       "      <td>True</td>\n",
       "      <td>/incidents/2013/8/17/rim-fire/</td>\n",
       "      <td>NaN</td>\n",
       "      <td>NaN</td>\n",
       "      <td>Tuolumne</td>\n",
       "      <td>...</td>\n",
       "      <td>Rim Fire, Stanislaus National Forest, Yosemite...</td>\n",
       "      <td>2013-08-17T15:25:00Z</td>\n",
       "      <td>Finalized</td>\n",
       "      <td>NaN</td>\n",
       "      <td>NaN</td>\n",
       "      <td>NaN</td>\n",
       "      <td>NaN</td>\n",
       "      <td>5fb18d4d-213f-4d83-a179-daaf11939e78</td>\n",
       "      <td>2013-09-06T18:30:00Z</td>\n",
       "      <td>NaN</td>\n",
       "    </tr>\n",
       "  </tbody>\n",
       "</table>\n",
       "<p>1 rows × 40 columns</p>\n",
       "</div>"
      ],
      "text/plain": [
       "   AcresBurned  Active                                          AdminUnit  \\\n",
       "0     257314.0   False  Stanislaus National Forest/Yosemite National Park   \n",
       "\n",
       "   AirTankers  ArchiveYear  CalFireIncident                    CanonicalUrl  \\\n",
       "0         NaN         2013             True  /incidents/2013/8/17/rim-fire/   \n",
       "\n",
       "  ConditionStatement ControlStatement  Counties  ...  \\\n",
       "0                NaN              NaN  Tuolumne  ...   \n",
       "\n",
       "                                      SearchKeywords               Started  \\\n",
       "0  Rim Fire, Stanislaus National Forest, Yosemite...  2013-08-17T15:25:00Z   \n",
       "\n",
       "      Status  StructuresDamaged StructuresDestroyed  StructuresEvacuated  \\\n",
       "0  Finalized                NaN                 NaN                  NaN   \n",
       "\n",
       "   StructuresThreatened                              UniqueId  \\\n",
       "0                   NaN  5fb18d4d-213f-4d83-a179-daaf11939e78   \n",
       "\n",
       "                Updated  WaterTenders  \n",
       "0  2013-09-06T18:30:00Z           NaN  \n",
       "\n",
       "[1 rows x 40 columns]"
      ]
     },
     "execution_count": 129,
     "metadata": {},
     "output_type": "execute_result"
    }
   ],
   "source": [
    "full_fires_df = pd.read_csv('/Users/kaciewebster/Documents/dsi/ca-fire-incidents/California_Fire_Incidents.csv')\n",
    "full_fires_df.head(1)"
   ]
  },
  {
   "cell_type": "code",
   "execution_count": 130,
   "metadata": {},
   "outputs": [
    {
     "data": {
      "text/plain": [
       "(1636, 40)"
      ]
     },
     "execution_count": 130,
     "metadata": {},
     "output_type": "execute_result"
    }
   ],
   "source": [
    "full_fires_df.shape"
   ]
  },
  {
   "cell_type": "code",
   "execution_count": 131,
   "metadata": {},
   "outputs": [
    {
     "name": "stdout",
     "output_type": "stream",
     "text": [
      "<class 'pandas.core.frame.DataFrame'>\n",
      "RangeIndex: 1636 entries, 0 to 1635\n",
      "Data columns (total 40 columns):\n",
      " #   Column                Non-Null Count  Dtype  \n",
      "---  ------                --------------  -----  \n",
      " 0   AcresBurned           1633 non-null   float64\n",
      " 1   Active                1636 non-null   bool   \n",
      " 2   AdminUnit             1636 non-null   object \n",
      " 3   AirTankers            28 non-null     float64\n",
      " 4   ArchiveYear           1636 non-null   int64  \n",
      " 5   CalFireIncident       1636 non-null   bool   \n",
      " 6   CanonicalUrl          1636 non-null   object \n",
      " 7   ConditionStatement    284 non-null    object \n",
      " 8   ControlStatement      111 non-null    object \n",
      " 9   Counties              1636 non-null   object \n",
      " 10  CountyIds             1636 non-null   object \n",
      " 11  CrewsInvolved         171 non-null    float64\n",
      " 12  Dozers                123 non-null    float64\n",
      " 13  Engines               191 non-null    float64\n",
      " 14  Extinguished          1577 non-null   object \n",
      " 15  Fatalities            21 non-null     float64\n",
      " 16  Featured              1636 non-null   bool   \n",
      " 17  Final                 1636 non-null   bool   \n",
      " 18  FuelType              12 non-null     object \n",
      " 19  Helicopters           84 non-null     float64\n",
      " 20  Injuries              120 non-null    float64\n",
      " 21  Latitude              1636 non-null   float64\n",
      " 22  Location              1636 non-null   object \n",
      " 23  Longitude             1636 non-null   float64\n",
      " 24  MajorIncident         1636 non-null   bool   \n",
      " 25  Name                  1636 non-null   object \n",
      " 26  PercentContained      1633 non-null   float64\n",
      " 27  PersonnelInvolved     204 non-null    float64\n",
      " 28  Public                1636 non-null   bool   \n",
      " 29  SearchDescription     1619 non-null   object \n",
      " 30  SearchKeywords        1433 non-null   object \n",
      " 31  Started               1636 non-null   object \n",
      " 32  Status                1636 non-null   object \n",
      " 33  StructuresDamaged     67 non-null     float64\n",
      " 34  StructuresDestroyed   175 non-null    float64\n",
      " 35  StructuresEvacuated   0 non-null      float64\n",
      " 36  StructuresThreatened  30 non-null     float64\n",
      " 37  UniqueId              1636 non-null   object \n",
      " 38  Updated               1636 non-null   object \n",
      " 39  WaterTenders          146 non-null    float64\n",
      "dtypes: bool(6), float64(17), int64(1), object(16)\n",
      "memory usage: 444.3+ KB\n"
     ]
    }
   ],
   "source": [
    "full_fires_df.info()"
   ]
  },
  {
   "cell_type": "code",
   "execution_count": null,
   "metadata": {},
   "outputs": [],
   "source": []
  },
  {
   "cell_type": "code",
   "execution_count": null,
   "metadata": {},
   "outputs": [],
   "source": []
  },
  {
   "cell_type": "markdown",
   "metadata": {},
   "source": [
    "DATA CLEANING"
   ]
  },
  {
   "cell_type": "code",
   "execution_count": 132,
   "metadata": {},
   "outputs": [],
   "source": [
    "full_fires_df['StartDate'] = full_fires_df['Started'].apply(lambda x: pd.to_datetime(x[:10]))\n",
    "# creates a date column for when the fire started.\n",
    "full_fires_df['StartYear'] = full_fires_df['Started'].apply(lambda x: int(x[:4]))\n",
    "# creates a year column for when the fire started.\n",
    "full_fires_df['StartMonth'] = full_fires_df['Started'].apply(lambda x: int(x[5:7]))\n",
    "# creates a month column for when the fire started."
   ]
  },
  {
   "cell_type": "code",
   "execution_count": 133,
   "metadata": {},
   "outputs": [
    {
     "data": {
      "text/plain": [
       "(1636, 10)"
      ]
     },
     "execution_count": 133,
     "metadata": {},
     "output_type": "execute_result"
    }
   ],
   "source": [
    "ca_fires_df = full_fires_df[['UniqueId', 'Name', 'Counties', 'StartYear', 'StartMonth', 'StartDate', 'AcresBurned', 'Latitude', 'Longitude', 'MajorIncident']]\n",
    "ca_fires_df.shape\n",
    "# creates dataframe that I will work out of."
   ]
  },
  {
   "cell_type": "code",
   "execution_count": 187,
   "metadata": {},
   "outputs": [
    {
     "name": "stdout",
     "output_type": "stream",
     "text": [
      "<class 'pandas.core.frame.DataFrame'>\n",
      "RangeIndex: 1410 entries, 0 to 1409\n",
      "Data columns (total 10 columns):\n",
      " #   Column         Non-Null Count  Dtype         \n",
      "---  ------         --------------  -----         \n",
      " 0   UniqueId       1410 non-null   object        \n",
      " 1   Name           1410 non-null   object        \n",
      " 2   Counties       1410 non-null   object        \n",
      " 3   StartYear      1410 non-null   int64         \n",
      " 4   StartMonth     1410 non-null   int64         \n",
      " 5   StartDate      1410 non-null   datetime64[ns]\n",
      " 6   AcresBurned    1410 non-null   float64       \n",
      " 7   Latitude       1410 non-null   float64       \n",
      " 8   Longitude      1410 non-null   float64       \n",
      " 9   MajorIncident  1410 non-null   bool          \n",
      "dtypes: bool(1), datetime64[ns](1), float64(3), int64(2), object(3)\n",
      "memory usage: 100.6+ KB\n"
     ]
    }
   ],
   "source": [
    "ca_fires_df.info()"
   ]
  },
  {
   "cell_type": "code",
   "execution_count": 135,
   "metadata": {},
   "outputs": [
    {
     "data": {
      "text/plain": [
       "(1605, 10)"
      ]
     },
     "execution_count": 135,
     "metadata": {},
     "output_type": "execute_result"
    }
   ],
   "source": [
    "ca_fires_df = ca_fires_df.dropna(axis=0, subset=['AcresBurned'])\n",
    "ca_fires_df = ca_fires_df[ca_fires_df['AcresBurned'] != 0]\n",
    "ca_fires_df.shape\n",
    "# removes zeros and null values from AcresBurned column."
   ]
  },
  {
   "cell_type": "code",
   "execution_count": 136,
   "metadata": {},
   "outputs": [
    {
     "data": {
      "text/plain": [
       "(1439, 10)"
      ]
     },
     "execution_count": 136,
     "metadata": {},
     "output_type": "execute_result"
    }
   ],
   "source": [
    "ca_fires_df = ca_fires_df[(ca_fires_df['Latitude'] >= 32) & (ca_fires_df['Latitude'] <= 42) & (ca_fires_df['Longitude'] <= -114) & (ca_fires_df['Longitude'] >= -126)]\n",
    "ca_fires_df.shape\n",
    "# removes observations that are not in CA."
   ]
  },
  {
   "cell_type": "code",
   "execution_count": 137,
   "metadata": {},
   "outputs": [
    {
     "data": {
      "text/html": [
       "<div>\n",
       "<style scoped>\n",
       "    .dataframe tbody tr th:only-of-type {\n",
       "        vertical-align: middle;\n",
       "    }\n",
       "\n",
       "    .dataframe tbody tr th {\n",
       "        vertical-align: top;\n",
       "    }\n",
       "\n",
       "    .dataframe thead th {\n",
       "        text-align: right;\n",
       "    }\n",
       "</style>\n",
       "<table border=\"1\" class=\"dataframe\">\n",
       "  <thead>\n",
       "    <tr style=\"text-align: right;\">\n",
       "      <th></th>\n",
       "      <th>UniqueId</th>\n",
       "      <th>Name</th>\n",
       "      <th>Counties</th>\n",
       "      <th>StartYear</th>\n",
       "      <th>StartMonth</th>\n",
       "      <th>StartDate</th>\n",
       "      <th>AcresBurned</th>\n",
       "      <th>Latitude</th>\n",
       "      <th>Longitude</th>\n",
       "      <th>MajorIncident</th>\n",
       "    </tr>\n",
       "  </thead>\n",
       "  <tbody>\n",
       "    <tr>\n",
       "      <th>1424</th>\n",
       "      <td>3086ac2b-bbb3-4321-81e3-3cfdb9e571e9</td>\n",
       "      <td>Jasper Fire</td>\n",
       "      <td>State of Nevada</td>\n",
       "      <td>2019</td>\n",
       "      <td>7</td>\n",
       "      <td>2019-07-13</td>\n",
       "      <td>1165.0</td>\n",
       "      <td>39.631945</td>\n",
       "      <td>-119.769881</td>\n",
       "      <td>False</td>\n",
       "    </tr>\n",
       "  </tbody>\n",
       "</table>\n",
       "</div>"
      ],
      "text/plain": [
       "                                  UniqueId         Name         Counties  \\\n",
       "1424  3086ac2b-bbb3-4321-81e3-3cfdb9e571e9  Jasper Fire  State of Nevada   \n",
       "\n",
       "      StartYear  StartMonth  StartDate  AcresBurned   Latitude   Longitude  \\\n",
       "1424       2019           7 2019-07-13       1165.0  39.631945 -119.769881   \n",
       "\n",
       "      MajorIncident  \n",
       "1424          False  "
      ]
     },
     "execution_count": 137,
     "metadata": {},
     "output_type": "execute_result"
    }
   ],
   "source": [
    "ca_fires_df[(ca_fires_df['Latitude'] >= 38) & (ca_fires_df['Latitude'] <= 41) & (ca_fires_df['Longitude'] <= -115) & (ca_fires_df['Longitude'] >= -118)]\n",
    "ca_fires_df[ca_fires_df['Counties'] == 'State of Nevada']\n",
    "# locates which observations were falling in Nevada."
   ]
  },
  {
   "cell_type": "code",
   "execution_count": 138,
   "metadata": {},
   "outputs": [
    {
     "data": {
      "text/plain": [
       "(1437, 10)"
      ]
     },
     "execution_count": 138,
     "metadata": {},
     "output_type": "execute_result"
    }
   ],
   "source": [
    "ca_fires_df = ca_fires_df[ca_fires_df['Counties'] != 'State of Nevada']\n",
    "ca_fires_df = ca_fires_df[ca_fires_df['Name'] != 'Tram Fire']\n",
    "ca_fires_df.shape\n",
    "# removes observations that are in Nevada."
   ]
  },
  {
   "cell_type": "code",
   "execution_count": 139,
   "metadata": {},
   "outputs": [
    {
     "data": {
      "text/plain": [
       "(1435, 10)"
      ]
     },
     "execution_count": 139,
     "metadata": {},
     "output_type": "execute_result"
    }
   ],
   "source": [
    "ca_fires_df = ca_fires_df[ca_fires_df['StartYear'] >= 2013]\n",
    "ca_fires_df.shape\n",
    "# removes observations that are not in the years 2013-2019."
   ]
  },
  {
   "cell_type": "code",
   "execution_count": 140,
   "metadata": {},
   "outputs": [
    {
     "data": {
      "text/plain": [
       "1410"
      ]
     },
     "execution_count": 140,
     "metadata": {},
     "output_type": "execute_result"
    }
   ],
   "source": [
    "ca_fires_df['UniqueId'].nunique()\n",
    "# returns number of unique fires."
   ]
  },
  {
   "cell_type": "code",
   "execution_count": 141,
   "metadata": {},
   "outputs": [
    {
     "data": {
      "text/plain": [
       "(1410, 10)"
      ]
     },
     "execution_count": 141,
     "metadata": {},
     "output_type": "execute_result"
    }
   ],
   "source": [
    "ca_fires_df = ca_fires_df.groupby('UniqueId').max().reset_index()\n",
    "ca_fires_df.shape\n",
    "# removes duplicate records of fires."
   ]
  },
  {
   "cell_type": "code",
   "execution_count": 142,
   "metadata": {},
   "outputs": [
    {
     "data": {
      "text/html": [
       "<div>\n",
       "<style scoped>\n",
       "    .dataframe tbody tr th:only-of-type {\n",
       "        vertical-align: middle;\n",
       "    }\n",
       "\n",
       "    .dataframe tbody tr th {\n",
       "        vertical-align: top;\n",
       "    }\n",
       "\n",
       "    .dataframe thead th {\n",
       "        text-align: right;\n",
       "    }\n",
       "</style>\n",
       "<table border=\"1\" class=\"dataframe\">\n",
       "  <thead>\n",
       "    <tr style=\"text-align: right;\">\n",
       "      <th></th>\n",
       "      <th>UniqueId</th>\n",
       "      <th>Name</th>\n",
       "      <th>Counties</th>\n",
       "      <th>StartYear</th>\n",
       "      <th>StartMonth</th>\n",
       "      <th>StartDate</th>\n",
       "      <th>AcresBurned</th>\n",
       "      <th>Latitude</th>\n",
       "      <th>Longitude</th>\n",
       "      <th>MajorIncident</th>\n",
       "    </tr>\n",
       "  </thead>\n",
       "  <tbody>\n",
       "    <tr>\n",
       "      <th>0</th>\n",
       "      <td>00089805-cdee-4607-8b67-1653bee463bc</td>\n",
       "      <td>Gulch Fire</td>\n",
       "      <td>Modoc</td>\n",
       "      <td>2014</td>\n",
       "      <td>7</td>\n",
       "      <td>2014-07-03</td>\n",
       "      <td>1469.0</td>\n",
       "      <td>41.489</td>\n",
       "      <td>-120.904</td>\n",
       "      <td>True</td>\n",
       "    </tr>\n",
       "  </tbody>\n",
       "</table>\n",
       "</div>"
      ],
      "text/plain": [
       "                               UniqueId        Name Counties  StartYear  \\\n",
       "0  00089805-cdee-4607-8b67-1653bee463bc  Gulch Fire    Modoc       2014   \n",
       "\n",
       "   StartMonth  StartDate  AcresBurned  Latitude  Longitude  MajorIncident  \n",
       "0           7 2014-07-03       1469.0    41.489   -120.904           True  "
      ]
     },
     "execution_count": 142,
     "metadata": {},
     "output_type": "execute_result"
    }
   ],
   "source": [
    "ca_fires_df.head(1)"
   ]
  },
  {
   "cell_type": "code",
   "execution_count": 143,
   "metadata": {},
   "outputs": [
    {
     "name": "stdout",
     "output_type": "stream",
     "text": [
      "<class 'pandas.core.frame.DataFrame'>\n",
      "RangeIndex: 1410 entries, 0 to 1409\n",
      "Data columns (total 10 columns):\n",
      " #   Column         Non-Null Count  Dtype         \n",
      "---  ------         --------------  -----         \n",
      " 0   UniqueId       1410 non-null   object        \n",
      " 1   Name           1410 non-null   object        \n",
      " 2   Counties       1410 non-null   object        \n",
      " 3   StartYear      1410 non-null   int64         \n",
      " 4   StartMonth     1410 non-null   int64         \n",
      " 5   StartDate      1410 non-null   datetime64[ns]\n",
      " 6   AcresBurned    1410 non-null   float64       \n",
      " 7   Latitude       1410 non-null   float64       \n",
      " 8   Longitude      1410 non-null   float64       \n",
      " 9   MajorIncident  1410 non-null   bool          \n",
      "dtypes: bool(1), datetime64[ns](1), float64(3), int64(2), object(3)\n",
      "memory usage: 100.6+ KB\n"
     ]
    }
   ],
   "source": [
    "ca_fires_df.info()"
   ]
  },
  {
   "cell_type": "code",
   "execution_count": 144,
   "metadata": {},
   "outputs": [
    {
     "data": {
      "text/html": [
       "<div>\n",
       "<style scoped>\n",
       "    .dataframe tbody tr th:only-of-type {\n",
       "        vertical-align: middle;\n",
       "    }\n",
       "\n",
       "    .dataframe tbody tr th {\n",
       "        vertical-align: top;\n",
       "    }\n",
       "\n",
       "    .dataframe thead th {\n",
       "        text-align: right;\n",
       "    }\n",
       "</style>\n",
       "<table border=\"1\" class=\"dataframe\">\n",
       "  <thead>\n",
       "    <tr style=\"text-align: right;\">\n",
       "      <th></th>\n",
       "      <th>StartYear</th>\n",
       "      <th>StartMonth</th>\n",
       "      <th>AcresBurned</th>\n",
       "      <th>Latitude</th>\n",
       "      <th>Longitude</th>\n",
       "    </tr>\n",
       "  </thead>\n",
       "  <tbody>\n",
       "    <tr>\n",
       "      <th>count</th>\n",
       "      <td>1410.000000</td>\n",
       "      <td>1410.000000</td>\n",
       "      <td>1410.000000</td>\n",
       "      <td>1410.000000</td>\n",
       "      <td>1410.000000</td>\n",
       "    </tr>\n",
       "    <tr>\n",
       "      <th>mean</th>\n",
       "      <td>2016.807801</td>\n",
       "      <td>7.400709</td>\n",
       "      <td>3247.733333</td>\n",
       "      <td>37.223930</td>\n",
       "      <td>-120.274294</td>\n",
       "    </tr>\n",
       "    <tr>\n",
       "      <th>std</th>\n",
       "      <td>1.803497</td>\n",
       "      <td>1.749906</td>\n",
       "      <td>19507.818882</td>\n",
       "      <td>2.551992</td>\n",
       "      <td>2.003783</td>\n",
       "    </tr>\n",
       "    <tr>\n",
       "      <th>min</th>\n",
       "      <td>2013.000000</td>\n",
       "      <td>1.000000</td>\n",
       "      <td>2.000000</td>\n",
       "      <td>32.557546</td>\n",
       "      <td>-124.196290</td>\n",
       "    </tr>\n",
       "    <tr>\n",
       "      <th>25%</th>\n",
       "      <td>2016.000000</td>\n",
       "      <td>6.000000</td>\n",
       "      <td>35.250000</td>\n",
       "      <td>34.906157</td>\n",
       "      <td>-121.848938</td>\n",
       "    </tr>\n",
       "    <tr>\n",
       "      <th>50%</th>\n",
       "      <td>2017.000000</td>\n",
       "      <td>7.000000</td>\n",
       "      <td>100.000000</td>\n",
       "      <td>37.414110</td>\n",
       "      <td>-120.695931</td>\n",
       "    </tr>\n",
       "    <tr>\n",
       "      <th>75%</th>\n",
       "      <td>2018.000000</td>\n",
       "      <td>9.000000</td>\n",
       "      <td>400.000000</td>\n",
       "      <td>39.246458</td>\n",
       "      <td>-118.731552</td>\n",
       "    </tr>\n",
       "    <tr>\n",
       "      <th>max</th>\n",
       "      <td>2019.000000</td>\n",
       "      <td>12.000000</td>\n",
       "      <td>410203.000000</td>\n",
       "      <td>41.999341</td>\n",
       "      <td>-114.572650</td>\n",
       "    </tr>\n",
       "  </tbody>\n",
       "</table>\n",
       "</div>"
      ],
      "text/plain": [
       "         StartYear   StartMonth    AcresBurned     Latitude    Longitude\n",
       "count  1410.000000  1410.000000    1410.000000  1410.000000  1410.000000\n",
       "mean   2016.807801     7.400709    3247.733333    37.223930  -120.274294\n",
       "std       1.803497     1.749906   19507.818882     2.551992     2.003783\n",
       "min    2013.000000     1.000000       2.000000    32.557546  -124.196290\n",
       "25%    2016.000000     6.000000      35.250000    34.906157  -121.848938\n",
       "50%    2017.000000     7.000000     100.000000    37.414110  -120.695931\n",
       "75%    2018.000000     9.000000     400.000000    39.246458  -118.731552\n",
       "max    2019.000000    12.000000  410203.000000    41.999341  -114.572650"
      ]
     },
     "execution_count": 144,
     "metadata": {},
     "output_type": "execute_result"
    }
   ],
   "source": [
    "ca_fires_df.describe()"
   ]
  },
  {
   "cell_type": "code",
   "execution_count": null,
   "metadata": {},
   "outputs": [],
   "source": []
  },
  {
   "cell_type": "code",
   "execution_count": null,
   "metadata": {},
   "outputs": [],
   "source": []
  },
  {
   "cell_type": "markdown",
   "metadata": {},
   "source": [
    "EXPLORATORY DATA ANALYSIS"
   ]
  },
  {
   "cell_type": "code",
   "execution_count": 188,
   "metadata": {},
   "outputs": [
    {
     "data": {
      "image/png": "[encoded data removed]",
      "text/plain": [
       "<Figure size 432x288 with 1 Axes>"
      ]
     },
     "metadata": {
      "needs_background": "light"
     },
     "output_type": "display_data"
    }
   ],
   "source": [
    "num_fires = ca_fires_df.groupby('StartYear')['AcresBurned'].count()\n",
    "years = sorted(ca_fires_df['StartYear'].unique())\n",
    "\n",
    "fig, ax = plt.subplots()\n",
    "ax.plot(years, num_fires, color='red')\n",
    "ax.set_title('Number of Fires per Year')\n",
    "ax.set_xlabel('Year')\n",
    "ax.set_ylabel('Fires')\n",
    "fig.savefig('num-fires-line-plot.png')\n",
    "\n",
    "plt.show()"
   ]
  },
  {
   "cell_type": "code",
   "execution_count": 190,
   "metadata": {},
   "outputs": [
    {
     "data": {
      "image/png": "[encoded data removed]",
      "text/plain": [
       "<Figure size 432x288 with 1 Axes>"
      ]
     },
     "metadata": {
      "needs_background": "light"
     },
     "output_type": "display_data"
    }
   ],
   "source": [
    "sum_acres = ca_fires_df.groupby('StartYear')['AcresBurned'].sum()\n",
    "years = sorted(ca_fires_df['StartYear'].unique())\n",
    "\n",
    "fig, ax = plt.subplots()\n",
    "ax.plot(years, sum_acres, color='red')\n",
    "ax.set_title('Total Acres Burned per Year')\n",
    "ax.set_xlabel('Year')\n",
    "ax.set_ylabel('Acres')\n",
    "fig.savefig('total-acres-line-plot.png')\n",
    "\n",
    "plt.show()"
   ]
  },
  {
   "cell_type": "code",
   "execution_count": 191,
   "metadata": {},
   "outputs": [
    {
     "data": {
      "image/png": "[encoded data removed]",
      "text/plain": [
       "<Figure size 432x288 with 1 Axes>"
      ]
     },
     "metadata": {
      "needs_background": "light"
     },
     "output_type": "display_data"
    }
   ],
   "source": [
    "median_acres = ca_fires_df.groupby('StartYear')['AcresBurned'].median()\n",
    "years = sorted(ca_fires_df['StartYear'].unique())\n",
    "\n",
    "fig, ax = plt.subplots()\n",
    "ax.plot(years, median_acres, color='red')\n",
    "ax.set_title('Median Acres Burned per Year')\n",
    "ax.set_xlabel('Year')\n",
    "ax.set_ylabel('Acres')\n",
    "fig.savefig('med-acres-line-plot.png')\n",
    "\n",
    "plt.show()"
   ]
  },
  {
   "cell_type": "code",
   "execution_count": 192,
   "metadata": {},
   "outputs": [
    {
     "data": {
      "image/png": "[encoded data removed]",
      "text/plain": [
       "<Figure size 432x288 with 1 Axes>"
      ]
     },
     "metadata": {
      "needs_background": "light"
     },
     "output_type": "display_data"
    }
   ],
   "source": [
    "max_acres = ca_fires_df.groupby('StartYear')['AcresBurned'].max()\n",
    "years = sorted(ca_fires_df['StartYear'].unique())\n",
    "\n",
    "fig, ax = plt.subplots()\n",
    "ax.plot(years, max_acres, color='red')\n",
    "ax.set_title('Acres of Largest Fire per Year')\n",
    "ax.set_xlabel('Year')\n",
    "ax.set_ylabel('Acres')\n",
    "fig.savefig('max-acres-line-plot.png')\n",
    "\n",
    "plt.show()"
   ]
  },
  {
   "cell_type": "code",
   "execution_count": 189,
   "metadata": {},
   "outputs": [],
   "source": [
    "df_copy = ca_fires_df.copy()\n",
    "df_years_list = []\n",
    "for year in df_copy['StartYear'].sort_values().unique():\n",
    "    df_years_list.append(df_copy.loc[df_copy['StartYear']==year, ['Latitude', 'Longitude']].groupby(['Latitude', 'Longitude']).sum().reset_index().values.tolist())\n",
    "# creates a list of lists where each element is a year and each element in that list element contains the latitudes and longitudes of each fire.\n",
    "    \n",
    "m = folium.Map(location=[34.0522, -118.2437], zoom_start=5)\n",
    "plugins.HeatMapWithTime(df_years_list, index=[2013, 2014, 2015, 2016, 2017, 2018, 2019], \n",
    "                        radius=5, min_opacity=0.5, max_opacity=0.8, use_local_extrema=True).add_to(m)\n",
    "m\n",
    "m.save('time-map.html')"
   ]
  },
  {
   "cell_type": "code",
   "execution_count": 150,
   "metadata": {},
   "outputs": [
    {
     "data": {
      "text/html": [
       "<div>\n",
       "<style scoped>\n",
       "    .dataframe tbody tr th:only-of-type {\n",
       "        vertical-align: middle;\n",
       "    }\n",
       "\n",
       "    .dataframe tbody tr th {\n",
       "        vertical-align: top;\n",
       "    }\n",
       "\n",
       "    .dataframe thead th {\n",
       "        text-align: right;\n",
       "    }\n",
       "</style>\n",
       "<table border=\"1\" class=\"dataframe\">\n",
       "  <thead>\n",
       "    <tr style=\"text-align: right;\">\n",
       "      <th></th>\n",
       "      <th>StartYear</th>\n",
       "      <th>StartMonth</th>\n",
       "      <th>AcresBurned</th>\n",
       "    </tr>\n",
       "  </thead>\n",
       "  <tbody>\n",
       "    <tr>\n",
       "      <th>0</th>\n",
       "      <td>2013</td>\n",
       "      <td>2</td>\n",
       "      <td>406.0</td>\n",
       "    </tr>\n",
       "    <tr>\n",
       "      <th>1</th>\n",
       "      <td>2013</td>\n",
       "      <td>4</td>\n",
       "      <td>379.0</td>\n",
       "    </tr>\n",
       "    <tr>\n",
       "      <th>2</th>\n",
       "      <td>2013</td>\n",
       "      <td>5</td>\n",
       "      <td>53957.0</td>\n",
       "    </tr>\n",
       "    <tr>\n",
       "      <th>3</th>\n",
       "      <td>2013</td>\n",
       "      <td>6</td>\n",
       "      <td>5127.0</td>\n",
       "    </tr>\n",
       "    <tr>\n",
       "      <th>4</th>\n",
       "      <td>2013</td>\n",
       "      <td>7</td>\n",
       "      <td>77082.0</td>\n",
       "    </tr>\n",
       "    <tr>\n",
       "      <th>...</th>\n",
       "      <td>...</td>\n",
       "      <td>...</td>\n",
       "      <td>...</td>\n",
       "    </tr>\n",
       "    <tr>\n",
       "      <th>59</th>\n",
       "      <td>2019</td>\n",
       "      <td>7</td>\n",
       "      <td>20463.0</td>\n",
       "    </tr>\n",
       "    <tr>\n",
       "      <th>60</th>\n",
       "      <td>2019</td>\n",
       "      <td>8</td>\n",
       "      <td>15129.0</td>\n",
       "    </tr>\n",
       "    <tr>\n",
       "      <th>61</th>\n",
       "      <td>2019</td>\n",
       "      <td>9</td>\n",
       "      <td>101251.0</td>\n",
       "    </tr>\n",
       "    <tr>\n",
       "      <th>62</th>\n",
       "      <td>2019</td>\n",
       "      <td>10</td>\n",
       "      <td>119814.0</td>\n",
       "    </tr>\n",
       "    <tr>\n",
       "      <th>63</th>\n",
       "      <td>2019</td>\n",
       "      <td>11</td>\n",
       "      <td>6109.0</td>\n",
       "    </tr>\n",
       "  </tbody>\n",
       "</table>\n",
       "<p>64 rows × 3 columns</p>\n",
       "</div>"
      ],
      "text/plain": [
       "    StartYear  StartMonth  AcresBurned\n",
       "0        2013           2        406.0\n",
       "1        2013           4        379.0\n",
       "2        2013           5      53957.0\n",
       "3        2013           6       5127.0\n",
       "4        2013           7      77082.0\n",
       "..        ...         ...          ...\n",
       "59       2019           7      20463.0\n",
       "60       2019           8      15129.0\n",
       "61       2019           9     101251.0\n",
       "62       2019          10     119814.0\n",
       "63       2019          11       6109.0\n",
       "\n",
       "[64 rows x 3 columns]"
      ]
     },
     "execution_count": 150,
     "metadata": {},
     "output_type": "execute_result"
    }
   ],
   "source": [
    "grouped_acres_sum = ca_fires_df.groupby(['StartYear', 'StartMonth']).sum('AcresBurned')['AcresBurned'].reset_index()\n",
    "grouped_acres_sum"
   ]
  },
  {
   "cell_type": "code",
   "execution_count": 151,
   "metadata": {},
   "outputs": [],
   "source": [
    "def parse_grouped_sums(grouped_df, year_lst):\n",
    "    '''\n",
    "    Creates a list of dataframes parsed by year.\n",
    "    Parameters: grouped dataframe, list of years\n",
    "    Returns: list of dataframes\n",
    "    '''\n",
    "    parse_lst = []\n",
    "    \n",
    "    for year in year_lst:\n",
    "        parse_lst.append(grouped_df[grouped_df['StartYear']==year])\n",
    "    return parse_lst "
   ]
  },
  {
   "cell_type": "code",
   "execution_count": 194,
   "metadata": {},
   "outputs": [
    {
     "data": {
      "image/png": "[encoded data removed]",
      "text/plain": [
       "<Figure size 576x1800 with 7 Axes>"
      ]
     },
     "metadata": {
      "needs_background": "light"
     },
     "output_type": "display_data"
    }
   ],
   "source": [
    "year_lst = list(range(2013, 2020))\n",
    "df_lst = parse_grouped_sums(grouped_acres_sum, year_lst)\n",
    "\n",
    "month_labels = ['Jan.', 'Feb.', 'Mar.', 'Apr.', 'May', 'Jun.', 'Jul.', 'Aug.', 'Sep.', 'Oct.', 'Nov.', 'Dec.']\n",
    "fig, axs = plt.subplots(7, 1, figsize=(8, 25))\n",
    "\n",
    "for idx, ax in enumerate(axs.flatten()):\n",
    "    ax.bar(df_lst[idx]['StartMonth'], height=df_lst[idx]['AcresBurned'], color='red')\n",
    "        \n",
    "    ax.set_xticks(list(range(1, 13)))\n",
    "    ax.set_xticklabels(month_labels, rotation=45)\n",
    "        \n",
    "    ax.set_title(f'Acres Burned per Month ({year_lst[idx]})')\n",
    "    ax.set_xlabel('Months')\n",
    "    ax.set_ylabel('Acres')\n",
    "\n",
    "fig.tight_layout()\n",
    "plt.show()\n",
    "\n",
    "fig.savefig('months-bar-plots.png')"
   ]
  },
  {
   "cell_type": "code",
   "execution_count": null,
   "metadata": {},
   "outputs": [],
   "source": []
  },
  {
   "cell_type": "code",
   "execution_count": null,
   "metadata": {},
   "outputs": [],
   "source": []
  },
  {
   "cell_type": "markdown",
   "metadata": {},
   "source": [
    "HYPOTHESIS TEST"
   ]
  },
  {
   "cell_type": "markdown",
   "metadata": {},
   "source": [
    "H0: There is no trend for the number of acres burned by the California Fires over the years 2013-2019.\n",
    "\n",
    "H1: The number of acres burned by the California Fires has been increasing over the years."
   ]
  },
  {
   "cell_type": "code",
   "execution_count": 176,
   "metadata": {},
   "outputs": [
    {
     "data": {
      "image/png": "[encoded data removed]",
      "text/plain": [
       "<Figure size 1152x288 with 1 Axes>"
      ]
     },
     "metadata": {
      "needs_background": "light"
     },
     "output_type": "display_data"
    }
   ],
   "source": [
    "fig, ax = plt.subplots(figsize=(16, 4))\n",
    "ax.scatter(ca_fires_df['StartDate'], ca_fires_df['AcresBurned'])\n",
    "\n",
    "ax.set_title('Acres Burned vs. Time')\n",
    "ax.set_xlabel('Time')\n",
    "ax.set_ylabel('Acres Burned')\n",
    "ax.set_ylim(10**3, 10**6)\n",
    "\n",
    "plt.show()\n",
    "fig.savefig(time-vs-acres-scat)"
   ]
  },
  {
   "cell_type": "code",
   "execution_count": 154,
   "metadata": {},
   "outputs": [],
   "source": [
    "ca_fires_copy = ca_fires_df.copy()\n",
    "ca_fires_copy = ca_fires_copy.sort_values('StartDate')\n",
    "# sorts the dataset in chronological order."
   ]
  },
  {
   "cell_type": "code",
   "execution_count": 155,
   "metadata": {},
   "outputs": [],
   "source": [
    "time_diff = []\n",
    "date_lst = list(ca_fires_copy['StartDate'].sort_values())\n",
    "for idx in range(0, len(date_lst)-1):\n",
    "    time_diff.append(date_lst[idx+1]-date_lst[0])\n",
    "# creates a list of time differences from the data point to the first recorded observation.\n",
    "\n",
    "time_diff.insert(0, timedelta(days=0))\n",
    "# inserts a 0 since the first day is the initial day.\n",
    "\n",
    "ca_fires_copy['TimeDifference'] = time_diff\n",
    "# creates a new column with those calculated differences."
   ]
  },
  {
   "cell_type": "code",
   "execution_count": 156,
   "metadata": {},
   "outputs": [],
   "source": [
    "time_diff_int = []\n",
    "for date in list(ca_fires_copy['TimeDifference']):\n",
    "    time_diff_int.append(date.days)\n",
    "# creates a list that changes the timedelta data to integers."
   ]
  },
  {
   "cell_type": "code",
   "execution_count": 157,
   "metadata": {},
   "outputs": [],
   "source": [
    "ca_fires_copy['TimeDiffAsInt'] = time_diff_int\n",
    "# adds the integer list as a new column."
   ]
  },
  {
   "cell_type": "code",
   "execution_count": 158,
   "metadata": {},
   "outputs": [
    {
     "data": {
      "text/plain": [
       "(-0.01256766194383122, 0.6372727443945736)"
      ]
     },
     "execution_count": 158,
     "metadata": {},
     "output_type": "execute_result"
    }
   ],
   "source": [
    "corr, p_value = stats.pearsonr(ca_fires_copy['TimeDiffAsInt'], ca_fires_copy['AcresBurned'])\n",
    "corr, p_value"
   ]
  },
  {
   "cell_type": "code",
   "execution_count": 159,
   "metadata": {},
   "outputs": [
    {
     "data": {
      "text/plain": [
       "(-0.10597020722975467, 6.694812674182656e-05)"
      ]
     },
     "execution_count": 159,
     "metadata": {},
     "output_type": "execute_result"
    }
   ],
   "source": [
    "corr, p_value = stats.spearmanr(ca_fires_copy['TimeDiffAsInt'], ca_fires_copy['AcresBurned'])\n",
    "corr, p_value"
   ]
  },
  {
   "cell_type": "code",
   "execution_count": null,
   "metadata": {},
   "outputs": [],
   "source": []
  },
  {
   "cell_type": "code",
   "execution_count": 160,
   "metadata": {},
   "outputs": [],
   "source": [
    "mi_lst = []\n",
    "for year in year_lst:\n",
    "    mi_lst.append(ca_fires_df[ca_fires_df['StartYear']==year]['MajorIncident'])"
   ]
  },
  {
   "cell_type": "code",
   "execution_count": 161,
   "metadata": {},
   "outputs": [],
   "source": [
    "nk_dct = {}\n",
    "for bool_lst in mi_lst:\n",
    "    nk_dct[len(bool_lst)] = sum(bool_lst)"
   ]
  },
  {
   "cell_type": "code",
   "execution_count": 162,
   "metadata": {},
   "outputs": [],
   "source": [
    "post_dist = []\n",
    "for n, k in nk_dct.items():\n",
    "    post_dist.append(stats.distributions.beta(a = 1 + k, b = 1 + n - k))"
   ]
  },
  {
   "cell_type": "code",
   "execution_count": 163,
   "metadata": {},
   "outputs": [
    {
     "data": {
      "image/png": "[encoded data removed]",
      "text/plain": [
       "<Figure size 720x432 with 1 Axes>"
      ]
     },
     "metadata": {
      "needs_background": "light"
     },
     "output_type": "display_data"
    }
   ],
   "source": [
    "fig, ax = plt.subplots(figsize=(10, 6))\n",
    "x = np.linspace(0,1,1000)\n",
    "year_lst = [2013, 2014, 2015, 2016, 2017, 2018, 2019]\n",
    "for idx, dist in enumerate(post_dist):\n",
    "    ax.plot(x, dist.pdf(x), label=f'{year_lst[idx]}')\n",
    "    ax.legend()\n",
    "    ax.set_title('Posterior Probabilities of a Major Incident by Year')\n",
    "    ax.set_xlabel('p')\n",
    "    ax.set_ylabel('pdf')"
   ]
  },
  {
   "cell_type": "code",
   "execution_count": 164,
   "metadata": {},
   "outputs": [],
   "source": [
    "beta_2013 = post_dist[0]\n",
    "beta_2019 = post_dist[-1]"
   ]
  },
  {
   "cell_type": "code",
   "execution_count": 165,
   "metadata": {},
   "outputs": [],
   "source": [
    "sim_2013 = beta_2013.rvs(size=10000)\n",
    "sim_2019 = beta_2019.rvs(size=10000)"
   ]
  },
  {
   "cell_type": "code",
   "execution_count": 166,
   "metadata": {},
   "outputs": [
    {
     "data": {
      "text/plain": [
       "0.0"
      ]
     },
     "execution_count": 166,
     "metadata": {},
     "output_type": "execute_result"
    }
   ],
   "source": [
    "(sim_2019 > sim_2013).mean()"
   ]
  },
  {
   "cell_type": "markdown",
   "metadata": {},
   "source": [
    "There is a very low (basically 0%) chance that the probability that a fire is a major incident in 2019 is greater than that in 2013. Therefore, we can deduce that people's perception of how dangerous the fires are is going down."
   ]
  },
  {
   "cell_type": "code",
   "execution_count": 167,
   "metadata": {},
   "outputs": [
    {
     "data": {
      "text/plain": [
       "0.0664"
      ]
     },
     "execution_count": 167,
     "metadata": {},
     "output_type": "execute_result"
    }
   ],
   "source": [
    "beta_2013 = post_dist[0]\n",
    "beta_2018 = post_dist[-2]\n",
    "sim_2013 = beta_2013.rvs(size=10000)\n",
    "sim_2018 = beta_2018.rvs(size=10000)\n",
    "(sim_2018 > sim_2013).mean()"
   ]
  },
  {
   "cell_type": "markdown",
   "metadata": {},
   "source": [
    "Due to the fact that 2019 was an anomaly, I tested for the difference between 2013 and 2018. There is 6% chance that the probability that a fire is a major incident in 2018 is greater than that in 2013. This is still low, which would allow us to reach the same conclusion."
   ]
  },
  {
   "cell_type": "code",
   "execution_count": null,
   "metadata": {},
   "outputs": [],
   "source": []
  },
  {
   "cell_type": "code",
   "execution_count": null,
   "metadata": {},
   "outputs": [],
   "source": []
  },
  {
   "cell_type": "markdown",
   "metadata": {},
   "source": [
    "CONCLUSION"
   ]
  },
  {
   "cell_type": "markdown",
   "metadata": {},
   "source": [
    "Observations:\n",
    "\n",
    "2019 was known as an \"anomaly\" with heavy rains that were able to prevent fires from starting in California.\n",
    "Even though the 'severity' (AcresBurned) could not be proven to be increasing, the number of fires is still increasing in California.\n",
    "Over the past 6 years, fires have been more 'severe' (AcresBurned) in the summer/fall time rather than the spring/summer time.\n",
    "Now, people do not think of fires as major incidents as much as they did in 2013.\n",
    "Even though 2014 had a low total of acres burned, the area affected was consistently higher than the medians of other years.\n",
    "2014 had a lot of medium fires, whereas other years had a couple big fires and many small fires.\n",
    "\n",
    "Thoughts for next time:\n",
    "\n",
    "Increase the time period.\n",
    "Have a column for temperature and test for a relationship.\n",
    "Find a cause for each fire and see why the number of fires is increasing. Climate change?"
   ]
  },
  {
   "cell_type": "markdown",
   "metadata": {},
   "source": [
    "Sources:\n",
    "\n",
    "https://towardsdatascience.com/data-101s-spatial-visualizations-and-analysis-in-python-with-folium-39730da2adf\n",
    "-showed me how to create a spatial map.\n",
    "\n",
    "https://www.sciencemag.org/news/2020/03/us-wildfires-plummeted-2019-experts-say-it-won-t-last\n",
    "-explained to me why 2019 had so few fires.\n",
    "\n",
    "https://wildfiretoday.com/2015/11/09/was-the-2014-wildfire-season-in-california-affected-by-climate-change/\n",
    "-shed some light on why 2014 had a high median for AcresBurned.\n",
    "\n",
    "https://www.fs.usda.gov/treesearch/pubs/58973\n",
    "-said they use number of fires and area burned to determine how severe a fire is."
   ]
  },
  {
   "cell_type": "code",
   "execution_count": null,
   "metadata": {},
   "outputs": [],
   "source": []
  }
 ],
 "metadata": {
  "kernelspec": {
   "display_name": "Python 3",
   "language": "python",
   "name": "python3"
  },
  "language_info": {
   "codemirror_mode": {
    "name": "ipython",
    "version": 3
   },
   "file_extension": ".py",
   "mimetype": "text/x-python",
   "name": "python",
   "nbconvert_exporter": "python",
   "pygments_lexer": "ipython3",
   "version": "3.7.9"
  }
 },
 "nbformat": 4,
 "nbformat_minor": 4
}
