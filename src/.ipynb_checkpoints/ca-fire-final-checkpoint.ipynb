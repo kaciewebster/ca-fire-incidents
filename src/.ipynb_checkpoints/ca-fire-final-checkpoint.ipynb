{
 "cells": [
  {
   "cell_type": "markdown",
   "metadata": {},
   "source": [
    "IMPORTS"
   ]
  },
  {
   "cell_type": "code",
   "execution_count": 2,
   "metadata": {},
   "outputs": [],
   "source": [
    "import numpy as np\n",
    "import pandas as pd\n",
    "\n",
    "import matplotlib.pyplot as plt\n",
    "import folium\n",
    "import folium.plugins as plugins\n",
    "\n",
    "import scipy.stats as stats\n",
    "from datetime import datetime, timedelta\n",
    "from scipy.stats import pearsonr"
   ]
  },
  {
   "cell_type": "code",
   "execution_count": null,
   "metadata": {},
   "outputs": [],
   "source": []
  },
  {
   "cell_type": "code",
   "execution_count": null,
   "metadata": {},
   "outputs": [],
   "source": []
  },
  {
   "cell_type": "markdown",
   "metadata": {},
   "source": [
    "LOAD DATA"
   ]
  },
  {
   "cell_type": "code",
   "execution_count": 3,
   "metadata": {},
   "outputs": [
    {
     "data": {
      "text/html": [
       "<div>\n",
       "<style scoped>\n",
       "    .dataframe tbody tr th:only-of-type {\n",
       "        vertical-align: middle;\n",
       "    }\n",
       "\n",
       "    .dataframe tbody tr th {\n",
       "        vertical-align: top;\n",
       "    }\n",
       "\n",
       "    .dataframe thead th {\n",
       "        text-align: right;\n",
       "    }\n",
       "</style>\n",
       "<table border=\"1\" class=\"dataframe\">\n",
       "  <thead>\n",
       "    <tr style=\"text-align: right;\">\n",
       "      <th></th>\n",
       "      <th>AcresBurned</th>\n",
       "      <th>Active</th>\n",
       "      <th>AdminUnit</th>\n",
       "      <th>AirTankers</th>\n",
       "      <th>ArchiveYear</th>\n",
       "      <th>CalFireIncident</th>\n",
       "      <th>CanonicalUrl</th>\n",
       "      <th>ConditionStatement</th>\n",
       "      <th>ControlStatement</th>\n",
       "      <th>Counties</th>\n",
       "      <th>...</th>\n",
       "      <th>SearchKeywords</th>\n",
       "      <th>Started</th>\n",
       "      <th>Status</th>\n",
       "      <th>StructuresDamaged</th>\n",
       "      <th>StructuresDestroyed</th>\n",
       "      <th>StructuresEvacuated</th>\n",
       "      <th>StructuresThreatened</th>\n",
       "      <th>UniqueId</th>\n",
       "      <th>Updated</th>\n",
       "      <th>WaterTenders</th>\n",
       "    </tr>\n",
       "  </thead>\n",
       "  <tbody>\n",
       "    <tr>\n",
       "      <th>0</th>\n",
       "      <td>257314.0</td>\n",
       "      <td>False</td>\n",
       "      <td>Stanislaus National Forest/Yosemite National Park</td>\n",
       "      <td>NaN</td>\n",
       "      <td>2013</td>\n",
       "      <td>True</td>\n",
       "      <td>/incidents/2013/8/17/rim-fire/</td>\n",
       "      <td>NaN</td>\n",
       "      <td>NaN</td>\n",
       "      <td>Tuolumne</td>\n",
       "      <td>...</td>\n",
       "      <td>Rim Fire, Stanislaus National Forest, Yosemite...</td>\n",
       "      <td>2013-08-17T15:25:00Z</td>\n",
       "      <td>Finalized</td>\n",
       "      <td>NaN</td>\n",
       "      <td>NaN</td>\n",
       "      <td>NaN</td>\n",
       "      <td>NaN</td>\n",
       "      <td>5fb18d4d-213f-4d83-a179-daaf11939e78</td>\n",
       "      <td>2013-09-06T18:30:00Z</td>\n",
       "      <td>NaN</td>\n",
       "    </tr>\n",
       "  </tbody>\n",
       "</table>\n",
       "<p>1 rows × 40 columns</p>\n",
       "</div>"
      ],
      "text/plain": [
       "   AcresBurned  Active                                          AdminUnit  \\\n",
       "0     257314.0   False  Stanislaus National Forest/Yosemite National Park   \n",
       "\n",
       "   AirTankers  ArchiveYear  CalFireIncident                    CanonicalUrl  \\\n",
       "0         NaN         2013             True  /incidents/2013/8/17/rim-fire/   \n",
       "\n",
       "  ConditionStatement ControlStatement  Counties  ...  \\\n",
       "0                NaN              NaN  Tuolumne  ...   \n",
       "\n",
       "                                      SearchKeywords               Started  \\\n",
       "0  Rim Fire, Stanislaus National Forest, Yosemite...  2013-08-17T15:25:00Z   \n",
       "\n",
       "      Status  StructuresDamaged StructuresDestroyed  StructuresEvacuated  \\\n",
       "0  Finalized                NaN                 NaN                  NaN   \n",
       "\n",
       "   StructuresThreatened                              UniqueId  \\\n",
       "0                   NaN  5fb18d4d-213f-4d83-a179-daaf11939e78   \n",
       "\n",
       "                Updated  WaterTenders  \n",
       "0  2013-09-06T18:30:00Z           NaN  \n",
       "\n",
       "[1 rows x 40 columns]"
      ]
     },
     "execution_count": 3,
     "metadata": {},
     "output_type": "execute_result"
    }
   ],
   "source": [
    "full_fires_df = pd.read_csv('/Users/kaciewebster/Documents/dsi/ca-fire-incidents/data/California_Fire_Incidents.csv')\n",
    "full_fires_df.head(1)"
   ]
  },
  {
   "cell_type": "code",
   "execution_count": 4,
   "metadata": {},
   "outputs": [
    {
     "data": {
      "text/plain": [
       "(1636, 40)"
      ]
     },
     "execution_count": 4,
     "metadata": {},
     "output_type": "execute_result"
    }
   ],
   "source": [
    "full_fires_df.shape"
   ]
  },
  {
   "cell_type": "code",
   "execution_count": 5,
   "metadata": {},
   "outputs": [
    {
     "name": "stdout",
     "output_type": "stream",
     "text": [
      "<class 'pandas.core.frame.DataFrame'>\n",
      "RangeIndex: 1636 entries, 0 to 1635\n",
      "Data columns (total 40 columns):\n",
      " #   Column                Non-Null Count  Dtype  \n",
      "---  ------                --------------  -----  \n",
      " 0   AcresBurned           1633 non-null   float64\n",
      " 1   Active                1636 non-null   bool   \n",
      " 2   AdminUnit             1636 non-null   object \n",
      " 3   AirTankers            28 non-null     float64\n",
      " 4   ArchiveYear           1636 non-null   int64  \n",
      " 5   CalFireIncident       1636 non-null   bool   \n",
      " 6   CanonicalUrl          1636 non-null   object \n",
      " 7   ConditionStatement    284 non-null    object \n",
      " 8   ControlStatement      111 non-null    object \n",
      " 9   Counties              1636 non-null   object \n",
      " 10  CountyIds             1636 non-null   object \n",
      " 11  CrewsInvolved         171 non-null    float64\n",
      " 12  Dozers                123 non-null    float64\n",
      " 13  Engines               191 non-null    float64\n",
      " 14  Extinguished          1577 non-null   object \n",
      " 15  Fatalities            21 non-null     float64\n",
      " 16  Featured              1636 non-null   bool   \n",
      " 17  Final                 1636 non-null   bool   \n",
      " 18  FuelType              12 non-null     object \n",
      " 19  Helicopters           84 non-null     float64\n",
      " 20  Injuries              120 non-null    float64\n",
      " 21  Latitude              1636 non-null   float64\n",
      " 22  Location              1636 non-null   object \n",
      " 23  Longitude             1636 non-null   float64\n",
      " 24  MajorIncident         1636 non-null   bool   \n",
      " 25  Name                  1636 non-null   object \n",
      " 26  PercentContained      1633 non-null   float64\n",
      " 27  PersonnelInvolved     204 non-null    float64\n",
      " 28  Public                1636 non-null   bool   \n",
      " 29  SearchDescription     1619 non-null   object \n",
      " 30  SearchKeywords        1433 non-null   object \n",
      " 31  Started               1636 non-null   object \n",
      " 32  Status                1636 non-null   object \n",
      " 33  StructuresDamaged     67 non-null     float64\n",
      " 34  StructuresDestroyed   175 non-null    float64\n",
      " 35  StructuresEvacuated   0 non-null      float64\n",
      " 36  StructuresThreatened  30 non-null     float64\n",
      " 37  UniqueId              1636 non-null   object \n",
      " 38  Updated               1636 non-null   object \n",
      " 39  WaterTenders          146 non-null    float64\n",
      "dtypes: bool(6), float64(17), int64(1), object(16)\n",
      "memory usage: 444.3+ KB\n"
     ]
    }
   ],
   "source": [
    "full_fires_df.info()"
   ]
  },
  {
   "cell_type": "code",
   "execution_count": null,
   "metadata": {},
   "outputs": [],
   "source": []
  },
  {
   "cell_type": "code",
   "execution_count": null,
   "metadata": {},
   "outputs": [],
   "source": []
  },
  {
   "cell_type": "markdown",
   "metadata": {},
   "source": [
    "DATA CLEANING"
   ]
  },
  {
   "cell_type": "code",
   "execution_count": 6,
   "metadata": {},
   "outputs": [],
   "source": [
    "full_fires_df['StartDate'] = full_fires_df['Started'].apply(lambda x: pd.to_datetime(x[:10]))\n",
    "# creates a date column for when the fire started.\n",
    "full_fires_df['StartYear'] = full_fires_df['Started'].apply(lambda x: int(x[:4]))\n",
    "# creates a year column for when the fire started.\n",
    "full_fires_df['StartMonth'] = full_fires_df['Started'].apply(lambda x: int(x[5:7]))\n",
    "# creates a month column for when the fire started."
   ]
  },
  {
   "cell_type": "code",
   "execution_count": 7,
   "metadata": {},
   "outputs": [
    {
     "data": {
      "text/plain": [
       "(1636, 10)"
      ]
     },
     "execution_count": 7,
     "metadata": {},
     "output_type": "execute_result"
    }
   ],
   "source": [
    "ca_fires_df = full_fires_df[['UniqueId', 'Name', 'Counties', 'StartYear', 'StartMonth', 'StartDate', 'AcresBurned', 'Latitude', 'Longitude', 'MajorIncident']]\n",
    "ca_fires_df.shape\n",
    "# creates dataframe that I will work out of."
   ]
  },
  {
   "cell_type": "code",
   "execution_count": 8,
   "metadata": {},
   "outputs": [
    {
     "name": "stdout",
     "output_type": "stream",
     "text": [
      "<class 'pandas.core.frame.DataFrame'>\n",
      "RangeIndex: 1636 entries, 0 to 1635\n",
      "Data columns (total 10 columns):\n",
      " #   Column         Non-Null Count  Dtype         \n",
      "---  ------         --------------  -----         \n",
      " 0   UniqueId       1636 non-null   object        \n",
      " 1   Name           1636 non-null   object        \n",
      " 2   Counties       1636 non-null   object        \n",
      " 3   StartYear      1636 non-null   int64         \n",
      " 4   StartMonth     1636 non-null   int64         \n",
      " 5   StartDate      1636 non-null   datetime64[ns]\n",
      " 6   AcresBurned    1633 non-null   float64       \n",
      " 7   Latitude       1636 non-null   float64       \n",
      " 8   Longitude      1636 non-null   float64       \n",
      " 9   MajorIncident  1636 non-null   bool          \n",
      "dtypes: bool(1), datetime64[ns](1), float64(3), int64(2), object(3)\n",
      "memory usage: 116.8+ KB\n"
     ]
    }
   ],
   "source": [
    "ca_fires_df.info()"
   ]
  },
  {
   "cell_type": "code",
   "execution_count": 9,
   "metadata": {},
   "outputs": [
    {
     "data": {
      "text/plain": [
       "(1605, 10)"
      ]
     },
     "execution_count": 9,
     "metadata": {},
     "output_type": "execute_result"
    }
   ],
   "source": [
    "ca_fires_df = ca_fires_df.dropna(axis=0, subset=['AcresBurned'])\n",
    "ca_fires_df = ca_fires_df[ca_fires_df['AcresBurned'] != 0]\n",
    "ca_fires_df.shape\n",
    "# removes zeros and null values from AcresBurned column."
   ]
  },
  {
   "cell_type": "code",
   "execution_count": 10,
   "metadata": {},
   "outputs": [
    {
     "data": {
      "text/plain": [
       "(1439, 10)"
      ]
     },
     "execution_count": 10,
     "metadata": {},
     "output_type": "execute_result"
    }
   ],
   "source": [
    "ca_fires_df = ca_fires_df[(ca_fires_df['Latitude'] >= 32) & (ca_fires_df['Latitude'] <= 42) & (ca_fires_df['Longitude'] <= -114) & (ca_fires_df['Longitude'] >= -126)]\n",
    "ca_fires_df.shape\n",
    "# removes observations that are not in CA."
   ]
  },
  {
   "cell_type": "code",
   "execution_count": 11,
   "metadata": {},
   "outputs": [
    {
     "data": {
      "text/html": [
       "<div>\n",
       "<style scoped>\n",
       "    .dataframe tbody tr th:only-of-type {\n",
       "        vertical-align: middle;\n",
       "    }\n",
       "\n",
       "    .dataframe tbody tr th {\n",
       "        vertical-align: top;\n",
       "    }\n",
       "\n",
       "    .dataframe thead th {\n",
       "        text-align: right;\n",
       "    }\n",
       "</style>\n",
       "<table border=\"1\" class=\"dataframe\">\n",
       "  <thead>\n",
       "    <tr style=\"text-align: right;\">\n",
       "      <th></th>\n",
       "      <th>UniqueId</th>\n",
       "      <th>Name</th>\n",
       "      <th>Counties</th>\n",
       "      <th>StartYear</th>\n",
       "      <th>StartMonth</th>\n",
       "      <th>StartDate</th>\n",
       "      <th>AcresBurned</th>\n",
       "      <th>Latitude</th>\n",
       "      <th>Longitude</th>\n",
       "      <th>MajorIncident</th>\n",
       "    </tr>\n",
       "  </thead>\n",
       "  <tbody>\n",
       "    <tr>\n",
       "      <th>1424</th>\n",
       "      <td>3086ac2b-bbb3-4321-81e3-3cfdb9e571e9</td>\n",
       "      <td>Jasper Fire</td>\n",
       "      <td>State of Nevada</td>\n",
       "      <td>2019</td>\n",
       "      <td>7</td>\n",
       "      <td>2019-07-13</td>\n",
       "      <td>1165.0</td>\n",
       "      <td>39.631945</td>\n",
       "      <td>-119.769881</td>\n",
       "      <td>False</td>\n",
       "    </tr>\n",
       "  </tbody>\n",
       "</table>\n",
       "</div>"
      ],
      "text/plain": [
       "                                  UniqueId         Name         Counties  \\\n",
       "1424  3086ac2b-bbb3-4321-81e3-3cfdb9e571e9  Jasper Fire  State of Nevada   \n",
       "\n",
       "      StartYear  StartMonth  StartDate  AcresBurned   Latitude   Longitude  \\\n",
       "1424       2019           7 2019-07-13       1165.0  39.631945 -119.769881   \n",
       "\n",
       "      MajorIncident  \n",
       "1424          False  "
      ]
     },
     "execution_count": 11,
     "metadata": {},
     "output_type": "execute_result"
    }
   ],
   "source": [
    "ca_fires_df[(ca_fires_df['Latitude'] >= 38) & (ca_fires_df['Latitude'] <= 41) & (ca_fires_df['Longitude'] <= -115) & (ca_fires_df['Longitude'] >= -118)]\n",
    "ca_fires_df[ca_fires_df['Counties'] == 'State of Nevada']\n",
    "# locates which observations were falling in Nevada."
   ]
  },
  {
   "cell_type": "code",
   "execution_count": 12,
   "metadata": {},
   "outputs": [
    {
     "data": {
      "text/plain": [
       "(1437, 10)"
      ]
     },
     "execution_count": 12,
     "metadata": {},
     "output_type": "execute_result"
    }
   ],
   "source": [
    "ca_fires_df = ca_fires_df[ca_fires_df['Counties'] != 'State of Nevada']\n",
    "ca_fires_df = ca_fires_df[ca_fires_df['Name'] != 'Tram Fire']\n",
    "ca_fires_df.shape\n",
    "# removes observations that are in Nevada."
   ]
  },
  {
   "cell_type": "code",
   "execution_count": 13,
   "metadata": {},
   "outputs": [
    {
     "data": {
      "text/plain": [
       "(1435, 10)"
      ]
     },
     "execution_count": 13,
     "metadata": {},
     "output_type": "execute_result"
    }
   ],
   "source": [
    "ca_fires_df = ca_fires_df[ca_fires_df['StartYear'] >= 2013]\n",
    "ca_fires_df.shape\n",
    "# removes observations that are not in the years 2013-2019."
   ]
  },
  {
   "cell_type": "code",
   "execution_count": 14,
   "metadata": {},
   "outputs": [
    {
     "data": {
      "text/plain": [
       "1410"
      ]
     },
     "execution_count": 14,
     "metadata": {},
     "output_type": "execute_result"
    }
   ],
   "source": [
    "ca_fires_df['UniqueId'].nunique()\n",
    "# returns number of unique fires."
   ]
  },
  {
   "cell_type": "code",
   "execution_count": 15,
   "metadata": {},
   "outputs": [
    {
     "data": {
      "text/plain": [
       "(1410, 10)"
      ]
     },
     "execution_count": 15,
     "metadata": {},
     "output_type": "execute_result"
    }
   ],
   "source": [
    "ca_fires_df = ca_fires_df.groupby('UniqueId').max().reset_index()\n",
    "ca_fires_df.shape\n",
    "# removes duplicate records of fires."
   ]
  },
  {
   "cell_type": "code",
   "execution_count": 16,
   "metadata": {},
   "outputs": [
    {
     "data": {
      "text/html": [
       "<div>\n",
       "<style scoped>\n",
       "    .dataframe tbody tr th:only-of-type {\n",
       "        vertical-align: middle;\n",
       "    }\n",
       "\n",
       "    .dataframe tbody tr th {\n",
       "        vertical-align: top;\n",
       "    }\n",
       "\n",
       "    .dataframe thead th {\n",
       "        text-align: right;\n",
       "    }\n",
       "</style>\n",
       "<table border=\"1\" class=\"dataframe\">\n",
       "  <thead>\n",
       "    <tr style=\"text-align: right;\">\n",
       "      <th></th>\n",
       "      <th>UniqueId</th>\n",
       "      <th>Name</th>\n",
       "      <th>Counties</th>\n",
       "      <th>StartYear</th>\n",
       "      <th>StartMonth</th>\n",
       "      <th>StartDate</th>\n",
       "      <th>AcresBurned</th>\n",
       "      <th>Latitude</th>\n",
       "      <th>Longitude</th>\n",
       "      <th>MajorIncident</th>\n",
       "    </tr>\n",
       "  </thead>\n",
       "  <tbody>\n",
       "    <tr>\n",
       "      <th>0</th>\n",
       "      <td>00089805-cdee-4607-8b67-1653bee463bc</td>\n",
       "      <td>Gulch Fire</td>\n",
       "      <td>Modoc</td>\n",
       "      <td>2014</td>\n",
       "      <td>7</td>\n",
       "      <td>2014-07-03</td>\n",
       "      <td>1469.0</td>\n",
       "      <td>41.489</td>\n",
       "      <td>-120.904</td>\n",
       "      <td>True</td>\n",
       "    </tr>\n",
       "  </tbody>\n",
       "</table>\n",
       "</div>"
      ],
      "text/plain": [
       "                               UniqueId        Name Counties  StartYear  \\\n",
       "0  00089805-cdee-4607-8b67-1653bee463bc  Gulch Fire    Modoc       2014   \n",
       "\n",
       "   StartMonth  StartDate  AcresBurned  Latitude  Longitude  MajorIncident  \n",
       "0           7 2014-07-03       1469.0    41.489   -120.904           True  "
      ]
     },
     "execution_count": 16,
     "metadata": {},
     "output_type": "execute_result"
    }
   ],
   "source": [
    "ca_fires_df.head(1)"
   ]
  },
  {
   "cell_type": "code",
   "execution_count": 17,
   "metadata": {},
   "outputs": [
    {
     "name": "stdout",
     "output_type": "stream",
     "text": [
      "<class 'pandas.core.frame.DataFrame'>\n",
      "RangeIndex: 1410 entries, 0 to 1409\n",
      "Data columns (total 10 columns):\n",
      " #   Column         Non-Null Count  Dtype         \n",
      "---  ------         --------------  -----         \n",
      " 0   UniqueId       1410 non-null   object        \n",
      " 1   Name           1410 non-null   object        \n",
      " 2   Counties       1410 non-null   object        \n",
      " 3   StartYear      1410 non-null   int64         \n",
      " 4   StartMonth     1410 non-null   int64         \n",
      " 5   StartDate      1410 non-null   datetime64[ns]\n",
      " 6   AcresBurned    1410 non-null   float64       \n",
      " 7   Latitude       1410 non-null   float64       \n",
      " 8   Longitude      1410 non-null   float64       \n",
      " 9   MajorIncident  1410 non-null   bool          \n",
      "dtypes: bool(1), datetime64[ns](1), float64(3), int64(2), object(3)\n",
      "memory usage: 100.6+ KB\n"
     ]
    }
   ],
   "source": [
    "ca_fires_df.info()"
   ]
  },
  {
   "cell_type": "code",
   "execution_count": 18,
   "metadata": {},
   "outputs": [
    {
     "data": {
      "text/html": [
       "<div>\n",
       "<style scoped>\n",
       "    .dataframe tbody tr th:only-of-type {\n",
       "        vertical-align: middle;\n",
       "    }\n",
       "\n",
       "    .dataframe tbody tr th {\n",
       "        vertical-align: top;\n",
       "    }\n",
       "\n",
       "    .dataframe thead th {\n",
       "        text-align: right;\n",
       "    }\n",
       "</style>\n",
       "<table border=\"1\" class=\"dataframe\">\n",
       "  <thead>\n",
       "    <tr style=\"text-align: right;\">\n",
       "      <th></th>\n",
       "      <th>StartYear</th>\n",
       "      <th>StartMonth</th>\n",
       "      <th>AcresBurned</th>\n",
       "      <th>Latitude</th>\n",
       "      <th>Longitude</th>\n",
       "    </tr>\n",
       "  </thead>\n",
       "  <tbody>\n",
       "    <tr>\n",
       "      <th>count</th>\n",
       "      <td>1410.000000</td>\n",
       "      <td>1410.000000</td>\n",
       "      <td>1410.000000</td>\n",
       "      <td>1410.000000</td>\n",
       "      <td>1410.000000</td>\n",
       "    </tr>\n",
       "    <tr>\n",
       "      <th>mean</th>\n",
       "      <td>2016.807801</td>\n",
       "      <td>7.400709</td>\n",
       "      <td>3247.733333</td>\n",
       "      <td>37.223930</td>\n",
       "      <td>-120.274294</td>\n",
       "    </tr>\n",
       "    <tr>\n",
       "      <th>std</th>\n",
       "      <td>1.803497</td>\n",
       "      <td>1.749906</td>\n",
       "      <td>19507.818882</td>\n",
       "      <td>2.551992</td>\n",
       "      <td>2.003783</td>\n",
       "    </tr>\n",
       "    <tr>\n",
       "      <th>min</th>\n",
       "      <td>2013.000000</td>\n",
       "      <td>1.000000</td>\n",
       "      <td>2.000000</td>\n",
       "      <td>32.557546</td>\n",
       "      <td>-124.196290</td>\n",
       "    </tr>\n",
       "    <tr>\n",
       "      <th>25%</th>\n",
       "      <td>2016.000000</td>\n",
       "      <td>6.000000</td>\n",
       "      <td>35.250000</td>\n",
       "      <td>34.906157</td>\n",
       "      <td>-121.848938</td>\n",
       "    </tr>\n",
       "    <tr>\n",
       "      <th>50%</th>\n",
       "      <td>2017.000000</td>\n",
       "      <td>7.000000</td>\n",
       "      <td>100.000000</td>\n",
       "      <td>37.414110</td>\n",
       "      <td>-120.695931</td>\n",
       "    </tr>\n",
       "    <tr>\n",
       "      <th>75%</th>\n",
       "      <td>2018.000000</td>\n",
       "      <td>9.000000</td>\n",
       "      <td>400.000000</td>\n",
       "      <td>39.246458</td>\n",
       "      <td>-118.731552</td>\n",
       "    </tr>\n",
       "    <tr>\n",
       "      <th>max</th>\n",
       "      <td>2019.000000</td>\n",
       "      <td>12.000000</td>\n",
       "      <td>410203.000000</td>\n",
       "      <td>41.999341</td>\n",
       "      <td>-114.572650</td>\n",
       "    </tr>\n",
       "  </tbody>\n",
       "</table>\n",
       "</div>"
      ],
      "text/plain": [
       "         StartYear   StartMonth    AcresBurned     Latitude    Longitude\n",
       "count  1410.000000  1410.000000    1410.000000  1410.000000  1410.000000\n",
       "mean   2016.807801     7.400709    3247.733333    37.223930  -120.274294\n",
       "std       1.803497     1.749906   19507.818882     2.551992     2.003783\n",
       "min    2013.000000     1.000000       2.000000    32.557546  -124.196290\n",
       "25%    2016.000000     6.000000      35.250000    34.906157  -121.848938\n",
       "50%    2017.000000     7.000000     100.000000    37.414110  -120.695931\n",
       "75%    2018.000000     9.000000     400.000000    39.246458  -118.731552\n",
       "max    2019.000000    12.000000  410203.000000    41.999341  -114.572650"
      ]
     },
     "execution_count": 18,
     "metadata": {},
     "output_type": "execute_result"
    }
   ],
   "source": [
    "ca_fires_df.describe()"
   ]
  },
  {
   "cell_type": "code",
   "execution_count": null,
   "metadata": {},
   "outputs": [],
   "source": []
  },
  {
   "cell_type": "code",
   "execution_count": null,
   "metadata": {},
   "outputs": [],
   "source": []
  },
  {
   "cell_type": "markdown",
   "metadata": {},
   "source": [
    "EXPLORATORY DATA ANALYSIS"
   ]
  },
  {
   "cell_type": "code",
   "execution_count": 19,
   "metadata": {},
   "outputs": [
    {
     "data": {
      "image/png": "[encoded data removed]",
      "text/plain": [
       "<Figure size 432x288 with 1 Axes>"
      ]
     },
     "metadata": {
      "needs_background": "light"
     },
     "output_type": "display_data"
    }
   ],
   "source": [
    "num_fires = ca_fires_df.groupby('StartYear')['AcresBurned'].count()\n",
    "years = sorted(ca_fires_df['StartYear'].unique())\n",
    "\n",
    "fig, ax = plt.subplots()\n",
    "ax.plot(years, num_fires, color='red')\n",
    "ax.set_title('Number of Fires per Year')\n",
    "ax.set_xlabel('Year')\n",
    "ax.set_ylabel('Fires')\n",
    "fig.savefig('num-fires-line-plot.png')\n",
    "\n",
    "plt.show()"
   ]
  },
  {
   "cell_type": "code",
   "execution_count": 20,
   "metadata": {},
   "outputs": [
    {
     "data": {
      "image/png": "[encoded data removed]",
      "text/plain": [
       "<Figure size 432x288 with 1 Axes>"
      ]
     },
     "metadata": {
      "needs_background": "light"
     },
     "output_type": "display_data"
    }
   ],
   "source": [
    "sum_acres = ca_fires_df.groupby('StartYear')['AcresBurned'].sum()\n",
    "years = sorted(ca_fires_df['StartYear'].unique())\n",
    "\n",
    "fig, ax = plt.subplots()\n",
    "ax.plot(years, sum_acres, color='red')\n",
    "ax.set_title('Total Acres Burned per Year')\n",
    "ax.set_xlabel('Year')\n",
    "ax.set_ylabel('Acres in Millions')\n",
    "fig.savefig('total-acres-line-plot.png')\n",
    "\n",
    "plt.show()"
   ]
  },
  {
   "cell_type": "code",
   "execution_count": 21,
   "metadata": {},
   "outputs": [
    {
     "data": {
      "image/png": "[encoded data removed]",
      "text/plain": [
       "<Figure size 432x288 with 1 Axes>"
      ]
     },
     "metadata": {
      "needs_background": "light"
     },
     "output_type": "display_data"
    }
   ],
   "source": [
    "median_acres = ca_fires_df.groupby('StartYear')['AcresBurned'].median()\n",
    "years = sorted(ca_fires_df['StartYear'].unique())\n",
    "\n",
    "fig, ax = plt.subplots()\n",
    "ax.plot(years, median_acres, color='red')\n",
    "ax.set_title('Median Acres Burned per Year')\n",
    "ax.set_xlabel('Year')\n",
    "ax.set_ylabel('Acres')\n",
    "fig.savefig('med-acres-line-plot.png')\n",
    "\n",
    "plt.show()"
   ]
  },
  {
   "cell_type": "code",
   "execution_count": 70,
   "metadata": {},
   "outputs": [
    {
     "name": "stderr",
     "output_type": "stream",
     "text": [
      "/opt/anaconda3/lib/python3.7/site-packages/ipykernel_launcher.py:9: UserWarning: FixedFormatter should only be used together with FixedLocator\n",
      "  if __name__ == '__main__':\n"
     ]
    },
    {
     "data": {
      "image/png": "[encoded data removed]",
      "text/plain": [
       "<Figure size 432x288 with 1 Axes>"
      ]
     },
     "metadata": {
      "needs_background": "light"
     },
     "output_type": "display_data"
    }
   ],
   "source": [
    "max_acres = ca_fires_df.groupby('StartYear')['AcresBurned'].max()\n",
    "years = sorted(ca_fires_df['StartYear'].unique())\n",
    "\n",
    "fig, ax = plt.subplots()\n",
    "ax.plot(years, max_acres, color='red')\n",
    "ax.set_title('Acres of Largest Fire per Year')\n",
    "ax.set_xlabel('Year')\n",
    "ax.set_ylabel('Acres in Millions')\n",
    "ax.set_yticklabels([0, 0.1, 0.15, 0.2, 0.25, 0.3, 0.35, 0.4])\n",
    "fig.savefig('max-acres-line-plot.png')\n",
    "\n",
    "plt.show()"
   ]
  },
  {
   "cell_type": "code",
   "execution_count": 23,
   "metadata": {},
   "outputs": [
    {
     "data": {
      "text/html": [
       "<div style=\"width:100%;\"><div style=\"position:relative;width:100%;height:0;padding-bottom:60%;\"><span style=\"color:#565656\">Make this Notebook Trusted to load map: File -> Trust Notebook</span><iframe src=\"about:blank\" style=\"position:absolute;width:100%;height:100%;left:0;top:0;border:none !important;\" data-html=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 onload=\"this.contentDocument.open();this.contentDocument.write(atob(this.getAttribute('data-html')));this.contentDocument.close();\" allowfullscreen webkitallowfullscreen mozallowfullscreen></iframe></div></div>"
      ],
      "text/plain": [
       "<folium.folium.Map at 0x7fde1a428310>"
      ]
     },
     "execution_count": 23,
     "metadata": {},
     "output_type": "execute_result"
    }
   ],
   "source": [
    "df_copy = ca_fires_df.copy()\n",
    "df_years_list = []\n",
    "for year in df_copy['StartYear'].sort_values().unique():\n",
    "    df_years_list.append(df_copy.loc[df_copy['StartYear']==year, ['Latitude', 'Longitude']].groupby(['Latitude', 'Longitude']).sum().reset_index().values.tolist())\n",
    "# creates a list of lists where each element is a year and each element in that list element contains the latitudes and longitudes of each fire.\n",
    "    \n",
    "m = folium.Map(location=[34.0522, -118.2437], zoom_start=5)\n",
    "plugins.HeatMapWithTime(df_years_list, index=[2013, 2014, 2015, 2016, 2017, 2018, 2019], \n",
    "                        radius=5, min_opacity=0.5, max_opacity=0.8, use_local_extrema=True).add_to(m)\n",
    "m"
   ]
  },
  {
   "cell_type": "code",
   "execution_count": 24,
   "metadata": {},
   "outputs": [
    {
     "data": {
      "text/html": [
       "<div>\n",
       "<style scoped>\n",
       "    .dataframe tbody tr th:only-of-type {\n",
       "        vertical-align: middle;\n",
       "    }\n",
       "\n",
       "    .dataframe tbody tr th {\n",
       "        vertical-align: top;\n",
       "    }\n",
       "\n",
       "    .dataframe thead th {\n",
       "        text-align: right;\n",
       "    }\n",
       "</style>\n",
       "<table border=\"1\" class=\"dataframe\">\n",
       "  <thead>\n",
       "    <tr style=\"text-align: right;\">\n",
       "      <th></th>\n",
       "      <th>StartYear</th>\n",
       "      <th>StartMonth</th>\n",
       "      <th>AcresBurned</th>\n",
       "    </tr>\n",
       "  </thead>\n",
       "  <tbody>\n",
       "    <tr>\n",
       "      <th>0</th>\n",
       "      <td>2013</td>\n",
       "      <td>2</td>\n",
       "      <td>406.0</td>\n",
       "    </tr>\n",
       "    <tr>\n",
       "      <th>1</th>\n",
       "      <td>2013</td>\n",
       "      <td>4</td>\n",
       "      <td>379.0</td>\n",
       "    </tr>\n",
       "    <tr>\n",
       "      <th>2</th>\n",
       "      <td>2013</td>\n",
       "      <td>5</td>\n",
       "      <td>53957.0</td>\n",
       "    </tr>\n",
       "    <tr>\n",
       "      <th>3</th>\n",
       "      <td>2013</td>\n",
       "      <td>6</td>\n",
       "      <td>5127.0</td>\n",
       "    </tr>\n",
       "    <tr>\n",
       "      <th>4</th>\n",
       "      <td>2013</td>\n",
       "      <td>7</td>\n",
       "      <td>77082.0</td>\n",
       "    </tr>\n",
       "    <tr>\n",
       "      <th>...</th>\n",
       "      <td>...</td>\n",
       "      <td>...</td>\n",
       "      <td>...</td>\n",
       "    </tr>\n",
       "    <tr>\n",
       "      <th>59</th>\n",
       "      <td>2019</td>\n",
       "      <td>7</td>\n",
       "      <td>20463.0</td>\n",
       "    </tr>\n",
       "    <tr>\n",
       "      <th>60</th>\n",
       "      <td>2019</td>\n",
       "      <td>8</td>\n",
       "      <td>15129.0</td>\n",
       "    </tr>\n",
       "    <tr>\n",
       "      <th>61</th>\n",
       "      <td>2019</td>\n",
       "      <td>9</td>\n",
       "      <td>101251.0</td>\n",
       "    </tr>\n",
       "    <tr>\n",
       "      <th>62</th>\n",
       "      <td>2019</td>\n",
       "      <td>10</td>\n",
       "      <td>119814.0</td>\n",
       "    </tr>\n",
       "    <tr>\n",
       "      <th>63</th>\n",
       "      <td>2019</td>\n",
       "      <td>11</td>\n",
       "      <td>6109.0</td>\n",
       "    </tr>\n",
       "  </tbody>\n",
       "</table>\n",
       "<p>64 rows × 3 columns</p>\n",
       "</div>"
      ],
      "text/plain": [
       "    StartYear  StartMonth  AcresBurned\n",
       "0        2013           2        406.0\n",
       "1        2013           4        379.0\n",
       "2        2013           5      53957.0\n",
       "3        2013           6       5127.0\n",
       "4        2013           7      77082.0\n",
       "..        ...         ...          ...\n",
       "59       2019           7      20463.0\n",
       "60       2019           8      15129.0\n",
       "61       2019           9     101251.0\n",
       "62       2019          10     119814.0\n",
       "63       2019          11       6109.0\n",
       "\n",
       "[64 rows x 3 columns]"
      ]
     },
     "execution_count": 24,
     "metadata": {},
     "output_type": "execute_result"
    }
   ],
   "source": [
    "grouped_acres_sum = ca_fires_df.groupby(['StartYear', 'StartMonth']).sum('AcresBurned')['AcresBurned'].reset_index()\n",
    "grouped_acres_sum"
   ]
  },
  {
   "cell_type": "code",
   "execution_count": 25,
   "metadata": {},
   "outputs": [],
   "source": [
    "def parse_grouped_sums(grouped_df, year_lst):\n",
    "    '''\n",
    "    Creates a list of dataframes parsed by year.\n",
    "    Parameters: grouped dataframe, list of years\n",
    "    Returns: list of dataframes\n",
    "    '''\n",
    "    parse_lst = []\n",
    "    \n",
    "    for year in year_lst:\n",
    "        parse_lst.append(grouped_df[grouped_df['StartYear']==year])\n",
    "    return parse_lst "
   ]
  },
  {
   "cell_type": "code",
   "execution_count": 33,
   "metadata": {},
   "outputs": [
    {
     "data": {
      "image/png": "[encoded data removed]",
      "text/plain": [
       "<Figure size 576x1800 with 7 Axes>"
      ]
     },
     "metadata": {
      "needs_background": "light"
     },
     "output_type": "display_data"
    }
   ],
   "source": [
    "year_lst = list(range(2013, 2020))\n",
    "df_lst = parse_grouped_sums(grouped_acres_sum, year_lst)\n",
    "\n",
    "month_labels = ['Jan.', 'Feb.', 'Mar.', 'Apr.', 'May', 'Jun.', 'Jul.', 'Aug.', 'Sep.', 'Oct.', 'Nov.', 'Dec.']\n",
    "fig, axs = plt.subplots(7, 1, figsize=(8, 25))\n",
    "\n",
    "for idx, ax in enumerate(axs.flatten()):\n",
    "    ax.bar(df_lst[idx]['StartMonth'], height=df_lst[idx]['AcresBurned'], color='red')\n",
    "        \n",
    "    ax.set_xticks(list(range(1, 13)))\n",
    "    ax.set_xticklabels(month_labels, rotation=45)\n",
    "        \n",
    "    ax.set_title(f'Acres Burned per Month ({year_lst[idx]})')\n",
    "    ax.set_xlabel('Months')\n",
    "    ax.set_ylabel('Acres')\n",
    "    fig.savefig('months-bar-plots.png')\n",
    "    \n",
    "fig.tight_layout()\n",
    "plt.show()\n",
    "\n"
   ]
  },
  {
   "cell_type": "code",
   "execution_count": 40,
   "metadata": {},
   "outputs": [],
   "source": [
    "grouped_month = ca_fires_df.groupby(['StartMonth', 'StartYear'])['AcresBurned'].sum()"
   ]
  },
  {
   "cell_type": "code",
   "execution_count": 41,
   "metadata": {},
   "outputs": [
    {
     "data": {
      "text/plain": [
       "StartMonth  StartYear\n",
       "1           2014           3256.0\n",
       "            2019             30.0\n",
       "2           2013            406.0\n",
       "            2015            200.0\n",
       "            2018           2120.0\n",
       "                           ...   \n",
       "11          2017            599.0\n",
       "            2018         257059.0\n",
       "            2019           6109.0\n",
       "12          2013             40.0\n",
       "            2017         308889.0\n",
       "Name: AcresBurned, Length: 64, dtype: float64"
      ]
     },
     "execution_count": 41,
     "metadata": {},
     "output_type": "execute_result"
    }
   ],
   "source": [
    "grouped_month"
   ]
  },
  {
   "cell_type": "code",
   "execution_count": 42,
   "metadata": {},
   "outputs": [
    {
     "data": {
      "text/html": [
       "<div>\n",
       "<style scoped>\n",
       "    .dataframe tbody tr th:only-of-type {\n",
       "        vertical-align: middle;\n",
       "    }\n",
       "\n",
       "    .dataframe tbody tr th {\n",
       "        vertical-align: top;\n",
       "    }\n",
       "\n",
       "    .dataframe thead th {\n",
       "        text-align: right;\n",
       "    }\n",
       "</style>\n",
       "<table border=\"1\" class=\"dataframe\">\n",
       "  <thead>\n",
       "    <tr style=\"text-align: right;\">\n",
       "      <th></th>\n",
       "      <th>UniqueId</th>\n",
       "      <th>Name</th>\n",
       "      <th>Counties</th>\n",
       "      <th>StartYear</th>\n",
       "      <th>StartMonth</th>\n",
       "      <th>StartDate</th>\n",
       "      <th>AcresBurned</th>\n",
       "      <th>Latitude</th>\n",
       "      <th>Longitude</th>\n",
       "      <th>MajorIncident</th>\n",
       "    </tr>\n",
       "  </thead>\n",
       "  <tbody>\n",
       "    <tr>\n",
       "      <th>0</th>\n",
       "      <td>00089805-cdee-4607-8b67-1653bee463bc</td>\n",
       "      <td>Gulch Fire</td>\n",
       "      <td>Modoc</td>\n",
       "      <td>2014</td>\n",
       "      <td>7</td>\n",
       "      <td>2014-07-03</td>\n",
       "      <td>1469.0</td>\n",
       "      <td>41.489000</td>\n",
       "      <td>-120.904000</td>\n",
       "      <td>True</td>\n",
       "    </tr>\n",
       "    <tr>\n",
       "      <th>1</th>\n",
       "      <td>0089d3c4-c554-46e1-8eb9-af95e4dfae0c</td>\n",
       "      <td>Toro Fire</td>\n",
       "      <td>Riverside</td>\n",
       "      <td>2019</td>\n",
       "      <td>8</td>\n",
       "      <td>2019-08-05</td>\n",
       "      <td>94.0</td>\n",
       "      <td>33.740219</td>\n",
       "      <td>-117.333728</td>\n",
       "      <td>False</td>\n",
       "    </tr>\n",
       "    <tr>\n",
       "      <th>2</th>\n",
       "      <td>00a13d84-415e-4106-aa31-2e664ed9eabf</td>\n",
       "      <td>Sky Fire</td>\n",
       "      <td>Shasta</td>\n",
       "      <td>2017</td>\n",
       "      <td>7</td>\n",
       "      <td>2017-07-29</td>\n",
       "      <td>17.0</td>\n",
       "      <td>40.692590</td>\n",
       "      <td>-122.173840</td>\n",
       "      <td>False</td>\n",
       "    </tr>\n",
       "    <tr>\n",
       "      <th>3</th>\n",
       "      <td>00e6d6d5-f168-45fa-817a-f7758a5170b7</td>\n",
       "      <td>Easy Fire</td>\n",
       "      <td>Ventura</td>\n",
       "      <td>2019</td>\n",
       "      <td>10</td>\n",
       "      <td>2019-10-30</td>\n",
       "      <td>1806.0</td>\n",
       "      <td>34.282179</td>\n",
       "      <td>-118.803389</td>\n",
       "      <td>False</td>\n",
       "    </tr>\n",
       "    <tr>\n",
       "      <th>4</th>\n",
       "      <td>01018620-8f10-4de0-a7e6-78cc9a77cc9a</td>\n",
       "      <td>Curie Fire</td>\n",
       "      <td>Santa Clara</td>\n",
       "      <td>2018</td>\n",
       "      <td>7</td>\n",
       "      <td>2018-07-10</td>\n",
       "      <td>70.0</td>\n",
       "      <td>37.225450</td>\n",
       "      <td>-121.791890</td>\n",
       "      <td>False</td>\n",
       "    </tr>\n",
       "  </tbody>\n",
       "</table>\n",
       "</div>"
      ],
      "text/plain": [
       "                               UniqueId        Name     Counties  StartYear  \\\n",
       "0  00089805-cdee-4607-8b67-1653bee463bc  Gulch Fire        Modoc       2014   \n",
       "1  0089d3c4-c554-46e1-8eb9-af95e4dfae0c  Toro Fire     Riverside       2019   \n",
       "2  00a13d84-415e-4106-aa31-2e664ed9eabf    Sky Fire       Shasta       2017   \n",
       "3  00e6d6d5-f168-45fa-817a-f7758a5170b7   Easy Fire      Ventura       2019   \n",
       "4  01018620-8f10-4de0-a7e6-78cc9a77cc9a  Curie Fire  Santa Clara       2018   \n",
       "\n",
       "   StartMonth  StartDate  AcresBurned   Latitude   Longitude  MajorIncident  \n",
       "0           7 2014-07-03       1469.0  41.489000 -120.904000           True  \n",
       "1           8 2019-08-05         94.0  33.740219 -117.333728          False  \n",
       "2           7 2017-07-29         17.0  40.692590 -122.173840          False  \n",
       "3          10 2019-10-30       1806.0  34.282179 -118.803389          False  \n",
       "4           7 2018-07-10         70.0  37.225450 -121.791890          False  "
      ]
     },
     "execution_count": 42,
     "metadata": {},
     "output_type": "execute_result"
    }
   ],
   "source": [
    "ca_fires_df.head()"
   ]
  },
  {
   "cell_type": "code",
   "execution_count": 43,
   "metadata": {},
   "outputs": [
    {
     "data": {
      "text/plain": [
       "[2014.0, 7.0, 1469.0]"
      ]
     },
     "execution_count": 43,
     "metadata": {},
     "output_type": "execute_result"
    }
   ],
   "source": [
    "ca_fires_lst = ca_fires_df[['StartYear', 'StartMonth', 'AcresBurned']].values.tolist()\n",
    "ca_fires_lst[0]"
   ]
  },
  {
   "cell_type": "code",
   "execution_count": 44,
   "metadata": {},
   "outputs": [],
   "source": [
    "def month_counter(lst, year):\n",
    "    '''\n",
    "    Creates a dictionary containing the counts for each month in a particular year for ca_fires_df.\n",
    "    Parameters: integer year\n",
    "    Returns: dictionary\n",
    "    '''\n",
    "    \n",
    "    months_dct = {1:0, 2:0, 3:0, 4:0, 5:0, 6:0, 7:0, 8:0, 9:0, 10:0, 11:0, 12:0}\n",
    "    \n",
    "    for elem in lst:\n",
    "        if int(elem[0]) == year:\n",
    "            if int(elem[1] in months_dct.keys()):\n",
    "                months_dct[int(elem[1])] += int(elem[2])\n",
    "            \n",
    "    return months_dct"
   ]
  },
  {
   "cell_type": "code",
   "execution_count": 45,
   "metadata": {},
   "outputs": [],
   "source": [
    "def apply_month_counter(fire_lst, year_lst):\n",
    "    '''\n",
    "    Applies the previous month_counter() to a list of years.\n",
    "    Parameters: list of integer years\n",
    "    Returns: list of dictionaries where each dictionary represents the distribution of months per year\n",
    "    '''\n",
    "    \n",
    "    dct_lst = [month_counter(fire_lst, year) for year in year_lst]\n",
    "    \n",
    "    return dct_lst"
   ]
  },
  {
   "cell_type": "code",
   "execution_count": 46,
   "metadata": {},
   "outputs": [
    {
     "data": {
      "text/plain": [
       "{1: 0,\n",
       " 2: 406,\n",
       " 3: 0,\n",
       " 4: 379,\n",
       " 5: 53957,\n",
       " 6: 5127,\n",
       " 7: 77082,\n",
       " 8: 339125,\n",
       " 9: 12550,\n",
       " 10: 3116,\n",
       " 11: 4281,\n",
       " 12: 40}"
      ]
     },
     "execution_count": 46,
     "metadata": {},
     "output_type": "execute_result"
    }
   ],
   "source": [
    "year_lst = [2013, 2014, 2015, 2016, 2017, 2018, 2019]\n",
    "fires_dct_lst = apply_month_counter(ca_fires_lst, year_lst)\n",
    "fires_dct_lst[0]"
   ]
  },
  {
   "cell_type": "code",
   "execution_count": 47,
   "metadata": {},
   "outputs": [
    {
     "data": {
      "text/plain": [
       "[[0, 406, 0, 379, 53957, 5127, 77082, 339125, 12550, 3116, 4281, 40],\n",
       " [3256, 0, 582, 2331, 12233, 5156, 130272, 5906, 101564, 48, 0, 0],\n",
       " [0, 200, 0, 1186, 275, 35234, 248842, 42580, 2680, 795, 50, 0],\n",
       " [0, 0, 0, 30, 5062, 81251, 144657, 175505, 33702, 6698, 4852, 0],\n",
       " [0, 0, 0, 8802, 18518, 21455, 333125, 232442, 57889, 242626, 599, 308889],\n",
       " [0, 2120, 269, 1442, 4883, 149017, 862542, 166834, 81881, 5264, 257059, 0],\n",
       " [30, 0, 0, 286, 4228, 15328, 20463, 15129, 101251, 119814, 6109, 0]]"
      ]
     },
     "execution_count": 47,
     "metadata": {},
     "output_type": "execute_result"
    }
   ],
   "source": [
    "counts_lst = []\n",
    "for dct in fires_dct_lst:\n",
    "    val_lst = []\n",
    "    for val in dct.values():\n",
    "        val_lst.append(val)\n",
    "    counts_lst.append(val_lst)\n",
    "counts_lst"
   ]
  },
  {
   "cell_type": "code",
   "execution_count": 48,
   "metadata": {},
   "outputs": [
    {
     "data": {
      "text/plain": [
       "[[3256, 406, 582, 2710, 66190, 10283, 207354, 345031, 114114, 3164, 4281, 40],\n",
       " [3256, 606, 582, 3896, 66465, 45517, 456196, 387611, 116794, 3959, 4331, 40],\n",
       " [3256,\n",
       "  606,\n",
       "  582,\n",
       "  3926,\n",
       "  71527,\n",
       "  126768,\n",
       "  600853,\n",
       "  563116,\n",
       "  150496,\n",
       "  10657,\n",
       "  9183,\n",
       "  40],\n",
       " [3256,\n",
       "  606,\n",
       "  582,\n",
       "  12728,\n",
       "  90045,\n",
       "  148223,\n",
       "  933978,\n",
       "  795558,\n",
       "  208385,\n",
       "  253283,\n",
       "  9782,\n",
       "  308929],\n",
       " [3256,\n",
       "  2726,\n",
       "  851,\n",
       "  14170,\n",
       "  94928,\n",
       "  297240,\n",
       "  1796520,\n",
       "  962392,\n",
       "  290266,\n",
       "  258547,\n",
       "  266841,\n",
       "  308929]]"
      ]
     },
     "execution_count": 48,
     "metadata": {},
     "output_type": "execute_result"
    }
   ],
   "source": [
    "accum_lst = []\n",
    "accum_lst.append(np.add(np.array(counts_lst[0]), np.array(counts_lst[1])).tolist())\n",
    "accum_lst.append(np.add(np.array(accum_lst[0]), np.array(counts_lst[2])).tolist())\n",
    "accum_lst.append(np.add(np.array(accum_lst[1]), np.array(counts_lst[3])).tolist())\n",
    "accum_lst.append(np.add(np.array(accum_lst[2]), np.array(counts_lst[4])).tolist())\n",
    "accum_lst.append(np.add(np.array(accum_lst[3]), np.array(counts_lst[5])).tolist())\n",
    "\n",
    "accum_lst"
   ]
  },
  {
   "cell_type": "code",
   "execution_count": 72,
   "metadata": {},
   "outputs": [
    {
     "data": {
      "image/png": "[encoded data removed]",
      "text/plain": [
       "<Figure size 432x288 with 1 Axes>"
      ]
     },
     "metadata": {
      "needs_background": "light"
     },
     "output_type": "display_data"
    }
   ],
   "source": [
    "months = list(range(1, 13))\n",
    "month_labels = ['Jan.', 'Feb.', 'Mar.', 'Apr.', 'May', 'Jun.', 'Jul.', 'Aug.', 'Sep.', 'Oct.', 'Nov.', 'Dec.']\n",
    "fig, ax = plt.subplots()\n",
    "\n",
    "ax.bar(months, height=counts_lst[0], color='red', label='2013')\n",
    "ax.bar(months, height=counts_lst[1], bottom=counts_lst[0], color='orange', label='2014')\n",
    "ax.bar(months, height=counts_lst[2], bottom=accum_lst[0], color='yellow', label='2015')\n",
    "ax.bar(months, height=counts_lst[3], bottom=accum_lst[1], color='green', label='2016')\n",
    "ax.bar(months, height=counts_lst[4], bottom=accum_lst[2], color='blue', label='2017')\n",
    "ax.bar(months, height=counts_lst[5], bottom=accum_lst[3], color='purple', label='2018')\n",
    "ax.bar(months, height=counts_lst[6], bottom=accum_lst[4], color='pink', label='2019')\n",
    "\n",
    "ax.legend()\n",
    "ax.set_xticks(list(range(1, 13)))\n",
    "ax.set_xticklabels(month_labels, rotation=45)\n",
    "        \n",
    "ax.set_title('Acres Burned per Month')\n",
    "ax.set_xlabel('Months')\n",
    "ax.set_ylabel('Acres in Millions')\n",
    "fig.savefig('stacked-bar.png')\n",
    "\n",
    "plt.show()"
   ]
  },
  {
   "cell_type": "code",
   "execution_count": null,
   "metadata": {},
   "outputs": [],
   "source": []
  },
  {
   "cell_type": "code",
   "execution_count": null,
   "metadata": {},
   "outputs": [],
   "source": []
  },
  {
   "cell_type": "markdown",
   "metadata": {},
   "source": [
    "HYPOTHESIS TEST"
   ]
  },
  {
   "cell_type": "markdown",
   "metadata": {},
   "source": [
    "H0: There is no trend for the number of acres burned by the California Fires over the years 2013-2019.\n",
    "\n",
    "H1: The number of acres burned by the California Fires has been increasing over the years."
   ]
  },
  {
   "cell_type": "code",
   "execution_count": 68,
   "metadata": {},
   "outputs": [
    {
     "name": "stderr",
     "output_type": "stream",
     "text": [
      "/opt/anaconda3/lib/python3.7/site-packages/ipykernel_launcher.py:8: UserWarning: FixedFormatter should only be used together with FixedLocator\n",
      "  \n"
     ]
    },
    {
     "data": {
      "image/png": "[encoded data removed]",
      "text/plain": [
       "<Figure size 1152x288 with 1 Axes>"
      ]
     },
     "metadata": {
      "needs_background": "light"
     },
     "output_type": "display_data"
    }
   ],
   "source": [
    "fig, ax = plt.subplots(figsize=(16, 4))\n",
    "ax.scatter(ca_fires_df['StartDate'], ca_fires_df['AcresBurned'])\n",
    "\n",
    "ax.set_title('Acres Burned vs. Time')\n",
    "ax.set_xlabel('Time')\n",
    "ax.set_ylabel('Acres Burned in Millions')\n",
    "ax.set_ylim(0, 0.5*10**6)\n",
    "ax.set_yticklabels([0, 0.1, 0.2, 0.3, 0.4, 0.5])\n",
    "\n",
    "plt.show()\n",
    "fig.savefig('time-vs-acres-scatter.png')"
   ]
  },
  {
   "cell_type": "code",
   "execution_count": 51,
   "metadata": {},
   "outputs": [],
   "source": [
    "ca_fires_copy = ca_fires_df.copy()\n",
    "ca_fires_copy = ca_fires_copy.sort_values('StartDate')\n",
    "# sorts the dataset in chronological order."
   ]
  },
  {
   "cell_type": "code",
   "execution_count": 52,
   "metadata": {},
   "outputs": [],
   "source": [
    "time_diff = []\n",
    "date_lst = list(ca_fires_copy['StartDate'].sort_values())\n",
    "for idx in range(0, len(date_lst)-1):\n",
    "    time_diff.append(date_lst[idx+1]-date_lst[0])\n",
    "# creates a list of time differences from the data point to the first recorded observation.\n",
    "\n",
    "time_diff.insert(0, timedelta(days=0))\n",
    "# inserts a 0 since the first day is the initial day.\n",
    "\n",
    "ca_fires_copy['TimeDifference'] = time_diff\n",
    "# creates a new column with those calculated differences."
   ]
  },
  {
   "cell_type": "code",
   "execution_count": 53,
   "metadata": {},
   "outputs": [],
   "source": [
    "time_diff_int = []\n",
    "for date in list(ca_fires_copy['TimeDifference']):\n",
    "    time_diff_int.append(date.days)\n",
    "# creates a list that changes the timedelta data to integers."
   ]
  },
  {
   "cell_type": "code",
   "execution_count": 54,
   "metadata": {},
   "outputs": [],
   "source": [
    "ca_fires_copy['TimeDiffAsInt'] = time_diff_int\n",
    "# adds the integer list as a new column."
   ]
  },
  {
   "cell_type": "code",
   "execution_count": 55,
   "metadata": {},
   "outputs": [
    {
     "data": {
      "text/plain": [
       "(-0.01256766194383122, 0.6372727443945736)"
      ]
     },
     "execution_count": 55,
     "metadata": {},
     "output_type": "execute_result"
    }
   ],
   "source": [
    "corr, p_value = stats.pearsonr(ca_fires_copy['TimeDiffAsInt'], ca_fires_copy['AcresBurned'])\n",
    "corr, p_value"
   ]
  },
  {
   "cell_type": "code",
   "execution_count": 56,
   "metadata": {},
   "outputs": [
    {
     "data": {
      "text/plain": [
       "(-0.10597020722975467, 6.694812674182656e-05)"
      ]
     },
     "execution_count": 56,
     "metadata": {},
     "output_type": "execute_result"
    }
   ],
   "source": [
    "corr, p_value = stats.spearmanr(ca_fires_copy['TimeDiffAsInt'], ca_fires_copy['AcresBurned'])\n",
    "corr, p_value\n",
    "# won't use Spearman because it shows a small correlation, but states that it is statistically significant."
   ]
  },
  {
   "cell_type": "code",
   "execution_count": null,
   "metadata": {},
   "outputs": [],
   "source": []
  },
  {
   "cell_type": "code",
   "execution_count": 57,
   "metadata": {},
   "outputs": [],
   "source": [
    "mi_lst = []\n",
    "for year in year_lst:\n",
    "    mi_lst.append(ca_fires_df[ca_fires_df['StartYear']==year]['MajorIncident'])\n",
    "# creates a list where each element is the data from the column, 'MajorIncident', of one year."
   ]
  },
  {
   "cell_type": "code",
   "execution_count": 58,
   "metadata": {},
   "outputs": [],
   "source": [
    "nk_dct = {}\n",
    "for bool_lst in mi_lst:\n",
    "    nk_dct[len(bool_lst)] = sum(bool_lst)\n",
    "# creates a dictionary where the key is the number of observations in that year and the value is the number of 'MajorIncidents'."
   ]
  },
  {
   "cell_type": "code",
   "execution_count": 59,
   "metadata": {},
   "outputs": [],
   "source": [
    "post_dist = []\n",
    "for n, k in nk_dct.items():\n",
    "    post_dist.append(stats.distributions.beta(a = 1 + k, b = 1 + n - k))\n",
    "# runs a posterior distribution for each year."
   ]
  },
  {
   "cell_type": "code",
   "execution_count": 60,
   "metadata": {},
   "outputs": [
    {
     "data": {
      "image/png": "[encoded data removed]",
      "text/plain": [
       "<Figure size 720x432 with 1 Axes>"
      ]
     },
     "metadata": {
      "needs_background": "light"
     },
     "output_type": "display_data"
    }
   ],
   "source": [
    "fig, ax = plt.subplots(figsize=(10, 6))\n",
    "x = np.linspace(0,1,1000)\n",
    "year_lst = [2013, 2014, 2015, 2016, 2017, 2018, 2019]\n",
    "for idx, dist in enumerate(post_dist):\n",
    "    ax.plot(x, dist.pdf(x), label=f'{year_lst[idx]}')\n",
    "    ax.legend()\n",
    "    ax.set_title('Posterior Probabilities of a Major Incident by Year')\n",
    "    ax.set_xlabel('p')\n",
    "    ax.set_ylabel('pdf')\n",
    "\n",
    "fig.savefig('posterior-plots.png')\n",
    "# plots the posterior distributions for each year."
   ]
  },
  {
   "cell_type": "code",
   "execution_count": 61,
   "metadata": {},
   "outputs": [],
   "source": [
    "beta_2013 = post_dist[0]\n",
    "beta_2019 = post_dist[-1]\n",
    "# assigns the beta distributions of 2013 and 2019."
   ]
  },
  {
   "cell_type": "code",
   "execution_count": 62,
   "metadata": {},
   "outputs": [],
   "source": [
    "sim_2013 = beta_2013.rvs(size=10000)\n",
    "sim_2019 = beta_2019.rvs(size=10000)\n",
    "# creates 10,000 simulations from the 'MajorIncident' column."
   ]
  },
  {
   "cell_type": "code",
   "execution_count": 63,
   "metadata": {},
   "outputs": [
    {
     "data": {
      "text/plain": [
       "0.0"
      ]
     },
     "execution_count": 63,
     "metadata": {},
     "output_type": "execute_result"
    }
   ],
   "source": [
    "(sim_2019 > sim_2013).mean()\n",
    "# calculates what the probability is that P(MajorIncident|2019) > P(MajorIncident|2013)."
   ]
  },
  {
   "cell_type": "markdown",
   "metadata": {},
   "source": [
    "There is a very low (basically 0%) chance that the probability that a fire is a major incident in 2019 is greater than that in 2013. Therefore, we can deduce that people's perception of how dangerous the fires are is going down."
   ]
  },
  {
   "cell_type": "code",
   "execution_count": 64,
   "metadata": {},
   "outputs": [
    {
     "data": {
      "text/plain": [
       "0.0647"
      ]
     },
     "execution_count": 64,
     "metadata": {},
     "output_type": "execute_result"
    }
   ],
   "source": [
    "beta_2013 = post_dist[0]\n",
    "beta_2018 = post_dist[-2]\n",
    "sim_2013 = beta_2013.rvs(size=10000)\n",
    "sim_2018 = beta_2018.rvs(size=10000)\n",
    "(sim_2018 > sim_2013).mean()\n",
    "# does the same thing as above but for 2013 and 2018."
   ]
  },
  {
   "cell_type": "markdown",
   "metadata": {},
   "source": [
    "Due to the fact that 2019 was an anomaly, I tested for the difference between 2013 and 2018. There is 6% chance that the probability that a fire is a major incident in 2018 is greater than that in 2013. This is still low, which would allow us to reach the same conclusion."
   ]
  },
  {
   "cell_type": "code",
   "execution_count": null,
   "metadata": {},
   "outputs": [],
   "source": []
  },
  {
   "cell_type": "code",
   "execution_count": null,
   "metadata": {},
   "outputs": [],
   "source": []
  },
  {
   "cell_type": "markdown",
   "metadata": {},
   "source": [
    "CONCLUSION"
   ]
  },
  {
   "cell_type": "markdown",
   "metadata": {},
   "source": [
    "Observations:\n",
    "\n",
    "2019 was known as an \"anomaly\" with heavy rains that were able to prevent fires from starting in California.\n",
    "Even though the 'severity' (AcresBurned) could not be proven to be increasing, the number of fires is still increasing in California.\n",
    "Over the past 6 years, fires have been more 'severe' (AcresBurned) in the summer/fall time rather than the spring/summer time.\n",
    "Now, people do not think of fires as major incidents as much as they did in 2013.\n",
    "Even though 2014 had a low total of acres burned, the area affected was consistently higher than the medians of other years.\n",
    "2014 had a lot of medium fires, whereas other years had a couple big fires and many small fires.\n",
    "\n",
    "Thoughts for further testing:\n",
    "\n",
    "Increase the time period.\n",
    "Have a column for temperature and test for a relationship.\n",
    "Find a cause for each fire and see why the number of fires is increasing. Climate change?"
   ]
  },
  {
   "cell_type": "markdown",
   "metadata": {},
   "source": [
    "Sources:\n",
    "\n",
    "https://towardsdatascience.com/data-101s-spatial-visualizations-and-analysis-in-python-with-folium-39730da2adf\n",
    "-showed me how to create a spatial map.\n",
    "\n",
    "https://www.sciencemag.org/news/2020/03/us-wildfires-plummeted-2019-experts-say-it-won-t-last\n",
    "-explained to me why 2019 had so few fires.\n",
    "\n",
    "https://wildfiretoday.com/2015/11/09/was-the-2014-wildfire-season-in-california-affected-by-climate-change/\n",
    "-shed some light on why 2014 had a high median for AcresBurned.\n",
    "\n",
    "https://www.fs.usda.gov/treesearch/pubs/58973\n",
    "-said they use number of fires and area burned to determine how severe a fire is."
   ]
  },
  {
   "cell_type": "code",
   "execution_count": null,
   "metadata": {},
   "outputs": [],
   "source": []
  }
 ],
 "metadata": {
  "kernelspec": {
   "display_name": "Python 3",
   "language": "python",
   "name": "python3"
  },
  "language_info": {
   "codemirror_mode": {
    "name": "ipython",
    "version": 3
   },
   "file_extension": ".py",
   "mimetype": "text/x-python",
   "name": "python",
   "nbconvert_exporter": "python",
   "pygments_lexer": "ipython3",
   "version": "3.7.9"
  }
 },
 "nbformat": 4,
 "nbformat_minor": 4
}
