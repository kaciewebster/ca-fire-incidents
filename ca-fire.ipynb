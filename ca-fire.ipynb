{
 "cells": [
  {
   "cell_type": "code",
   "execution_count": 246,
   "metadata": {},
   "outputs": [],
   "source": [
    "import numpy as np\n",
    "import pandas as pd\n",
    "import matplotlib.pyplot as plt\n",
    "import folium\n",
    "import folium.plugins as plugins\n",
    "import scipy.stats as stats\n",
    "from sklearn.linear_model import LinearRegression\n"
   ]
  },
  {
   "cell_type": "code",
   "execution_count": 87,
   "metadata": {},
   "outputs": [
    {
     "data": {
      "text/html": [
       "<div>\n",
       "<style scoped>\n",
       "    .dataframe tbody tr th:only-of-type {\n",
       "        vertical-align: middle;\n",
       "    }\n",
       "\n",
       "    .dataframe tbody tr th {\n",
       "        vertical-align: top;\n",
       "    }\n",
       "\n",
       "    .dataframe thead th {\n",
       "        text-align: right;\n",
       "    }\n",
       "</style>\n",
       "<table border=\"1\" class=\"dataframe\">\n",
       "  <thead>\n",
       "    <tr style=\"text-align: right;\">\n",
       "      <th></th>\n",
       "      <th>AcresBurned</th>\n",
       "      <th>Active</th>\n",
       "      <th>AdminUnit</th>\n",
       "      <th>AirTankers</th>\n",
       "      <th>ArchiveYear</th>\n",
       "      <th>CalFireIncident</th>\n",
       "      <th>CanonicalUrl</th>\n",
       "      <th>ConditionStatement</th>\n",
       "      <th>ControlStatement</th>\n",
       "      <th>Counties</th>\n",
       "      <th>...</th>\n",
       "      <th>SearchKeywords</th>\n",
       "      <th>Started</th>\n",
       "      <th>Status</th>\n",
       "      <th>StructuresDamaged</th>\n",
       "      <th>StructuresDestroyed</th>\n",
       "      <th>StructuresEvacuated</th>\n",
       "      <th>StructuresThreatened</th>\n",
       "      <th>UniqueId</th>\n",
       "      <th>Updated</th>\n",
       "      <th>WaterTenders</th>\n",
       "    </tr>\n",
       "  </thead>\n",
       "  <tbody>\n",
       "    <tr>\n",
       "      <th>0</th>\n",
       "      <td>257314.0</td>\n",
       "      <td>False</td>\n",
       "      <td>Stanislaus National Forest/Yosemite National Park</td>\n",
       "      <td>NaN</td>\n",
       "      <td>2013</td>\n",
       "      <td>True</td>\n",
       "      <td>/incidents/2013/8/17/rim-fire/</td>\n",
       "      <td>NaN</td>\n",
       "      <td>NaN</td>\n",
       "      <td>Tuolumne</td>\n",
       "      <td>...</td>\n",
       "      <td>Rim Fire, Stanislaus National Forest, Yosemite...</td>\n",
       "      <td>2013-08-17T15:25:00Z</td>\n",
       "      <td>Finalized</td>\n",
       "      <td>NaN</td>\n",
       "      <td>NaN</td>\n",
       "      <td>NaN</td>\n",
       "      <td>NaN</td>\n",
       "      <td>5fb18d4d-213f-4d83-a179-daaf11939e78</td>\n",
       "      <td>2013-09-06T18:30:00Z</td>\n",
       "      <td>NaN</td>\n",
       "    </tr>\n",
       "    <tr>\n",
       "      <th>1</th>\n",
       "      <td>30274.0</td>\n",
       "      <td>False</td>\n",
       "      <td>USFS Angeles National Forest/Los Angeles Count...</td>\n",
       "      <td>NaN</td>\n",
       "      <td>2013</td>\n",
       "      <td>True</td>\n",
       "      <td>/incidents/2013/5/30/powerhouse-fire/</td>\n",
       "      <td>NaN</td>\n",
       "      <td>NaN</td>\n",
       "      <td>Los Angeles</td>\n",
       "      <td>...</td>\n",
       "      <td>Powerhouse Fire, May 2013, June 2013, Angeles ...</td>\n",
       "      <td>2013-05-30T15:28:00Z</td>\n",
       "      <td>Finalized</td>\n",
       "      <td>NaN</td>\n",
       "      <td>NaN</td>\n",
       "      <td>NaN</td>\n",
       "      <td>NaN</td>\n",
       "      <td>bf37805e-1cc2-4208-9972-753e47874c87</td>\n",
       "      <td>2013-06-08T18:30:00Z</td>\n",
       "      <td>NaN</td>\n",
       "    </tr>\n",
       "    <tr>\n",
       "      <th>2</th>\n",
       "      <td>27531.0</td>\n",
       "      <td>False</td>\n",
       "      <td>CAL FIRE Riverside Unit / San Bernardino Natio...</td>\n",
       "      <td>NaN</td>\n",
       "      <td>2013</td>\n",
       "      <td>True</td>\n",
       "      <td>/incidents/2013/7/15/mountain-fire/</td>\n",
       "      <td>NaN</td>\n",
       "      <td>NaN</td>\n",
       "      <td>Riverside</td>\n",
       "      <td>...</td>\n",
       "      <td>Mountain Fire, July 2013, Highway 243, Highway...</td>\n",
       "      <td>2013-07-15T13:43:00Z</td>\n",
       "      <td>Finalized</td>\n",
       "      <td>NaN</td>\n",
       "      <td>NaN</td>\n",
       "      <td>NaN</td>\n",
       "      <td>NaN</td>\n",
       "      <td>a3149fec-4d48-427c-8b2c-59e8b79d59db</td>\n",
       "      <td>2013-07-30T18:00:00Z</td>\n",
       "      <td>NaN</td>\n",
       "    </tr>\n",
       "    <tr>\n",
       "      <th>3</th>\n",
       "      <td>27440.0</td>\n",
       "      <td>False</td>\n",
       "      <td>Tahoe National Forest</td>\n",
       "      <td>NaN</td>\n",
       "      <td>2013</td>\n",
       "      <td>False</td>\n",
       "      <td>/incidents/2013/8/10/american-fire/</td>\n",
       "      <td>NaN</td>\n",
       "      <td>NaN</td>\n",
       "      <td>Placer</td>\n",
       "      <td>...</td>\n",
       "      <td>American Fire, August 2013, Deadwood Ridge, Fo...</td>\n",
       "      <td>2013-08-10T16:30:00Z</td>\n",
       "      <td>Finalized</td>\n",
       "      <td>NaN</td>\n",
       "      <td>NaN</td>\n",
       "      <td>NaN</td>\n",
       "      <td>NaN</td>\n",
       "      <td>8213f5c7-34fa-403b-a4bc-da2ace6e6625</td>\n",
       "      <td>2013-08-30T08:00:00Z</td>\n",
       "      <td>NaN</td>\n",
       "    </tr>\n",
       "    <tr>\n",
       "      <th>4</th>\n",
       "      <td>24251.0</td>\n",
       "      <td>False</td>\n",
       "      <td>Ventura County Fire/CAL FIRE</td>\n",
       "      <td>NaN</td>\n",
       "      <td>2013</td>\n",
       "      <td>True</td>\n",
       "      <td>/incidents/2013/5/2/springs-fire/</td>\n",
       "      <td>Acreage has been reduced based upon more accur...</td>\n",
       "      <td>NaN</td>\n",
       "      <td>Ventura</td>\n",
       "      <td>...</td>\n",
       "      <td>Springs Fire, May 2013, Highway 101, Camarillo...</td>\n",
       "      <td>2013-05-02T07:01:00Z</td>\n",
       "      <td>Finalized</td>\n",
       "      <td>6.0</td>\n",
       "      <td>10.0</td>\n",
       "      <td>NaN</td>\n",
       "      <td>NaN</td>\n",
       "      <td>46731fb8-3350-4920-bdf7-910ac0eb715c</td>\n",
       "      <td>2013-05-11T06:30:00Z</td>\n",
       "      <td>11.0</td>\n",
       "    </tr>\n",
       "  </tbody>\n",
       "</table>\n",
       "<p>5 rows × 40 columns</p>\n",
       "</div>"
      ],
      "text/plain": [
       "   AcresBurned  Active                                          AdminUnit  \\\n",
       "0     257314.0   False  Stanislaus National Forest/Yosemite National Park   \n",
       "1      30274.0   False  USFS Angeles National Forest/Los Angeles Count...   \n",
       "2      27531.0   False  CAL FIRE Riverside Unit / San Bernardino Natio...   \n",
       "3      27440.0   False                              Tahoe National Forest   \n",
       "4      24251.0   False                       Ventura County Fire/CAL FIRE   \n",
       "\n",
       "   AirTankers  ArchiveYear  CalFireIncident  \\\n",
       "0         NaN         2013             True   \n",
       "1         NaN         2013             True   \n",
       "2         NaN         2013             True   \n",
       "3         NaN         2013            False   \n",
       "4         NaN         2013             True   \n",
       "\n",
       "                            CanonicalUrl  \\\n",
       "0         /incidents/2013/8/17/rim-fire/   \n",
       "1  /incidents/2013/5/30/powerhouse-fire/   \n",
       "2    /incidents/2013/7/15/mountain-fire/   \n",
       "3    /incidents/2013/8/10/american-fire/   \n",
       "4      /incidents/2013/5/2/springs-fire/   \n",
       "\n",
       "                                  ConditionStatement ControlStatement  \\\n",
       "0                                                NaN              NaN   \n",
       "1                                                NaN              NaN   \n",
       "2                                                NaN              NaN   \n",
       "3                                                NaN              NaN   \n",
       "4  Acreage has been reduced based upon more accur...              NaN   \n",
       "\n",
       "      Counties  ...                                     SearchKeywords  \\\n",
       "0     Tuolumne  ...  Rim Fire, Stanislaus National Forest, Yosemite...   \n",
       "1  Los Angeles  ...  Powerhouse Fire, May 2013, June 2013, Angeles ...   \n",
       "2    Riverside  ...  Mountain Fire, July 2013, Highway 243, Highway...   \n",
       "3       Placer  ...  American Fire, August 2013, Deadwood Ridge, Fo...   \n",
       "4      Ventura  ...  Springs Fire, May 2013, Highway 101, Camarillo...   \n",
       "\n",
       "                Started     Status  StructuresDamaged StructuresDestroyed  \\\n",
       "0  2013-08-17T15:25:00Z  Finalized                NaN                 NaN   \n",
       "1  2013-05-30T15:28:00Z  Finalized                NaN                 NaN   \n",
       "2  2013-07-15T13:43:00Z  Finalized                NaN                 NaN   \n",
       "3  2013-08-10T16:30:00Z  Finalized                NaN                 NaN   \n",
       "4  2013-05-02T07:01:00Z  Finalized                6.0                10.0   \n",
       "\n",
       "   StructuresEvacuated  StructuresThreatened  \\\n",
       "0                  NaN                   NaN   \n",
       "1                  NaN                   NaN   \n",
       "2                  NaN                   NaN   \n",
       "3                  NaN                   NaN   \n",
       "4                  NaN                   NaN   \n",
       "\n",
       "                               UniqueId               Updated  WaterTenders  \n",
       "0  5fb18d4d-213f-4d83-a179-daaf11939e78  2013-09-06T18:30:00Z           NaN  \n",
       "1  bf37805e-1cc2-4208-9972-753e47874c87  2013-06-08T18:30:00Z           NaN  \n",
       "2  a3149fec-4d48-427c-8b2c-59e8b79d59db  2013-07-30T18:00:00Z           NaN  \n",
       "3  8213f5c7-34fa-403b-a4bc-da2ace6e6625  2013-08-30T08:00:00Z           NaN  \n",
       "4  46731fb8-3350-4920-bdf7-910ac0eb715c  2013-05-11T06:30:00Z          11.0  \n",
       "\n",
       "[5 rows x 40 columns]"
      ]
     },
     "execution_count": 87,
     "metadata": {},
     "output_type": "execute_result"
    }
   ],
   "source": [
    "full_fires_df = pd.read_csv('/Users/kaciewebster/Documents/dsi/ca-fire-incidents/California_Fire_Incidents.csv')\n",
    "full_fires_df.head()"
   ]
  },
  {
   "cell_type": "code",
   "execution_count": 88,
   "metadata": {},
   "outputs": [
    {
     "data": {
      "text/plain": [
       "(1636, 40)"
      ]
     },
     "execution_count": 88,
     "metadata": {},
     "output_type": "execute_result"
    }
   ],
   "source": [
    "full_fires_df.shape"
   ]
  },
  {
   "cell_type": "code",
   "execution_count": 89,
   "metadata": {},
   "outputs": [
    {
     "name": "stdout",
     "output_type": "stream",
     "text": [
      "<class 'pandas.core.frame.DataFrame'>\n",
      "RangeIndex: 1636 entries, 0 to 1635\n",
      "Data columns (total 40 columns):\n",
      " #   Column                Non-Null Count  Dtype  \n",
      "---  ------                --------------  -----  \n",
      " 0   AcresBurned           1633 non-null   float64\n",
      " 1   Active                1636 non-null   bool   \n",
      " 2   AdminUnit             1636 non-null   object \n",
      " 3   AirTankers            28 non-null     float64\n",
      " 4   ArchiveYear           1636 non-null   int64  \n",
      " 5   CalFireIncident       1636 non-null   bool   \n",
      " 6   CanonicalUrl          1636 non-null   object \n",
      " 7   ConditionStatement    284 non-null    object \n",
      " 8   ControlStatement      111 non-null    object \n",
      " 9   Counties              1636 non-null   object \n",
      " 10  CountyIds             1636 non-null   object \n",
      " 11  CrewsInvolved         171 non-null    float64\n",
      " 12  Dozers                123 non-null    float64\n",
      " 13  Engines               191 non-null    float64\n",
      " 14  Extinguished          1577 non-null   object \n",
      " 15  Fatalities            21 non-null     float64\n",
      " 16  Featured              1636 non-null   bool   \n",
      " 17  Final                 1636 non-null   bool   \n",
      " 18  FuelType              12 non-null     object \n",
      " 19  Helicopters           84 non-null     float64\n",
      " 20  Injuries              120 non-null    float64\n",
      " 21  Latitude              1636 non-null   float64\n",
      " 22  Location              1636 non-null   object \n",
      " 23  Longitude             1636 non-null   float64\n",
      " 24  MajorIncident         1636 non-null   bool   \n",
      " 25  Name                  1636 non-null   object \n",
      " 26  PercentContained      1633 non-null   float64\n",
      " 27  PersonnelInvolved     204 non-null    float64\n",
      " 28  Public                1636 non-null   bool   \n",
      " 29  SearchDescription     1619 non-null   object \n",
      " 30  SearchKeywords        1433 non-null   object \n",
      " 31  Started               1636 non-null   object \n",
      " 32  Status                1636 non-null   object \n",
      " 33  StructuresDamaged     67 non-null     float64\n",
      " 34  StructuresDestroyed   175 non-null    float64\n",
      " 35  StructuresEvacuated   0 non-null      float64\n",
      " 36  StructuresThreatened  30 non-null     float64\n",
      " 37  UniqueId              1636 non-null   object \n",
      " 38  Updated               1636 non-null   object \n",
      " 39  WaterTenders          146 non-null    float64\n",
      "dtypes: bool(6), float64(17), int64(1), object(16)\n",
      "memory usage: 444.3+ KB\n"
     ]
    }
   ],
   "source": [
    "full_fires_df.info()"
   ]
  },
  {
   "cell_type": "code",
   "execution_count": 197,
   "metadata": {},
   "outputs": [],
   "source": [
    "full_fires_df['Started'].apply(lambda x: pd.to_datetime(x[:10]))\n",
    "full_fires_df['StartDate'] = full_fires_df['Started'].apply(lambda x: pd.to_datetime(x[:10]))"
   ]
  },
  {
   "cell_type": "code",
   "execution_count": 90,
   "metadata": {},
   "outputs": [
    {
     "data": {
      "text/plain": [
       "2017    437\n",
       "2018    315\n",
       "2019    266\n",
       "2016    185\n",
       "2013    162\n",
       "2015    152\n",
       "2014    117\n",
       "1969      2\n",
       "Name: Started, dtype: int64"
      ]
     },
     "execution_count": 90,
     "metadata": {},
     "output_type": "execute_result"
    }
   ],
   "source": [
    "full_fires_df['Started'].apply(lambda x: int(x[:4])).value_counts()\n",
    "# 2 observations from 1969, so drop them."
   ]
  },
  {
   "cell_type": "code",
   "execution_count": 91,
   "metadata": {},
   "outputs": [
    {
     "data": {
      "text/plain": [
       "0       2013\n",
       "1       2013\n",
       "2       2013\n",
       "3       2013\n",
       "4       2013\n",
       "        ... \n",
       "1631    2019\n",
       "1632    2019\n",
       "1633    2019\n",
       "1634    2019\n",
       "1635    2019\n",
       "Name: StartYear, Length: 1636, dtype: int64"
      ]
     },
     "execution_count": 91,
     "metadata": {},
     "output_type": "execute_result"
    }
   ],
   "source": [
    "full_fires_df['StartYear'] = full_fires_df['Started'].apply(lambda x: int(x[:4]))\n",
    "full_fires_df['StartYear']"
   ]
  },
  {
   "cell_type": "code",
   "execution_count": 92,
   "metadata": {},
   "outputs": [
    {
     "data": {
      "text/plain": [
       "7     415\n",
       "6     319\n",
       "8     282\n",
       "9     208\n",
       "10    147\n",
       "5     140\n",
       "11     42\n",
       "4      35\n",
       "12     21\n",
       "1      11\n",
       "2      10\n",
       "3       6\n",
       "Name: Started, dtype: int64"
      ]
     },
     "execution_count": 92,
     "metadata": {},
     "output_type": "execute_result"
    }
   ],
   "source": [
    "full_fires_df['Started'].apply(lambda x: int(x[5:7])).value_counts()"
   ]
  },
  {
   "cell_type": "code",
   "execution_count": 93,
   "metadata": {},
   "outputs": [
    {
     "data": {
      "text/plain": [
       "0        8\n",
       "1        5\n",
       "2        7\n",
       "3        8\n",
       "4        5\n",
       "        ..\n",
       "1631    10\n",
       "1632     6\n",
       "1633    11\n",
       "1634    10\n",
       "1635    10\n",
       "Name: StartMonth, Length: 1636, dtype: int64"
      ]
     },
     "execution_count": 93,
     "metadata": {},
     "output_type": "execute_result"
    }
   ],
   "source": [
    "full_fires_df['StartMonth'] = full_fires_df['Started'].apply(lambda x: int(x[5:7]))\n",
    "full_fires_df['StartMonth']"
   ]
  },
  {
   "cell_type": "code",
   "execution_count": 198,
   "metadata": {},
   "outputs": [
    {
     "data": {
      "text/plain": [
       "(1636, 10)"
      ]
     },
     "execution_count": 198,
     "metadata": {},
     "output_type": "execute_result"
    }
   ],
   "source": [
    "ca_fires_df = full_fires_df[['UniqueId', 'Name', 'Counties', 'StartYear', 'StartMonth', 'StartDate', 'AcresBurned', 'Latitude', 'Longitude', 'MajorIncident']]\n",
    "ca_fires_df.shape\n",
    "# created dataframe with columns: Name, Counties, StartYear, StartMonth, StartDate, AcresBurned, Latitude, Longitude."
   ]
  },
  {
   "cell_type": "code",
   "execution_count": 199,
   "metadata": {},
   "outputs": [
    {
     "data": {
      "text/plain": [
       "(1633, 10)"
      ]
     },
     "execution_count": 199,
     "metadata": {},
     "output_type": "execute_result"
    }
   ],
   "source": [
    "ca_fires_df = ca_fires_df.dropna(axis=0, subset=['AcresBurned'])\n",
    "ca_fires_df.shape\n",
    "# removed null values from AcresBurned column."
   ]
  },
  {
   "cell_type": "code",
   "execution_count": 200,
   "metadata": {},
   "outputs": [
    {
     "data": {
      "text/plain": [
       "(1462, 10)"
      ]
     },
     "execution_count": 200,
     "metadata": {},
     "output_type": "execute_result"
    }
   ],
   "source": [
    "ca_fires_df = ca_fires_df[(ca_fires_df['Latitude'] >= 32) & (ca_fires_df['Latitude'] <= 42) & (ca_fires_df['Longitude'] <= -114) & (ca_fires_df['Longitude'] >= -126)]\n",
    "ca_fires_df.shape\n",
    "# removed observations that were not in CA."
   ]
  },
  {
   "cell_type": "code",
   "execution_count": 201,
   "metadata": {},
   "outputs": [
    {
     "data": {
      "text/plain": [
       "(1460, 10)"
      ]
     },
     "execution_count": 201,
     "metadata": {},
     "output_type": "execute_result"
    }
   ],
   "source": [
    "ca_fires_df = ca_fires_df[ca_fires_df['StartYear'] >= 2013]\n",
    "ca_fires_df.shape\n",
    "# removed observations that are not in the range 2013-2019."
   ]
  },
  {
   "cell_type": "code",
   "execution_count": 202,
   "metadata": {},
   "outputs": [
    {
     "data": {
      "text/html": [
       "<div>\n",
       "<style scoped>\n",
       "    .dataframe tbody tr th:only-of-type {\n",
       "        vertical-align: middle;\n",
       "    }\n",
       "\n",
       "    .dataframe tbody tr th {\n",
       "        vertical-align: top;\n",
       "    }\n",
       "\n",
       "    .dataframe thead th {\n",
       "        text-align: right;\n",
       "    }\n",
       "</style>\n",
       "<table border=\"1\" class=\"dataframe\">\n",
       "  <thead>\n",
       "    <tr style=\"text-align: right;\">\n",
       "      <th></th>\n",
       "      <th>UniqueId</th>\n",
       "      <th>Name</th>\n",
       "      <th>Counties</th>\n",
       "      <th>StartYear</th>\n",
       "      <th>StartMonth</th>\n",
       "      <th>StartDate</th>\n",
       "      <th>AcresBurned</th>\n",
       "      <th>Latitude</th>\n",
       "      <th>Longitude</th>\n",
       "      <th>MajorIncident</th>\n",
       "    </tr>\n",
       "  </thead>\n",
       "  <tbody>\n",
       "    <tr>\n",
       "      <th>1424</th>\n",
       "      <td>3086ac2b-bbb3-4321-81e3-3cfdb9e571e9</td>\n",
       "      <td>Jasper Fire</td>\n",
       "      <td>State of Nevada</td>\n",
       "      <td>2019</td>\n",
       "      <td>7</td>\n",
       "      <td>2019-07-13</td>\n",
       "      <td>1165.0</td>\n",
       "      <td>39.631945</td>\n",
       "      <td>-119.769881</td>\n",
       "      <td>False</td>\n",
       "    </tr>\n",
       "  </tbody>\n",
       "</table>\n",
       "</div>"
      ],
      "text/plain": [
       "                                  UniqueId         Name         Counties  \\\n",
       "1424  3086ac2b-bbb3-4321-81e3-3cfdb9e571e9  Jasper Fire  State of Nevada   \n",
       "\n",
       "      StartYear  StartMonth  StartDate  AcresBurned   Latitude   Longitude  \\\n",
       "1424       2019           7 2019-07-13       1165.0  39.631945 -119.769881   \n",
       "\n",
       "      MajorIncident  \n",
       "1424          False  "
      ]
     },
     "execution_count": 202,
     "metadata": {},
     "output_type": "execute_result"
    }
   ],
   "source": [
    "ca_fires_df[(ca_fires_df['Latitude'] >= 38) & (ca_fires_df['Latitude'] <= 41) & (ca_fires_df['Longitude'] <= -115) & (ca_fires_df['Longitude'] >= -118)]\n",
    "ca_fires_df[ca_fires_df['Counties'] == 'State of Nevada']\n",
    "# how I found out which fires were from Nevada."
   ]
  },
  {
   "cell_type": "code",
   "execution_count": 203,
   "metadata": {},
   "outputs": [
    {
     "data": {
      "text/plain": [
       "(1458, 10)"
      ]
     },
     "execution_count": 203,
     "metadata": {},
     "output_type": "execute_result"
    }
   ],
   "source": [
    "ca_fires_df = ca_fires_df[ca_fires_df['Counties'] != 'State of Nevada']\n",
    "ca_fires_df = ca_fires_df[ca_fires_df['Name'] != 'Tram Fire']\n",
    "ca_fires_df.shape\n",
    "# removed observations that are in Nevada.\n",
    "# one that had a county name, 'State of Nevada', and one that had coordinates outside of CA."
   ]
  },
  {
   "cell_type": "code",
   "execution_count": 204,
   "metadata": {},
   "outputs": [
    {
     "data": {
      "text/plain": [
       "347"
      ]
     },
     "execution_count": 204,
     "metadata": {},
     "output_type": "execute_result"
    }
   ],
   "source": [
    "ca_fires_df['MajorIncident'].sum()\n",
    "# 347 True's."
   ]
  },
  {
   "cell_type": "code",
   "execution_count": null,
   "metadata": {},
   "outputs": [],
   "source": []
  },
  {
   "cell_type": "code",
   "execution_count": 205,
   "metadata": {},
   "outputs": [
    {
     "data": {
      "text/html": [
       "<div>\n",
       "<style scoped>\n",
       "    .dataframe tbody tr th:only-of-type {\n",
       "        vertical-align: middle;\n",
       "    }\n",
       "\n",
       "    .dataframe tbody tr th {\n",
       "        vertical-align: top;\n",
       "    }\n",
       "\n",
       "    .dataframe thead th {\n",
       "        text-align: right;\n",
       "    }\n",
       "</style>\n",
       "<table border=\"1\" class=\"dataframe\">\n",
       "  <thead>\n",
       "    <tr style=\"text-align: right;\">\n",
       "      <th></th>\n",
       "      <th>UniqueId</th>\n",
       "      <th>Name</th>\n",
       "      <th>Counties</th>\n",
       "      <th>StartYear</th>\n",
       "      <th>StartMonth</th>\n",
       "      <th>StartDate</th>\n",
       "      <th>AcresBurned</th>\n",
       "      <th>Latitude</th>\n",
       "      <th>Longitude</th>\n",
       "      <th>MajorIncident</th>\n",
       "    </tr>\n",
       "  </thead>\n",
       "  <tbody>\n",
       "    <tr>\n",
       "      <th>0</th>\n",
       "      <td>5fb18d4d-213f-4d83-a179-daaf11939e78</td>\n",
       "      <td>Rim Fire</td>\n",
       "      <td>Tuolumne</td>\n",
       "      <td>2013</td>\n",
       "      <td>8</td>\n",
       "      <td>2013-08-17</td>\n",
       "      <td>257314.0</td>\n",
       "      <td>37.857000</td>\n",
       "      <td>-120.086000</td>\n",
       "      <td>False</td>\n",
       "    </tr>\n",
       "    <tr>\n",
       "      <th>1</th>\n",
       "      <td>bf37805e-1cc2-4208-9972-753e47874c87</td>\n",
       "      <td>Powerhouse Fire</td>\n",
       "      <td>Los Angeles</td>\n",
       "      <td>2013</td>\n",
       "      <td>5</td>\n",
       "      <td>2013-05-30</td>\n",
       "      <td>30274.0</td>\n",
       "      <td>34.585595</td>\n",
       "      <td>-118.423176</td>\n",
       "      <td>False</td>\n",
       "    </tr>\n",
       "    <tr>\n",
       "      <th>2</th>\n",
       "      <td>a3149fec-4d48-427c-8b2c-59e8b79d59db</td>\n",
       "      <td>Mountain Fire</td>\n",
       "      <td>Riverside</td>\n",
       "      <td>2013</td>\n",
       "      <td>7</td>\n",
       "      <td>2013-07-15</td>\n",
       "      <td>27531.0</td>\n",
       "      <td>33.709500</td>\n",
       "      <td>-116.728850</td>\n",
       "      <td>False</td>\n",
       "    </tr>\n",
       "    <tr>\n",
       "      <th>3</th>\n",
       "      <td>8213f5c7-34fa-403b-a4bc-da2ace6e6625</td>\n",
       "      <td>American Fire</td>\n",
       "      <td>Placer</td>\n",
       "      <td>2013</td>\n",
       "      <td>8</td>\n",
       "      <td>2013-08-10</td>\n",
       "      <td>27440.0</td>\n",
       "      <td>39.120000</td>\n",
       "      <td>-120.650000</td>\n",
       "      <td>False</td>\n",
       "    </tr>\n",
       "    <tr>\n",
       "      <th>5</th>\n",
       "      <td>bee8c339-4f26-4b78-a5b4-a8a0ebdb8786</td>\n",
       "      <td>Aspen Fire</td>\n",
       "      <td>Fresno</td>\n",
       "      <td>2013</td>\n",
       "      <td>7</td>\n",
       "      <td>2013-07-22</td>\n",
       "      <td>22992.0</td>\n",
       "      <td>37.279000</td>\n",
       "      <td>-119.318000</td>\n",
       "      <td>False</td>\n",
       "    </tr>\n",
       "  </tbody>\n",
       "</table>\n",
       "</div>"
      ],
      "text/plain": [
       "                               UniqueId             Name     Counties  \\\n",
       "0  5fb18d4d-213f-4d83-a179-daaf11939e78         Rim Fire     Tuolumne   \n",
       "1  bf37805e-1cc2-4208-9972-753e47874c87  Powerhouse Fire  Los Angeles   \n",
       "2  a3149fec-4d48-427c-8b2c-59e8b79d59db    Mountain Fire    Riverside   \n",
       "3  8213f5c7-34fa-403b-a4bc-da2ace6e6625    American Fire       Placer   \n",
       "5  bee8c339-4f26-4b78-a5b4-a8a0ebdb8786       Aspen Fire       Fresno   \n",
       "\n",
       "   StartYear  StartMonth  StartDate  AcresBurned   Latitude   Longitude  \\\n",
       "0       2013           8 2013-08-17     257314.0  37.857000 -120.086000   \n",
       "1       2013           5 2013-05-30      30274.0  34.585595 -118.423176   \n",
       "2       2013           7 2013-07-15      27531.0  33.709500 -116.728850   \n",
       "3       2013           8 2013-08-10      27440.0  39.120000 -120.650000   \n",
       "5       2013           7 2013-07-22      22992.0  37.279000 -119.318000   \n",
       "\n",
       "   MajorIncident  \n",
       "0          False  \n",
       "1          False  \n",
       "2          False  \n",
       "3          False  \n",
       "5          False  "
      ]
     },
     "execution_count": 205,
     "metadata": {},
     "output_type": "execute_result"
    }
   ],
   "source": [
    "ca_fires_df.head()"
   ]
  },
  {
   "cell_type": "code",
   "execution_count": 206,
   "metadata": {},
   "outputs": [
    {
     "data": {
      "text/html": [
       "<div>\n",
       "<style scoped>\n",
       "    .dataframe tbody tr th:only-of-type {\n",
       "        vertical-align: middle;\n",
       "    }\n",
       "\n",
       "    .dataframe tbody tr th {\n",
       "        vertical-align: top;\n",
       "    }\n",
       "\n",
       "    .dataframe thead th {\n",
       "        text-align: right;\n",
       "    }\n",
       "</style>\n",
       "<table border=\"1\" class=\"dataframe\">\n",
       "  <thead>\n",
       "    <tr style=\"text-align: right;\">\n",
       "      <th></th>\n",
       "      <th>StartYear</th>\n",
       "      <th>StartMonth</th>\n",
       "      <th>AcresBurned</th>\n",
       "      <th>Latitude</th>\n",
       "      <th>Longitude</th>\n",
       "    </tr>\n",
       "  </thead>\n",
       "  <tbody>\n",
       "    <tr>\n",
       "      <th>count</th>\n",
       "      <td>1458.000000</td>\n",
       "      <td>1458.000000</td>\n",
       "      <td>1458.000000</td>\n",
       "      <td>1458.000000</td>\n",
       "      <td>1458.000000</td>\n",
       "    </tr>\n",
       "    <tr>\n",
       "      <th>mean</th>\n",
       "      <td>2016.792867</td>\n",
       "      <td>7.396433</td>\n",
       "      <td>4705.664609</td>\n",
       "      <td>37.257266</td>\n",
       "      <td>-120.307460</td>\n",
       "    </tr>\n",
       "    <tr>\n",
       "      <th>std</th>\n",
       "      <td>1.804335</td>\n",
       "      <td>1.757201</td>\n",
       "      <td>28579.715193</td>\n",
       "      <td>2.553023</td>\n",
       "      <td>2.006310</td>\n",
       "    </tr>\n",
       "    <tr>\n",
       "      <th>min</th>\n",
       "      <td>2013.000000</td>\n",
       "      <td>1.000000</td>\n",
       "      <td>0.000000</td>\n",
       "      <td>32.557546</td>\n",
       "      <td>-124.196290</td>\n",
       "    </tr>\n",
       "    <tr>\n",
       "      <th>25%</th>\n",
       "      <td>2016.000000</td>\n",
       "      <td>6.000000</td>\n",
       "      <td>35.000000</td>\n",
       "      <td>34.965330</td>\n",
       "      <td>-121.870888</td>\n",
       "    </tr>\n",
       "    <tr>\n",
       "      <th>50%</th>\n",
       "      <td>2017.000000</td>\n",
       "      <td>7.000000</td>\n",
       "      <td>98.500000</td>\n",
       "      <td>37.459045</td>\n",
       "      <td>-120.723180</td>\n",
       "    </tr>\n",
       "    <tr>\n",
       "      <th>75%</th>\n",
       "      <td>2018.000000</td>\n",
       "      <td>9.000000</td>\n",
       "      <td>419.000000</td>\n",
       "      <td>39.246780</td>\n",
       "      <td>-118.768455</td>\n",
       "    </tr>\n",
       "    <tr>\n",
       "      <th>max</th>\n",
       "      <td>2019.000000</td>\n",
       "      <td>12.000000</td>\n",
       "      <td>410203.000000</td>\n",
       "      <td>41.999341</td>\n",
       "      <td>-114.572650</td>\n",
       "    </tr>\n",
       "  </tbody>\n",
       "</table>\n",
       "</div>"
      ],
      "text/plain": [
       "         StartYear   StartMonth    AcresBurned     Latitude    Longitude\n",
       "count  1458.000000  1458.000000    1458.000000  1458.000000  1458.000000\n",
       "mean   2016.792867     7.396433    4705.664609    37.257266  -120.307460\n",
       "std       1.804335     1.757201   28579.715193     2.553023     2.006310\n",
       "min    2013.000000     1.000000       0.000000    32.557546  -124.196290\n",
       "25%    2016.000000     6.000000      35.000000    34.965330  -121.870888\n",
       "50%    2017.000000     7.000000      98.500000    37.459045  -120.723180\n",
       "75%    2018.000000     9.000000     419.000000    39.246780  -118.768455\n",
       "max    2019.000000    12.000000  410203.000000    41.999341  -114.572650"
      ]
     },
     "execution_count": 206,
     "metadata": {},
     "output_type": "execute_result"
    }
   ],
   "source": [
    "ca_fires_df.describe()"
   ]
  },
  {
   "cell_type": "code",
   "execution_count": 207,
   "metadata": {},
   "outputs": [
    {
     "name": "stdout",
     "output_type": "stream",
     "text": [
      "<class 'pandas.core.frame.DataFrame'>\n",
      "Int64Index: 1458 entries, 0 to 1632\n",
      "Data columns (total 10 columns):\n",
      " #   Column         Non-Null Count  Dtype         \n",
      "---  ------         --------------  -----         \n",
      " 0   UniqueId       1458 non-null   object        \n",
      " 1   Name           1458 non-null   object        \n",
      " 2   Counties       1458 non-null   object        \n",
      " 3   StartYear      1458 non-null   int64         \n",
      " 4   StartMonth     1458 non-null   int64         \n",
      " 5   StartDate      1458 non-null   datetime64[ns]\n",
      " 6   AcresBurned    1458 non-null   float64       \n",
      " 7   Latitude       1458 non-null   float64       \n",
      " 8   Longitude      1458 non-null   float64       \n",
      " 9   MajorIncident  1458 non-null   bool          \n",
      "dtypes: bool(1), datetime64[ns](1), float64(3), int64(2), object(3)\n",
      "memory usage: 115.3+ KB\n"
     ]
    }
   ],
   "source": [
    "ca_fires_df.info()"
   ]
  },
  {
   "cell_type": "code",
   "execution_count": 208,
   "metadata": {},
   "outputs": [
    {
     "data": {
      "text/plain": [
       "1433"
      ]
     },
     "execution_count": 208,
     "metadata": {},
     "output_type": "execute_result"
    }
   ],
   "source": [
    "ca_fires_df['UniqueId'].nunique()"
   ]
  },
  {
   "cell_type": "code",
   "execution_count": 209,
   "metadata": {},
   "outputs": [
    {
     "data": {
      "text/html": [
       "<div>\n",
       "<style scoped>\n",
       "    .dataframe tbody tr th:only-of-type {\n",
       "        vertical-align: middle;\n",
       "    }\n",
       "\n",
       "    .dataframe tbody tr th {\n",
       "        vertical-align: top;\n",
       "    }\n",
       "\n",
       "    .dataframe thead th {\n",
       "        text-align: right;\n",
       "    }\n",
       "</style>\n",
       "<table border=\"1\" class=\"dataframe\">\n",
       "  <thead>\n",
       "    <tr style=\"text-align: right;\">\n",
       "      <th></th>\n",
       "      <th>UniqueId</th>\n",
       "      <th>Name</th>\n",
       "      <th>Counties</th>\n",
       "      <th>StartYear</th>\n",
       "      <th>StartMonth</th>\n",
       "      <th>StartDate</th>\n",
       "      <th>AcresBurned</th>\n",
       "      <th>Latitude</th>\n",
       "      <th>Longitude</th>\n",
       "      <th>MajorIncident</th>\n",
       "    </tr>\n",
       "  </thead>\n",
       "  <tbody>\n",
       "    <tr>\n",
       "      <th>1054</th>\n",
       "      <td>90b0daf7-5d84-42d9-bb35-bb78d4faf950</td>\n",
       "      <td>Ranch Fire (Mendocino Complex)</td>\n",
       "      <td>Colusa</td>\n",
       "      <td>2018</td>\n",
       "      <td>7</td>\n",
       "      <td>2018-07-27</td>\n",
       "      <td>410203.0</td>\n",
       "      <td>39.243283</td>\n",
       "      <td>-123.103367</td>\n",
       "      <td>True</td>\n",
       "    </tr>\n",
       "    <tr>\n",
       "      <th>1055</th>\n",
       "      <td>90b0daf7-5d84-42d9-bb35-bb78d4faf950</td>\n",
       "      <td>Ranch Fire (Mendocino Complex)</td>\n",
       "      <td>Glenn</td>\n",
       "      <td>2018</td>\n",
       "      <td>7</td>\n",
       "      <td>2018-07-27</td>\n",
       "      <td>410203.0</td>\n",
       "      <td>39.243283</td>\n",
       "      <td>-123.103367</td>\n",
       "      <td>True</td>\n",
       "    </tr>\n",
       "    <tr>\n",
       "      <th>1056</th>\n",
       "      <td>90b0daf7-5d84-42d9-bb35-bb78d4faf950</td>\n",
       "      <td>Ranch Fire (Mendocino Complex)</td>\n",
       "      <td>Lake</td>\n",
       "      <td>2018</td>\n",
       "      <td>7</td>\n",
       "      <td>2018-07-27</td>\n",
       "      <td>410203.0</td>\n",
       "      <td>39.243283</td>\n",
       "      <td>-123.103367</td>\n",
       "      <td>True</td>\n",
       "    </tr>\n",
       "    <tr>\n",
       "      <th>1057</th>\n",
       "      <td>90b0daf7-5d84-42d9-bb35-bb78d4faf950</td>\n",
       "      <td>Ranch Fire (Mendocino Complex)</td>\n",
       "      <td>Mendocino</td>\n",
       "      <td>2018</td>\n",
       "      <td>7</td>\n",
       "      <td>2018-07-27</td>\n",
       "      <td>410203.0</td>\n",
       "      <td>39.243283</td>\n",
       "      <td>-123.103367</td>\n",
       "      <td>True</td>\n",
       "    </tr>\n",
       "  </tbody>\n",
       "</table>\n",
       "</div>"
      ],
      "text/plain": [
       "                                  UniqueId                            Name  \\\n",
       "1054  90b0daf7-5d84-42d9-bb35-bb78d4faf950  Ranch Fire (Mendocino Complex)   \n",
       "1055  90b0daf7-5d84-42d9-bb35-bb78d4faf950  Ranch Fire (Mendocino Complex)   \n",
       "1056  90b0daf7-5d84-42d9-bb35-bb78d4faf950  Ranch Fire (Mendocino Complex)   \n",
       "1057  90b0daf7-5d84-42d9-bb35-bb78d4faf950  Ranch Fire (Mendocino Complex)   \n",
       "\n",
       "       Counties  StartYear  StartMonth  StartDate  AcresBurned   Latitude  \\\n",
       "1054     Colusa       2018           7 2018-07-27     410203.0  39.243283   \n",
       "1055      Glenn       2018           7 2018-07-27     410203.0  39.243283   \n",
       "1056       Lake       2018           7 2018-07-27     410203.0  39.243283   \n",
       "1057  Mendocino       2018           7 2018-07-27     410203.0  39.243283   \n",
       "\n",
       "       Longitude  MajorIncident  \n",
       "1054 -123.103367           True  \n",
       "1055 -123.103367           True  \n",
       "1056 -123.103367           True  \n",
       "1057 -123.103367           True  "
      ]
     },
     "execution_count": 209,
     "metadata": {},
     "output_type": "execute_result"
    }
   ],
   "source": [
    "ca_fires_df[ca_fires_df['Name']=='Ranch Fire (Mendocino Complex)']\n",
    "# checking that the same fires aren't getting different UniqueIds."
   ]
  },
  {
   "cell_type": "code",
   "execution_count": 210,
   "metadata": {},
   "outputs": [
    {
     "data": {
      "text/plain": [
       "(1433, 10)"
      ]
     },
     "execution_count": 210,
     "metadata": {},
     "output_type": "execute_result"
    }
   ],
   "source": [
    "ca_fires_df = ca_fires_df.groupby('UniqueId').max().reset_index()\n",
    "ca_fires_df.shape\n",
    "# grouped by UniqueId to not double count fires."
   ]
  },
  {
   "cell_type": "code",
   "execution_count": 211,
   "metadata": {},
   "outputs": [
    {
     "name": "stdout",
     "output_type": "stream",
     "text": [
      "<class 'pandas.core.frame.DataFrame'>\n",
      "RangeIndex: 1433 entries, 0 to 1432\n",
      "Data columns (total 10 columns):\n",
      " #   Column         Non-Null Count  Dtype         \n",
      "---  ------         --------------  -----         \n",
      " 0   UniqueId       1433 non-null   object        \n",
      " 1   Name           1433 non-null   object        \n",
      " 2   Counties       1433 non-null   object        \n",
      " 3   StartYear      1433 non-null   int64         \n",
      " 4   StartMonth     1433 non-null   int64         \n",
      " 5   StartDate      1433 non-null   datetime64[ns]\n",
      " 6   AcresBurned    1433 non-null   float64       \n",
      " 7   Latitude       1433 non-null   float64       \n",
      " 8   Longitude      1433 non-null   float64       \n",
      " 9   MajorIncident  1433 non-null   bool          \n",
      "dtypes: bool(1), datetime64[ns](1), float64(3), int64(2), object(3)\n",
      "memory usage: 102.3+ KB\n"
     ]
    }
   ],
   "source": [
    "ca_fires_df.info()"
   ]
  },
  {
   "cell_type": "code",
   "execution_count": 274,
   "metadata": {},
   "outputs": [
    {
     "data": {
      "text/html": [
       "<div>\n",
       "<style scoped>\n",
       "    .dataframe tbody tr th:only-of-type {\n",
       "        vertical-align: middle;\n",
       "    }\n",
       "\n",
       "    .dataframe tbody tr th {\n",
       "        vertical-align: top;\n",
       "    }\n",
       "\n",
       "    .dataframe thead th {\n",
       "        text-align: right;\n",
       "    }\n",
       "</style>\n",
       "<table border=\"1\" class=\"dataframe\">\n",
       "  <thead>\n",
       "    <tr style=\"text-align: right;\">\n",
       "      <th></th>\n",
       "      <th>UniqueId</th>\n",
       "      <th>Name</th>\n",
       "      <th>Counties</th>\n",
       "      <th>StartYear</th>\n",
       "      <th>StartMonth</th>\n",
       "      <th>StartDate</th>\n",
       "      <th>AcresBurned</th>\n",
       "      <th>Latitude</th>\n",
       "      <th>Longitude</th>\n",
       "      <th>MajorIncident</th>\n",
       "      <th>FloatDate</th>\n",
       "      <th>idxDate</th>\n",
       "    </tr>\n",
       "  </thead>\n",
       "  <tbody>\n",
       "    <tr>\n",
       "      <th>0</th>\n",
       "      <td>00089805-cdee-4607-8b67-1653bee463bc</td>\n",
       "      <td>Gulch Fire</td>\n",
       "      <td>Modoc</td>\n",
       "      <td>2014</td>\n",
       "      <td>7</td>\n",
       "      <td>2014-07-03</td>\n",
       "      <td>1469.0</td>\n",
       "      <td>41.489000</td>\n",
       "      <td>-120.904000</td>\n",
       "      <td>True</td>\n",
       "      <td>20140703 00:00:00</td>\n",
       "      <td>20140703.0</td>\n",
       "    </tr>\n",
       "    <tr>\n",
       "      <th>1</th>\n",
       "      <td>0089d3c4-c554-46e1-8eb9-af95e4dfae0c</td>\n",
       "      <td>Toro Fire</td>\n",
       "      <td>Riverside</td>\n",
       "      <td>2019</td>\n",
       "      <td>8</td>\n",
       "      <td>2019-08-05</td>\n",
       "      <td>94.0</td>\n",
       "      <td>33.740219</td>\n",
       "      <td>-117.333728</td>\n",
       "      <td>False</td>\n",
       "      <td>20190805 00:00:00</td>\n",
       "      <td>20190805.0</td>\n",
       "    </tr>\n",
       "    <tr>\n",
       "      <th>2</th>\n",
       "      <td>00a13d84-415e-4106-aa31-2e664ed9eabf</td>\n",
       "      <td>Sky Fire</td>\n",
       "      <td>Shasta</td>\n",
       "      <td>2017</td>\n",
       "      <td>7</td>\n",
       "      <td>2017-07-29</td>\n",
       "      <td>17.0</td>\n",
       "      <td>40.692590</td>\n",
       "      <td>-122.173840</td>\n",
       "      <td>False</td>\n",
       "      <td>20170729 00:00:00</td>\n",
       "      <td>20170729.0</td>\n",
       "    </tr>\n",
       "    <tr>\n",
       "      <th>3</th>\n",
       "      <td>00e6d6d5-f168-45fa-817a-f7758a5170b7</td>\n",
       "      <td>Easy Fire</td>\n",
       "      <td>Ventura</td>\n",
       "      <td>2019</td>\n",
       "      <td>10</td>\n",
       "      <td>2019-10-30</td>\n",
       "      <td>1806.0</td>\n",
       "      <td>34.282179</td>\n",
       "      <td>-118.803389</td>\n",
       "      <td>False</td>\n",
       "      <td>20191030 00:00:00</td>\n",
       "      <td>20191030.0</td>\n",
       "    </tr>\n",
       "    <tr>\n",
       "      <th>4</th>\n",
       "      <td>01018620-8f10-4de0-a7e6-78cc9a77cc9a</td>\n",
       "      <td>Curie Fire</td>\n",
       "      <td>Santa Clara</td>\n",
       "      <td>2018</td>\n",
       "      <td>7</td>\n",
       "      <td>2018-07-10</td>\n",
       "      <td>70.0</td>\n",
       "      <td>37.225450</td>\n",
       "      <td>-121.791890</td>\n",
       "      <td>False</td>\n",
       "      <td>20180710 00:00:00</td>\n",
       "      <td>20180710.0</td>\n",
       "    </tr>\n",
       "  </tbody>\n",
       "</table>\n",
       "</div>"
      ],
      "text/plain": [
       "                               UniqueId        Name     Counties  StartYear  \\\n",
       "0  00089805-cdee-4607-8b67-1653bee463bc  Gulch Fire        Modoc       2014   \n",
       "1  0089d3c4-c554-46e1-8eb9-af95e4dfae0c  Toro Fire     Riverside       2019   \n",
       "2  00a13d84-415e-4106-aa31-2e664ed9eabf    Sky Fire       Shasta       2017   \n",
       "3  00e6d6d5-f168-45fa-817a-f7758a5170b7   Easy Fire      Ventura       2019   \n",
       "4  01018620-8f10-4de0-a7e6-78cc9a77cc9a  Curie Fire  Santa Clara       2018   \n",
       "\n",
       "   StartMonth  StartDate  AcresBurned   Latitude   Longitude  MajorIncident  \\\n",
       "0           7 2014-07-03       1469.0  41.489000 -120.904000           True   \n",
       "1           8 2019-08-05         94.0  33.740219 -117.333728          False   \n",
       "2           7 2017-07-29         17.0  40.692590 -122.173840          False   \n",
       "3          10 2019-10-30       1806.0  34.282179 -118.803389          False   \n",
       "4           7 2018-07-10         70.0  37.225450 -121.791890          False   \n",
       "\n",
       "           FloatDate     idxDate  \n",
       "0  20140703 00:00:00  20140703.0  \n",
       "1  20190805 00:00:00  20190805.0  \n",
       "2  20170729 00:00:00  20170729.0  \n",
       "3  20191030 00:00:00  20191030.0  \n",
       "4  20180710 00:00:00  20180710.0  "
      ]
     },
     "execution_count": 274,
     "metadata": {},
     "output_type": "execute_result"
    }
   ],
   "source": [
    "ca_fires_df.head()"
   ]
  },
  {
   "cell_type": "code",
   "execution_count": 221,
   "metadata": {},
   "outputs": [
    {
     "data": {
      "text/html": [
       "<div>\n",
       "<style scoped>\n",
       "    .dataframe tbody tr th:only-of-type {\n",
       "        vertical-align: middle;\n",
       "    }\n",
       "\n",
       "    .dataframe tbody tr th {\n",
       "        vertical-align: top;\n",
       "    }\n",
       "\n",
       "    .dataframe thead th {\n",
       "        text-align: right;\n",
       "    }\n",
       "</style>\n",
       "<table border=\"1\" class=\"dataframe\">\n",
       "  <thead>\n",
       "    <tr style=\"text-align: right;\">\n",
       "      <th></th>\n",
       "      <th>StartYear</th>\n",
       "      <th>StartMonth</th>\n",
       "      <th>AcresBurned</th>\n",
       "      <th>Latitude</th>\n",
       "      <th>Longitude</th>\n",
       "    </tr>\n",
       "  </thead>\n",
       "  <tbody>\n",
       "    <tr>\n",
       "      <th>count</th>\n",
       "      <td>1433.000000</td>\n",
       "      <td>1433.000000</td>\n",
       "      <td>1433.000000</td>\n",
       "      <td>1433.000000</td>\n",
       "      <td>1433.000000</td>\n",
       "    </tr>\n",
       "    <tr>\n",
       "      <th>mean</th>\n",
       "      <td>2016.800419</td>\n",
       "      <td>7.390789</td>\n",
       "      <td>3195.606420</td>\n",
       "      <td>37.245557</td>\n",
       "      <td>-120.285628</td>\n",
       "    </tr>\n",
       "    <tr>\n",
       "      <th>std</th>\n",
       "      <td>1.797912</td>\n",
       "      <td>1.756305</td>\n",
       "      <td>19354.829499</td>\n",
       "      <td>2.559585</td>\n",
       "      <td>2.005556</td>\n",
       "    </tr>\n",
       "    <tr>\n",
       "      <th>min</th>\n",
       "      <td>2013.000000</td>\n",
       "      <td>1.000000</td>\n",
       "      <td>0.000000</td>\n",
       "      <td>32.557546</td>\n",
       "      <td>-124.196290</td>\n",
       "    </tr>\n",
       "    <tr>\n",
       "      <th>25%</th>\n",
       "      <td>2016.000000</td>\n",
       "      <td>6.000000</td>\n",
       "      <td>35.000000</td>\n",
       "      <td>34.943730</td>\n",
       "      <td>-121.853180</td>\n",
       "    </tr>\n",
       "    <tr>\n",
       "      <th>50%</th>\n",
       "      <td>2017.000000</td>\n",
       "      <td>7.000000</td>\n",
       "      <td>96.000000</td>\n",
       "      <td>37.433192</td>\n",
       "      <td>-120.699550</td>\n",
       "    </tr>\n",
       "    <tr>\n",
       "      <th>75%</th>\n",
       "      <td>2018.000000</td>\n",
       "      <td>9.000000</td>\n",
       "      <td>392.000000</td>\n",
       "      <td>39.279833</td>\n",
       "      <td>-118.741030</td>\n",
       "    </tr>\n",
       "    <tr>\n",
       "      <th>max</th>\n",
       "      <td>2019.000000</td>\n",
       "      <td>12.000000</td>\n",
       "      <td>410203.000000</td>\n",
       "      <td>41.999341</td>\n",
       "      <td>-114.572650</td>\n",
       "    </tr>\n",
       "  </tbody>\n",
       "</table>\n",
       "</div>"
      ],
      "text/plain": [
       "         StartYear   StartMonth    AcresBurned     Latitude    Longitude\n",
       "count  1433.000000  1433.000000    1433.000000  1433.000000  1433.000000\n",
       "mean   2016.800419     7.390789    3195.606420    37.245557  -120.285628\n",
       "std       1.797912     1.756305   19354.829499     2.559585     2.005556\n",
       "min    2013.000000     1.000000       0.000000    32.557546  -124.196290\n",
       "25%    2016.000000     6.000000      35.000000    34.943730  -121.853180\n",
       "50%    2017.000000     7.000000      96.000000    37.433192  -120.699550\n",
       "75%    2018.000000     9.000000     392.000000    39.279833  -118.741030\n",
       "max    2019.000000    12.000000  410203.000000    41.999341  -114.572650"
      ]
     },
     "execution_count": 221,
     "metadata": {},
     "output_type": "execute_result"
    }
   ],
   "source": [
    "ca_fires_df.describe()"
   ]
  },
  {
   "cell_type": "code",
   "execution_count": 285,
   "metadata": {},
   "outputs": [
    {
     "data": {
      "image/png": "[encoded data removed]",
      "text/plain": [
       "<Figure size 1152x288 with 1 Axes>"
      ]
     },
     "metadata": {
      "needs_background": "light"
     },
     "output_type": "display_data"
    }
   ],
   "source": [
    "fig, ax = plt.subplots(figsize=(16, 4))\n",
    "ax.scatter(ca_fires_df['StartDate'], ca_fires_df['AcresBurned'])\n",
    "ax.set_yscale('log')\n",
    "\n",
    "ax.set_title('Acres Burned vs. Time')\n",
    "ax.set_xlabel('Time')\n",
    "ax.set_ylabel('Acres Burned')\n",
    "ax.set_ylim(10**4, 10**6)\n",
    "\n",
    "plt.show()"
   ]
  },
  {
   "cell_type": "code",
   "execution_count": 280,
   "metadata": {},
   "outputs": [
    {
     "data": {
      "text/html": [
       "<div>\n",
       "<style scoped>\n",
       "    .dataframe tbody tr th:only-of-type {\n",
       "        vertical-align: middle;\n",
       "    }\n",
       "\n",
       "    .dataframe tbody tr th {\n",
       "        vertical-align: top;\n",
       "    }\n",
       "\n",
       "    .dataframe thead th {\n",
       "        text-align: right;\n",
       "    }\n",
       "</style>\n",
       "<table border=\"1\" class=\"dataframe\">\n",
       "  <thead>\n",
       "    <tr style=\"text-align: right;\">\n",
       "      <th></th>\n",
       "      <th>UniqueId</th>\n",
       "      <th>Name</th>\n",
       "      <th>Counties</th>\n",
       "      <th>StartYear</th>\n",
       "      <th>StartMonth</th>\n",
       "      <th>StartDate</th>\n",
       "      <th>AcresBurned</th>\n",
       "      <th>Latitude</th>\n",
       "      <th>Longitude</th>\n",
       "      <th>MajorIncident</th>\n",
       "      <th>FloatDate</th>\n",
       "      <th>idxDate</th>\n",
       "    </tr>\n",
       "  </thead>\n",
       "  <tbody>\n",
       "    <tr>\n",
       "      <th>50</th>\n",
       "      <td>094719ba-a47b-4abb-9ec5-a506b2b9fd23</td>\n",
       "      <td>River Fire</td>\n",
       "      <td>Inyo</td>\n",
       "      <td>2013</td>\n",
       "      <td>2</td>\n",
       "      <td>2013-02-24</td>\n",
       "      <td>406.0</td>\n",
       "      <td>36.602575</td>\n",
       "      <td>-118.016510</td>\n",
       "      <td>True</td>\n",
       "      <td>20130224.0</td>\n",
       "      <td>20130224.0</td>\n",
       "    </tr>\n",
       "    <tr>\n",
       "      <th>481</th>\n",
       "      <td>58f89ff8-bd3e-4355-b1c0-8fa05c747d3f</td>\n",
       "      <td>Fawnskin Fire</td>\n",
       "      <td>San Bernardino</td>\n",
       "      <td>2013</td>\n",
       "      <td>4</td>\n",
       "      <td>2013-04-20</td>\n",
       "      <td>30.0</td>\n",
       "      <td>34.288877</td>\n",
       "      <td>-116.941311</td>\n",
       "      <td>False</td>\n",
       "      <td>20130420.0</td>\n",
       "      <td>20130420.0</td>\n",
       "    </tr>\n",
       "    <tr>\n",
       "      <th>1194</th>\n",
       "      <td>d8d1c943-7b5d-4885-9043-f41075d6eded</td>\n",
       "      <td>Silverado Fire</td>\n",
       "      <td>Napa</td>\n",
       "      <td>2013</td>\n",
       "      <td>4</td>\n",
       "      <td>2013-04-30</td>\n",
       "      <td>75.0</td>\n",
       "      <td>38.441792</td>\n",
       "      <td>-122.350844</td>\n",
       "      <td>False</td>\n",
       "      <td>20130430.0</td>\n",
       "      <td>20130430.0</td>\n",
       "    </tr>\n",
       "    <tr>\n",
       "      <th>315</th>\n",
       "      <td>357ffc13-bef9-48eb-810f-c5de851972eb</td>\n",
       "      <td>Gold Fire</td>\n",
       "      <td>Madera</td>\n",
       "      <td>2013</td>\n",
       "      <td>4</td>\n",
       "      <td>2013-04-30</td>\n",
       "      <td>274.0</td>\n",
       "      <td>37.116295</td>\n",
       "      <td>-119.635004</td>\n",
       "      <td>False</td>\n",
       "      <td>20130430.0</td>\n",
       "      <td>20130430.0</td>\n",
       "    </tr>\n",
       "    <tr>\n",
       "      <th>553</th>\n",
       "      <td>64e4f81e-d872-44c4-ba8d-111fa77124ba</td>\n",
       "      <td>Yellow Fire</td>\n",
       "      <td>Sonoma</td>\n",
       "      <td>2013</td>\n",
       "      <td>5</td>\n",
       "      <td>2013-05-01</td>\n",
       "      <td>125.0</td>\n",
       "      <td>38.638828</td>\n",
       "      <td>-122.655616</td>\n",
       "      <td>True</td>\n",
       "      <td>20130501.0</td>\n",
       "      <td>20130501.0</td>\n",
       "    </tr>\n",
       "    <tr>\n",
       "      <th>...</th>\n",
       "      <td>...</td>\n",
       "      <td>...</td>\n",
       "      <td>...</td>\n",
       "      <td>...</td>\n",
       "      <td>...</td>\n",
       "      <td>...</td>\n",
       "      <td>...</td>\n",
       "      <td>...</td>\n",
       "      <td>...</td>\n",
       "      <td>...</td>\n",
       "      <td>...</td>\n",
       "      <td>...</td>\n",
       "    </tr>\n",
       "    <tr>\n",
       "      <th>292</th>\n",
       "      <td>305f30f5-622d-4c55-8813-45ffbc15aed0</td>\n",
       "      <td>Sobrante Fire</td>\n",
       "      <td>Riverside</td>\n",
       "      <td>2019</td>\n",
       "      <td>11</td>\n",
       "      <td>2019-11-01</td>\n",
       "      <td>19.0</td>\n",
       "      <td>33.849906</td>\n",
       "      <td>-117.461363</td>\n",
       "      <td>False</td>\n",
       "      <td>20191101.0</td>\n",
       "      <td>20191101.0</td>\n",
       "    </tr>\n",
       "    <tr>\n",
       "      <th>585</th>\n",
       "      <td>69d98a94-4980-4dc0-b388-61c37c635f32</td>\n",
       "      <td>Ranch Fire</td>\n",
       "      <td>Tehama</td>\n",
       "      <td>2019</td>\n",
       "      <td>11</td>\n",
       "      <td>2019-11-03</td>\n",
       "      <td>2534.0</td>\n",
       "      <td>40.036379</td>\n",
       "      <td>-122.637837</td>\n",
       "      <td>True</td>\n",
       "      <td>20191103.0</td>\n",
       "      <td>20191103.0</td>\n",
       "    </tr>\n",
       "    <tr>\n",
       "      <th>521</th>\n",
       "      <td>600d608d-6279-435d-bc9b-99aacaa5e80f</td>\n",
       "      <td>Eagle Fire</td>\n",
       "      <td>Lake</td>\n",
       "      <td>2019</td>\n",
       "      <td>11</td>\n",
       "      <td>2019-11-05</td>\n",
       "      <td>75.0</td>\n",
       "      <td>39.100408</td>\n",
       "      <td>-122.496548</td>\n",
       "      <td>False</td>\n",
       "      <td>20191105.0</td>\n",
       "      <td>20191105.0</td>\n",
       "    </tr>\n",
       "    <tr>\n",
       "      <th>638</th>\n",
       "      <td>7555692b-f672-4660-8f15-d0dab068a193</td>\n",
       "      <td>Cave Fire (No Longer a CAL FIRE Incident)</td>\n",
       "      <td>Santa Barbara</td>\n",
       "      <td>2019</td>\n",
       "      <td>11</td>\n",
       "      <td>2019-11-25</td>\n",
       "      <td>3126.0</td>\n",
       "      <td>34.502500</td>\n",
       "      <td>-119.785000</td>\n",
       "      <td>False</td>\n",
       "      <td>20191125.0</td>\n",
       "      <td>20191125.0</td>\n",
       "    </tr>\n",
       "    <tr>\n",
       "      <th>656</th>\n",
       "      <td>77d64e4c-a50f-4f4d-a750-e6a6f0ddadc9</td>\n",
       "      <td>Foothills Fire</td>\n",
       "      <td>Placer</td>\n",
       "      <td>2019</td>\n",
       "      <td>11</td>\n",
       "      <td>2019-11-25</td>\n",
       "      <td>355.0</td>\n",
       "      <td>38.838992</td>\n",
       "      <td>-121.325842</td>\n",
       "      <td>False</td>\n",
       "      <td>20191125.0</td>\n",
       "      <td>20191125.0</td>\n",
       "    </tr>\n",
       "  </tbody>\n",
       "</table>\n",
       "<p>1433 rows × 12 columns</p>\n",
       "</div>"
      ],
      "text/plain": [
       "                                  UniqueId  \\\n",
       "50    094719ba-a47b-4abb-9ec5-a506b2b9fd23   \n",
       "481   58f89ff8-bd3e-4355-b1c0-8fa05c747d3f   \n",
       "1194  d8d1c943-7b5d-4885-9043-f41075d6eded   \n",
       "315   357ffc13-bef9-48eb-810f-c5de851972eb   \n",
       "553   64e4f81e-d872-44c4-ba8d-111fa77124ba   \n",
       "...                                    ...   \n",
       "292   305f30f5-622d-4c55-8813-45ffbc15aed0   \n",
       "585   69d98a94-4980-4dc0-b388-61c37c635f32   \n",
       "521   600d608d-6279-435d-bc9b-99aacaa5e80f   \n",
       "638   7555692b-f672-4660-8f15-d0dab068a193   \n",
       "656   77d64e4c-a50f-4f4d-a750-e6a6f0ddadc9   \n",
       "\n",
       "                                           Name        Counties  StartYear  \\\n",
       "50                                   River Fire            Inyo       2013   \n",
       "481                               Fawnskin Fire  San Bernardino       2013   \n",
       "1194                             Silverado Fire            Napa       2013   \n",
       "315                                   Gold Fire          Madera       2013   \n",
       "553                                 Yellow Fire          Sonoma       2013   \n",
       "...                                         ...             ...        ...   \n",
       "292                              Sobrante Fire        Riverside       2019   \n",
       "585                                  Ranch Fire          Tehama       2019   \n",
       "521                                  Eagle Fire            Lake       2019   \n",
       "638   Cave Fire (No Longer a CAL FIRE Incident)   Santa Barbara       2019   \n",
       "656                              Foothills Fire          Placer       2019   \n",
       "\n",
       "      StartMonth  StartDate  AcresBurned   Latitude   Longitude  \\\n",
       "50             2 2013-02-24        406.0  36.602575 -118.016510   \n",
       "481            4 2013-04-20         30.0  34.288877 -116.941311   \n",
       "1194           4 2013-04-30         75.0  38.441792 -122.350844   \n",
       "315            4 2013-04-30        274.0  37.116295 -119.635004   \n",
       "553            5 2013-05-01        125.0  38.638828 -122.655616   \n",
       "...          ...        ...          ...        ...         ...   \n",
       "292           11 2019-11-01         19.0  33.849906 -117.461363   \n",
       "585           11 2019-11-03       2534.0  40.036379 -122.637837   \n",
       "521           11 2019-11-05         75.0  39.100408 -122.496548   \n",
       "638           11 2019-11-25       3126.0  34.502500 -119.785000   \n",
       "656           11 2019-11-25        355.0  38.838992 -121.325842   \n",
       "\n",
       "      MajorIncident   FloatDate     idxDate  \n",
       "50             True  20130224.0  20130224.0  \n",
       "481           False  20130420.0  20130420.0  \n",
       "1194          False  20130430.0  20130430.0  \n",
       "315           False  20130430.0  20130430.0  \n",
       "553            True  20130501.0  20130501.0  \n",
       "...             ...         ...         ...  \n",
       "292           False  20191101.0  20191101.0  \n",
       "585            True  20191103.0  20191103.0  \n",
       "521           False  20191105.0  20191105.0  \n",
       "638           False  20191125.0  20191125.0  \n",
       "656           False  20191125.0  20191125.0  \n",
       "\n",
       "[1433 rows x 12 columns]"
      ]
     },
     "execution_count": 280,
     "metadata": {},
     "output_type": "execute_result"
    }
   ],
   "source": [
    "ca_fires_df.sort_values('idxDate')"
   ]
  },
  {
   "cell_type": "code",
   "execution_count": 277,
   "metadata": {},
   "outputs": [
    {
     "data": {
      "text/plain": [
       "-0.01685798429479547"
      ]
     },
     "execution_count": 277,
     "metadata": {},
     "output_type": "execute_result"
    }
   ],
   "source": [
    "ca_fires_df['idxDate'].corr(ca_fires_df['AcresBurned'])"
   ]
  },
  {
   "cell_type": "code",
   "execution_count": 279,
   "metadata": {},
   "outputs": [],
   "source": [
    "ca_fires_df['FloatDate'] = ca_fires_df['StartDate'].apply(lambda x: float(str(x).replace('-', '')[:9]))"
   ]
  },
  {
   "cell_type": "code",
   "execution_count": 271,
   "metadata": {},
   "outputs": [
    {
     "name": "stdout",
     "output_type": "stream",
     "text": [
      "<class 'pandas.core.frame.DataFrame'>\n",
      "RangeIndex: 1433 entries, 0 to 1432\n",
      "Data columns (total 11 columns):\n",
      " #   Column         Non-Null Count  Dtype         \n",
      "---  ------         --------------  -----         \n",
      " 0   UniqueId       1433 non-null   object        \n",
      " 1   Name           1433 non-null   object        \n",
      " 2   Counties       1433 non-null   object        \n",
      " 3   StartYear      1433 non-null   int64         \n",
      " 4   StartMonth     1433 non-null   int64         \n",
      " 5   StartDate      1433 non-null   datetime64[ns]\n",
      " 6   AcresBurned    1433 non-null   float64       \n",
      " 7   Latitude       1433 non-null   float64       \n",
      " 8   Longitude      1433 non-null   float64       \n",
      " 9   MajorIncident  1433 non-null   bool          \n",
      " 10  FloatDate      1433 non-null   object        \n",
      "dtypes: bool(1), datetime64[ns](1), float64(3), int64(2), object(4)\n",
      "memory usage: 113.5+ KB\n"
     ]
    }
   ],
   "source": [
    "ca_fires_df.info()"
   ]
  },
  {
   "cell_type": "code",
   "execution_count": 24,
   "metadata": {},
   "outputs": [
    {
     "data": {
      "text/html": [
       "<div style=\"width:100%;\"><div style=\"position:relative;width:100%;height:0;padding-bottom:60%;\"><span style=\"color:#565656\">Make this Notebook Trusted to load map: File -> Trust Notebook</span><iframe src=\"about:blank\" style=\"position:absolute;width:100%;height:100%;left:0;top:0;border:none !important;\" data-html=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 onload=\"this.contentDocument.open();this.contentDocument.write(atob(this.getAttribute('data-html')));this.contentDocument.close();\" allowfullscreen webkitallowfullscreen mozallowfullscreen></iframe></div></div>"
      ],
      "text/plain": [
       "<folium.folium.Map at 0x7fa7f812ea50>"
      ]
     },
     "execution_count": 24,
     "metadata": {},
     "output_type": "execute_result"
    }
   ],
   "source": [
    "m = folium.Map(location=[34.0522, -118.2437], zoom_start=5)\n",
    "\n",
    "fire_arr = np.array(ca_fires_df[['Latitude', 'Longitude']])\n",
    "\n",
    "m.add_child(plugins.HeatMap(fire_arr, radius=17))\n",
    "m"
   ]
  },
  {
   "cell_type": "code",
   "execution_count": 25,
   "metadata": {},
   "outputs": [
    {
     "data": {
      "text/html": [
       "<div style=\"width:100%;\"><div style=\"position:relative;width:100%;height:0;padding-bottom:60%;\"><span style=\"color:#565656\">Make this Notebook Trusted to load map: File -> Trust Notebook</span><iframe src=\"about:blank\" style=\"position:absolute;width:100%;height:100%;left:0;top:0;border:none !important;\" data-html=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 onload=\"this.contentDocument.open();this.contentDocument.write(atob(this.getAttribute('data-html')));this.contentDocument.close();\" allowfullscreen webkitallowfullscreen mozallowfullscreen></iframe></div></div>"
      ],
      "text/plain": [
       "<folium.folium.Map at 0x7fa7f812e510>"
      ]
     },
     "execution_count": 25,
     "metadata": {},
     "output_type": "execute_result"
    }
   ],
   "source": [
    "df_copy = ca_fires_df.copy()\n",
    "df_years_list = []\n",
    "for year in df_copy['StartYear'].sort_values().unique():\n",
    "    df_years_list.append(df_copy.loc[df_copy['StartYear']==year, ['Latitude', 'Longitude']].groupby(['Latitude', 'Longitude']).sum().reset_index().values.tolist())\n",
    "# creates a list of lists where each element is a year and each element in that list element contains the latitudes and longitudes of each fire\n",
    "    \n",
    "m = folium.Map(location=[34.0522, -118.2437], zoom_start=5)\n",
    "plugins.HeatMapWithTime(df_years_list, radius=5, min_opacity=0.5, max_opacity=0.8, use_local_extrema=True).add_to(m)\n",
    "m"
   ]
  },
  {
   "cell_type": "code",
   "execution_count": 109,
   "metadata": {},
   "outputs": [
    {
     "data": {
      "text/plain": [
       "Riverside    127\n",
       "Name: Counties, dtype: int64"
      ]
     },
     "execution_count": 109,
     "metadata": {},
     "output_type": "execute_result"
    }
   ],
   "source": [
    "ca_fires_df['Counties'].value_counts().sort_values(ascending=False).head(1)"
   ]
  },
  {
   "cell_type": "markdown",
   "metadata": {},
   "source": [
    "Riverside has had the most fires.\n",
    "When split up by year, Riverside still had the most (4/7 times)."
   ]
  },
  {
   "cell_type": "code",
   "execution_count": null,
   "metadata": {},
   "outputs": [],
   "source": []
  },
  {
   "cell_type": "code",
   "execution_count": null,
   "metadata": {},
   "outputs": [],
   "source": []
  },
  {
   "cell_type": "code",
   "execution_count": null,
   "metadata": {},
   "outputs": [],
   "source": []
  },
  {
   "cell_type": "code",
   "execution_count": null,
   "metadata": {},
   "outputs": [],
   "source": []
  },
  {
   "cell_type": "code",
   "execution_count": 127,
   "metadata": {},
   "outputs": [
    {
     "data": {
      "image/png": "[encoded data removed]",
      "text/plain": [
       "<Figure size 432x288 with 1 Axes>"
      ]
     },
     "metadata": {
      "needs_background": "light"
     },
     "output_type": "display_data"
    }
   ],
   "source": [
    "fig, ax = plt.subplots()\n",
    "ax.hist(ca_fires_df['AcresBurned'], bins=20)\n",
    "\n",
    "plt.show()"
   ]
  },
  {
   "cell_type": "code",
   "execution_count": 110,
   "metadata": {},
   "outputs": [
    {
     "data": {
      "image/png": "[encoded data removed]",
      "text/plain": [
       "<Figure size 432x288 with 1 Axes>"
      ]
     },
     "metadata": {
      "needs_background": "light"
     },
     "output_type": "display_data"
    }
   ],
   "source": [
    "num_fires = ca_fires_df.groupby('StartYear')['AcresBurned'].count()\n",
    "years = sorted(ca_fires_df['StartYear'].unique())\n",
    "\n",
    "fig, ax = plt.subplots()\n",
    "ax.plot(years, num_fires, color='red')\n",
    "ax.set_title('Number of Fires per Year')\n",
    "ax.set_xlabel('Year')\n",
    "ax.set_ylabel('Fires')\n",
    "\n",
    "plt.show()"
   ]
  },
  {
   "cell_type": "code",
   "execution_count": 121,
   "metadata": {},
   "outputs": [
    {
     "data": {
      "image/png": "[encoded data removed]",
      "text/plain": [
       "<Figure size 432x288 with 1 Axes>"
      ]
     },
     "metadata": {
      "needs_background": "light"
     },
     "output_type": "display_data"
    }
   ],
   "source": [
    "sum_acres = ca_fires_df.groupby('StartYear')['AcresBurned'].sum()\n",
    "years = sorted(ca_fires_df['StartYear'].unique())\n",
    "\n",
    "fig, ax = plt.subplots()\n",
    "ax.plot(years, sum_acres, color='red')\n",
    "ax.set_title('Total Acres Burned per Year')\n",
    "ax.set_xlabel('Year')\n",
    "ax.set_ylabel('Acres')\n",
    "\n",
    "plt.show()"
   ]
  },
  {
   "cell_type": "code",
   "execution_count": 116,
   "metadata": {},
   "outputs": [
    {
     "data": {
      "image/png": "[encoded data removed]",
      "text/plain": [
       "<Figure size 432x288 with 1 Axes>"
      ]
     },
     "metadata": {
      "needs_background": "light"
     },
     "output_type": "display_data"
    }
   ],
   "source": [
    "median_acres = ca_fires_df.groupby('StartYear')['AcresBurned'].median()\n",
    "years = sorted(ca_fires_df['StartYear'].unique())\n",
    "\n",
    "fig, ax = plt.subplots()\n",
    "ax.plot(years, sum_acres, color='red')\n",
    "ax.set_title('Median Acres Burned per Year')\n",
    "ax.set_xlabel('Year')\n",
    "ax.set_ylabel('Acres')\n",
    "\n",
    "plt.show()"
   ]
  },
  {
   "cell_type": "code",
   "execution_count": 182,
   "metadata": {},
   "outputs": [
    {
     "data": {
      "image/png": "[encoded data removed]",
      "text/plain": [
       "<Figure size 432x288 with 1 Axes>"
      ]
     },
     "metadata": {
      "needs_background": "light"
     },
     "output_type": "display_data"
    }
   ],
   "source": [
    "max_acres = ca_fires_df.groupby('StartYear')['AcresBurned'].max()\n",
    "years = sorted(ca_fires_df['StartYear'].unique())\n",
    "\n",
    "fig, ax = plt.subplots()\n",
    "ax.plot(years, sum_acres, color='red')\n",
    "ax.set_title('Acres of Largest Fire per Year')\n",
    "ax.set_xlabel('Year')\n",
    "ax.set_ylabel('Acres')\n",
    "\n",
    "plt.show()"
   ]
  },
  {
   "cell_type": "code",
   "execution_count": 119,
   "metadata": {},
   "outputs": [
    {
     "data": {
      "text/html": [
       "<div>\n",
       "<style scoped>\n",
       "    .dataframe tbody tr th:only-of-type {\n",
       "        vertical-align: middle;\n",
       "    }\n",
       "\n",
       "    .dataframe tbody tr th {\n",
       "        vertical-align: top;\n",
       "    }\n",
       "\n",
       "    .dataframe thead th {\n",
       "        text-align: right;\n",
       "    }\n",
       "</style>\n",
       "<table border=\"1\" class=\"dataframe\">\n",
       "  <thead>\n",
       "    <tr style=\"text-align: right;\">\n",
       "      <th></th>\n",
       "      <th>UniqueId</th>\n",
       "      <th>Name</th>\n",
       "      <th>Counties</th>\n",
       "      <th>StartYear</th>\n",
       "      <th>StartMonth</th>\n",
       "      <th>AcresBurned</th>\n",
       "      <th>Latitude</th>\n",
       "      <th>Longitude</th>\n",
       "      <th>MajorIncident</th>\n",
       "    </tr>\n",
       "  </thead>\n",
       "  <tbody>\n",
       "    <tr>\n",
       "      <th>703</th>\n",
       "      <td>809d101c-8aa3-4a53-bf20-f38ae7ec7941</td>\n",
       "      <td>Kincade Fire</td>\n",
       "      <td>Sonoma</td>\n",
       "      <td>2019</td>\n",
       "      <td>10</td>\n",
       "      <td>77758.0</td>\n",
       "      <td>38.792458</td>\n",
       "      <td>-122.780053</td>\n",
       "      <td>True</td>\n",
       "    </tr>\n",
       "    <tr>\n",
       "      <th>338</th>\n",
       "      <td>3a48b649-8714-433d-9952-ff2bf9e8c90a</td>\n",
       "      <td>Walker Fire</td>\n",
       "      <td>Plumas</td>\n",
       "      <td>2019</td>\n",
       "      <td>9</td>\n",
       "      <td>54612.0</td>\n",
       "      <td>40.061389</td>\n",
       "      <td>-120.680556</td>\n",
       "      <td>False</td>\n",
       "    </tr>\n",
       "    <tr>\n",
       "      <th>233</th>\n",
       "      <td>2939928b-0308-4d76-b232-246f064ddd11</td>\n",
       "      <td>Tucker Fire</td>\n",
       "      <td>Modoc</td>\n",
       "      <td>2019</td>\n",
       "      <td>7</td>\n",
       "      <td>14217.0</td>\n",
       "      <td>41.795910</td>\n",
       "      <td>-121.260305</td>\n",
       "      <td>False</td>\n",
       "    </tr>\n",
       "    <tr>\n",
       "      <th>1280</th>\n",
       "      <td>e7ea56c5-4290-4406-b0a5-c9d1718e9700</td>\n",
       "      <td>Taboose Fire</td>\n",
       "      <td>Inyo</td>\n",
       "      <td>2019</td>\n",
       "      <td>9</td>\n",
       "      <td>10296.0</td>\n",
       "      <td>37.034000</td>\n",
       "      <td>-118.345000</td>\n",
       "      <td>True</td>\n",
       "    </tr>\n",
       "    <tr>\n",
       "      <th>296</th>\n",
       "      <td>31852a71-e639-496f-9e7d-0968d1c218b3</td>\n",
       "      <td>Maria Fire</td>\n",
       "      <td>Ventura</td>\n",
       "      <td>2019</td>\n",
       "      <td>10</td>\n",
       "      <td>9999.0</td>\n",
       "      <td>34.302212</td>\n",
       "      <td>-118.997115</td>\n",
       "      <td>True</td>\n",
       "    </tr>\n",
       "  </tbody>\n",
       "</table>\n",
       "</div>"
      ],
      "text/plain": [
       "                                  UniqueId          Name Counties  StartYear  \\\n",
       "703   809d101c-8aa3-4a53-bf20-f38ae7ec7941  Kincade Fire   Sonoma       2019   \n",
       "338   3a48b649-8714-433d-9952-ff2bf9e8c90a   Walker Fire   Plumas       2019   \n",
       "233   2939928b-0308-4d76-b232-246f064ddd11   Tucker Fire    Modoc       2019   \n",
       "1280  e7ea56c5-4290-4406-b0a5-c9d1718e9700  Taboose Fire     Inyo       2019   \n",
       "296   31852a71-e639-496f-9e7d-0968d1c218b3   Maria Fire   Ventura       2019   \n",
       "\n",
       "      StartMonth  AcresBurned   Latitude   Longitude  MajorIncident  \n",
       "703           10      77758.0  38.792458 -122.780053           True  \n",
       "338            9      54612.0  40.061389 -120.680556          False  \n",
       "233            7      14217.0  41.795910 -121.260305          False  \n",
       "1280           9      10296.0  37.034000 -118.345000           True  \n",
       "296           10       9999.0  34.302212 -118.997115           True  "
      ]
     },
     "execution_count": 119,
     "metadata": {},
     "output_type": "execute_result"
    }
   ],
   "source": [
    "ca_fires_df[ca_fires_df['StartYear']==2019].sort_values('AcresBurned', ascending=False).head(5)"
   ]
  },
  {
   "cell_type": "code",
   "execution_count": 113,
   "metadata": {},
   "outputs": [
    {
     "data": {
      "text/html": [
       "<div>\n",
       "<style scoped>\n",
       "    .dataframe tbody tr th:only-of-type {\n",
       "        vertical-align: middle;\n",
       "    }\n",
       "\n",
       "    .dataframe tbody tr th {\n",
       "        vertical-align: top;\n",
       "    }\n",
       "\n",
       "    .dataframe thead th {\n",
       "        text-align: right;\n",
       "    }\n",
       "</style>\n",
       "<table border=\"1\" class=\"dataframe\">\n",
       "  <thead>\n",
       "    <tr style=\"text-align: right;\">\n",
       "      <th></th>\n",
       "      <th>UniqueId</th>\n",
       "      <th>Name</th>\n",
       "      <th>Counties</th>\n",
       "      <th>StartYear</th>\n",
       "      <th>StartMonth</th>\n",
       "      <th>AcresBurned</th>\n",
       "      <th>Latitude</th>\n",
       "      <th>Longitude</th>\n",
       "      <th>MajorIncident</th>\n",
       "    </tr>\n",
       "  </thead>\n",
       "  <tbody>\n",
       "    <tr>\n",
       "      <th>795</th>\n",
       "      <td>90b0daf7-5d84-42d9-bb35-bb78d4faf950</td>\n",
       "      <td>Ranch Fire (Mendocino Complex)</td>\n",
       "      <td>Mendocino</td>\n",
       "      <td>2018</td>\n",
       "      <td>7</td>\n",
       "      <td>410203.0</td>\n",
       "      <td>39.243283</td>\n",
       "      <td>-123.103367</td>\n",
       "      <td>True</td>\n",
       "    </tr>\n",
       "    <tr>\n",
       "      <th>205</th>\n",
       "      <td>240b1f55-0f4e-448d-a4ce-3ecfec7a6c9d</td>\n",
       "      <td>Carr Fire</td>\n",
       "      <td>Trinity</td>\n",
       "      <td>2018</td>\n",
       "      <td>7</td>\n",
       "      <td>229651.0</td>\n",
       "      <td>40.654280</td>\n",
       "      <td>-122.623570</td>\n",
       "      <td>True</td>\n",
       "    </tr>\n",
       "    <tr>\n",
       "      <th>645</th>\n",
       "      <td>75dafe80-f18a-4a4a-9a37-4b564c5f6014</td>\n",
       "      <td>Camp Fire</td>\n",
       "      <td>Butte</td>\n",
       "      <td>2018</td>\n",
       "      <td>11</td>\n",
       "      <td>153336.0</td>\n",
       "      <td>39.813400</td>\n",
       "      <td>-121.434700</td>\n",
       "      <td>True</td>\n",
       "    </tr>\n",
       "    <tr>\n",
       "      <th>808</th>\n",
       "      <td>92d7aeea-7abf-47a4-bf76-a4fe0fac65c6</td>\n",
       "      <td>Woolsey Fire</td>\n",
       "      <td>Ventura</td>\n",
       "      <td>2018</td>\n",
       "      <td>11</td>\n",
       "      <td>96949.0</td>\n",
       "      <td>34.235000</td>\n",
       "      <td>-118.701280</td>\n",
       "      <td>True</td>\n",
       "    </tr>\n",
       "    <tr>\n",
       "      <th>243</th>\n",
       "      <td>29d15973-a999-409e-adf4-486854df44ed</td>\n",
       "      <td>Ferguson Fire</td>\n",
       "      <td>Mariposa</td>\n",
       "      <td>2018</td>\n",
       "      <td>7</td>\n",
       "      <td>96901.0</td>\n",
       "      <td>37.654900</td>\n",
       "      <td>-119.885810</td>\n",
       "      <td>False</td>\n",
       "    </tr>\n",
       "  </tbody>\n",
       "</table>\n",
       "</div>"
      ],
      "text/plain": [
       "                                 UniqueId                            Name  \\\n",
       "795  90b0daf7-5d84-42d9-bb35-bb78d4faf950  Ranch Fire (Mendocino Complex)   \n",
       "205  240b1f55-0f4e-448d-a4ce-3ecfec7a6c9d                       Carr Fire   \n",
       "645  75dafe80-f18a-4a4a-9a37-4b564c5f6014                       Camp Fire   \n",
       "808  92d7aeea-7abf-47a4-bf76-a4fe0fac65c6                    Woolsey Fire   \n",
       "243  29d15973-a999-409e-adf4-486854df44ed                   Ferguson Fire   \n",
       "\n",
       "      Counties  StartYear  StartMonth  AcresBurned   Latitude   Longitude  \\\n",
       "795  Mendocino       2018           7     410203.0  39.243283 -123.103367   \n",
       "205    Trinity       2018           7     229651.0  40.654280 -122.623570   \n",
       "645      Butte       2018          11     153336.0  39.813400 -121.434700   \n",
       "808    Ventura       2018          11      96949.0  34.235000 -118.701280   \n",
       "243   Mariposa       2018           7      96901.0  37.654900 -119.885810   \n",
       "\n",
       "     MajorIncident  \n",
       "795           True  \n",
       "205           True  \n",
       "645           True  \n",
       "808           True  \n",
       "243          False  "
      ]
     },
     "execution_count": 113,
     "metadata": {},
     "output_type": "execute_result"
    }
   ],
   "source": [
    "ca_fires_df[ca_fires_df['StartYear']==2018].sort_values('AcresBurned', ascending=False).head(5)"
   ]
  },
  {
   "cell_type": "code",
   "execution_count": 118,
   "metadata": {},
   "outputs": [
    {
     "data": {
      "text/html": [
       "<div>\n",
       "<style scoped>\n",
       "    .dataframe tbody tr th:only-of-type {\n",
       "        vertical-align: middle;\n",
       "    }\n",
       "\n",
       "    .dataframe tbody tr th {\n",
       "        vertical-align: top;\n",
       "    }\n",
       "\n",
       "    .dataframe thead th {\n",
       "        text-align: right;\n",
       "    }\n",
       "</style>\n",
       "<table border=\"1\" class=\"dataframe\">\n",
       "  <thead>\n",
       "    <tr style=\"text-align: right;\">\n",
       "      <th></th>\n",
       "      <th>UniqueId</th>\n",
       "      <th>Name</th>\n",
       "      <th>Counties</th>\n",
       "      <th>StartYear</th>\n",
       "      <th>StartMonth</th>\n",
       "      <th>AcresBurned</th>\n",
       "      <th>Latitude</th>\n",
       "      <th>Longitude</th>\n",
       "      <th>MajorIncident</th>\n",
       "    </tr>\n",
       "  </thead>\n",
       "  <tbody>\n",
       "    <tr>\n",
       "      <th>1153</th>\n",
       "      <td>d28bc34e-73a8-454d-9e55-dea7bdd40bee</td>\n",
       "      <td>Thomas Fire</td>\n",
       "      <td>Ventura</td>\n",
       "      <td>2017</td>\n",
       "      <td>12</td>\n",
       "      <td>281893.0</td>\n",
       "      <td>34.41521</td>\n",
       "      <td>-119.09124</td>\n",
       "      <td>True</td>\n",
       "    </tr>\n",
       "    <tr>\n",
       "      <th>1386</th>\n",
       "      <td>f7b03fae-de58-4674-9f4f-d3e9d2762d84</td>\n",
       "      <td>Long Valley Fire</td>\n",
       "      <td>Lassen</td>\n",
       "      <td>2017</td>\n",
       "      <td>7</td>\n",
       "      <td>83733.0</td>\n",
       "      <td>40.07045</td>\n",
       "      <td>-120.14013</td>\n",
       "      <td>False</td>\n",
       "    </tr>\n",
       "    <tr>\n",
       "      <th>885</th>\n",
       "      <td>9feb25c4-d3ae-4f78-9fc9-a1ad2b308e42</td>\n",
       "      <td>Detwiler Fire</td>\n",
       "      <td>Mariposa</td>\n",
       "      <td>2017</td>\n",
       "      <td>7</td>\n",
       "      <td>81826.0</td>\n",
       "      <td>37.61757</td>\n",
       "      <td>-120.21321</td>\n",
       "      <td>True</td>\n",
       "    </tr>\n",
       "    <tr>\n",
       "      <th>407</th>\n",
       "      <td>490ae25d-c3d8-4a90-9e75-0ad85e0f629f</td>\n",
       "      <td>Eclipse Complex</td>\n",
       "      <td>Siskiyou</td>\n",
       "      <td>2017</td>\n",
       "      <td>8</td>\n",
       "      <td>78698.0</td>\n",
       "      <td>41.84100</td>\n",
       "      <td>-123.47400</td>\n",
       "      <td>False</td>\n",
       "    </tr>\n",
       "    <tr>\n",
       "      <th>1054</th>\n",
       "      <td>be79d28c-767d-4a0d-b168-e86a5842004f</td>\n",
       "      <td>Nuns / Adobe / Norrbom/ Pressley / Partrick Fi...</td>\n",
       "      <td>Sonoma</td>\n",
       "      <td>2017</td>\n",
       "      <td>10</td>\n",
       "      <td>56556.0</td>\n",
       "      <td>38.40410</td>\n",
       "      <td>-122.52090</td>\n",
       "      <td>True</td>\n",
       "    </tr>\n",
       "  </tbody>\n",
       "</table>\n",
       "</div>"
      ],
      "text/plain": [
       "                                  UniqueId  \\\n",
       "1153  d28bc34e-73a8-454d-9e55-dea7bdd40bee   \n",
       "1386  f7b03fae-de58-4674-9f4f-d3e9d2762d84   \n",
       "885   9feb25c4-d3ae-4f78-9fc9-a1ad2b308e42   \n",
       "407   490ae25d-c3d8-4a90-9e75-0ad85e0f629f   \n",
       "1054  be79d28c-767d-4a0d-b168-e86a5842004f   \n",
       "\n",
       "                                                   Name  Counties  StartYear  \\\n",
       "1153                                        Thomas Fire   Ventura       2017   \n",
       "1386                                   Long Valley Fire    Lassen       2017   \n",
       "885                                       Detwiler Fire  Mariposa       2017   \n",
       "407                                     Eclipse Complex  Siskiyou       2017   \n",
       "1054  Nuns / Adobe / Norrbom/ Pressley / Partrick Fi...    Sonoma       2017   \n",
       "\n",
       "      StartMonth  AcresBurned  Latitude  Longitude  MajorIncident  \n",
       "1153          12     281893.0  34.41521 -119.09124           True  \n",
       "1386           7      83733.0  40.07045 -120.14013          False  \n",
       "885            7      81826.0  37.61757 -120.21321           True  \n",
       "407            8      78698.0  41.84100 -123.47400          False  \n",
       "1054          10      56556.0  38.40410 -122.52090           True  "
      ]
     },
     "execution_count": 118,
     "metadata": {},
     "output_type": "execute_result"
    }
   ],
   "source": [
    "ca_fires_df[ca_fires_df['StartYear']==2017].sort_values('AcresBurned', ascending=False).head(5)"
   ]
  },
  {
   "cell_type": "code",
   "execution_count": 120,
   "metadata": {},
   "outputs": [
    {
     "data": {
      "text/html": [
       "<div>\n",
       "<style scoped>\n",
       "    .dataframe tbody tr th:only-of-type {\n",
       "        vertical-align: middle;\n",
       "    }\n",
       "\n",
       "    .dataframe tbody tr th {\n",
       "        vertical-align: top;\n",
       "    }\n",
       "\n",
       "    .dataframe thead th {\n",
       "        text-align: right;\n",
       "    }\n",
       "</style>\n",
       "<table border=\"1\" class=\"dataframe\">\n",
       "  <thead>\n",
       "    <tr style=\"text-align: right;\">\n",
       "      <th></th>\n",
       "      <th>UniqueId</th>\n",
       "      <th>Name</th>\n",
       "      <th>Counties</th>\n",
       "      <th>StartYear</th>\n",
       "      <th>StartMonth</th>\n",
       "      <th>AcresBurned</th>\n",
       "      <th>Latitude</th>\n",
       "      <th>Longitude</th>\n",
       "      <th>MajorIncident</th>\n",
       "    </tr>\n",
       "  </thead>\n",
       "  <tbody>\n",
       "    <tr>\n",
       "      <th>840</th>\n",
       "      <td>977ac7ce-4204-4cd3-9f89-727142165261</td>\n",
       "      <td>Soberanes Fire</td>\n",
       "      <td>Monterey</td>\n",
       "      <td>2016</td>\n",
       "      <td>7</td>\n",
       "      <td>132127.0</td>\n",
       "      <td>36.45994</td>\n",
       "      <td>-121.89938</td>\n",
       "      <td>True</td>\n",
       "    </tr>\n",
       "    <tr>\n",
       "      <th>797</th>\n",
       "      <td>91816ff6-d4ec-4f31-8d40-bf2538aca09b</td>\n",
       "      <td>Erskine Fire</td>\n",
       "      <td>Kern</td>\n",
       "      <td>2016</td>\n",
       "      <td>6</td>\n",
       "      <td>48019.0</td>\n",
       "      <td>35.61150</td>\n",
       "      <td>-118.45628</td>\n",
       "      <td>False</td>\n",
       "    </tr>\n",
       "    <tr>\n",
       "      <th>16</th>\n",
       "      <td>040d03d0-fbdd-438c-8174-f81e4a1bba57</td>\n",
       "      <td>Chimney Fire</td>\n",
       "      <td>San Luis Obispo</td>\n",
       "      <td>2016</td>\n",
       "      <td>8</td>\n",
       "      <td>46344.0</td>\n",
       "      <td>35.70595</td>\n",
       "      <td>-120.98316</td>\n",
       "      <td>True</td>\n",
       "    </tr>\n",
       "    <tr>\n",
       "      <th>1293</th>\n",
       "      <td>ea5193a1-69bc-4684-bfcd-235c17d36756</td>\n",
       "      <td>Blue Cut Fire</td>\n",
       "      <td>San Bernardino</td>\n",
       "      <td>2016</td>\n",
       "      <td>8</td>\n",
       "      <td>36274.0</td>\n",
       "      <td>34.30372</td>\n",
       "      <td>-117.49342</td>\n",
       "      <td>True</td>\n",
       "    </tr>\n",
       "    <tr>\n",
       "      <th>728</th>\n",
       "      <td>85683fd7-b507-4ec7-8bbd-fb7033a42665</td>\n",
       "      <td>Gap Fire</td>\n",
       "      <td>Siskiyou</td>\n",
       "      <td>2016</td>\n",
       "      <td>8</td>\n",
       "      <td>33867.0</td>\n",
       "      <td>41.85100</td>\n",
       "      <td>-123.11800</td>\n",
       "      <td>False</td>\n",
       "    </tr>\n",
       "  </tbody>\n",
       "</table>\n",
       "</div>"
      ],
      "text/plain": [
       "                                  UniqueId            Name         Counties  \\\n",
       "840   977ac7ce-4204-4cd3-9f89-727142165261  Soberanes Fire         Monterey   \n",
       "797   91816ff6-d4ec-4f31-8d40-bf2538aca09b    Erskine Fire             Kern   \n",
       "16    040d03d0-fbdd-438c-8174-f81e4a1bba57    Chimney Fire  San Luis Obispo   \n",
       "1293  ea5193a1-69bc-4684-bfcd-235c17d36756   Blue Cut Fire   San Bernardino   \n",
       "728   85683fd7-b507-4ec7-8bbd-fb7033a42665        Gap Fire         Siskiyou   \n",
       "\n",
       "      StartYear  StartMonth  AcresBurned  Latitude  Longitude  MajorIncident  \n",
       "840        2016           7     132127.0  36.45994 -121.89938           True  \n",
       "797        2016           6      48019.0  35.61150 -118.45628          False  \n",
       "16         2016           8      46344.0  35.70595 -120.98316           True  \n",
       "1293       2016           8      36274.0  34.30372 -117.49342           True  \n",
       "728        2016           8      33867.0  41.85100 -123.11800          False  "
      ]
     },
     "execution_count": 120,
     "metadata": {},
     "output_type": "execute_result"
    }
   ],
   "source": [
    "ca_fires_df[ca_fires_df['StartYear']==2016].sort_values('AcresBurned', ascending=False).head(5)"
   ]
  },
  {
   "cell_type": "markdown",
   "metadata": {},
   "source": [
    "2017 had the most fires, but 2018 had the most acres burned. Which one is considered worse?"
   ]
  },
  {
   "cell_type": "code",
   "execution_count": null,
   "metadata": {},
   "outputs": [],
   "source": []
  },
  {
   "cell_type": "code",
   "execution_count": null,
   "metadata": {},
   "outputs": [],
   "source": []
  },
  {
   "cell_type": "code",
   "execution_count": 192,
   "metadata": {},
   "outputs": [
    {
     "data": {
      "image/png": "[encoded data removed]",
      "text/plain": [
       "<Figure size 576x288 with 1 Axes>"
      ]
     },
     "metadata": {
      "needs_background": "light"
     },
     "output_type": "display_data"
    }
   ],
   "source": [
    "ca_fires_df.boxplot(column='AcresBurned', by='StartYear', figsize=(8, 4))\n",
    "\n",
    "\n",
    "plt.show()"
   ]
  },
  {
   "cell_type": "markdown",
   "metadata": {},
   "source": []
  },
  {
   "cell_type": "code",
   "execution_count": null,
   "metadata": {},
   "outputs": [],
   "source": []
  },
  {
   "cell_type": "code",
   "execution_count": null,
   "metadata": {},
   "outputs": [],
   "source": []
  },
  {
   "cell_type": "code",
   "execution_count": null,
   "metadata": {},
   "outputs": [],
   "source": []
  },
  {
   "cell_type": "code",
   "execution_count": 141,
   "metadata": {},
   "outputs": [],
   "source": [
    "grouped_acres_sum = ca_fires_df.groupby(['StartYear', 'StartMonth']).sum('AcresBurned')['AcresBurned'].reset_index()"
   ]
  },
  {
   "cell_type": "code",
   "execution_count": 142,
   "metadata": {},
   "outputs": [
    {
     "data": {
      "text/html": [
       "<div>\n",
       "<style scoped>\n",
       "    .dataframe tbody tr th:only-of-type {\n",
       "        vertical-align: middle;\n",
       "    }\n",
       "\n",
       "    .dataframe tbody tr th {\n",
       "        vertical-align: top;\n",
       "    }\n",
       "\n",
       "    .dataframe thead th {\n",
       "        text-align: right;\n",
       "    }\n",
       "</style>\n",
       "<table border=\"1\" class=\"dataframe\">\n",
       "  <thead>\n",
       "    <tr style=\"text-align: right;\">\n",
       "      <th></th>\n",
       "      <th>StartYear</th>\n",
       "      <th>StartMonth</th>\n",
       "      <th>AcresBurned</th>\n",
       "    </tr>\n",
       "  </thead>\n",
       "  <tbody>\n",
       "    <tr>\n",
       "      <th>0</th>\n",
       "      <td>2013</td>\n",
       "      <td>2</td>\n",
       "      <td>406.0</td>\n",
       "    </tr>\n",
       "    <tr>\n",
       "      <th>1</th>\n",
       "      <td>2013</td>\n",
       "      <td>4</td>\n",
       "      <td>379.0</td>\n",
       "    </tr>\n",
       "    <tr>\n",
       "      <th>2</th>\n",
       "      <td>2013</td>\n",
       "      <td>5</td>\n",
       "      <td>53957.0</td>\n",
       "    </tr>\n",
       "    <tr>\n",
       "      <th>3</th>\n",
       "      <td>2013</td>\n",
       "      <td>6</td>\n",
       "      <td>5127.0</td>\n",
       "    </tr>\n",
       "    <tr>\n",
       "      <th>4</th>\n",
       "      <td>2013</td>\n",
       "      <td>7</td>\n",
       "      <td>77082.0</td>\n",
       "    </tr>\n",
       "    <tr>\n",
       "      <th>...</th>\n",
       "      <td>...</td>\n",
       "      <td>...</td>\n",
       "      <td>...</td>\n",
       "    </tr>\n",
       "    <tr>\n",
       "      <th>60</th>\n",
       "      <td>2019</td>\n",
       "      <td>7</td>\n",
       "      <td>20463.0</td>\n",
       "    </tr>\n",
       "    <tr>\n",
       "      <th>61</th>\n",
       "      <td>2019</td>\n",
       "      <td>8</td>\n",
       "      <td>15129.0</td>\n",
       "    </tr>\n",
       "    <tr>\n",
       "      <th>62</th>\n",
       "      <td>2019</td>\n",
       "      <td>9</td>\n",
       "      <td>101251.0</td>\n",
       "    </tr>\n",
       "    <tr>\n",
       "      <th>63</th>\n",
       "      <td>2019</td>\n",
       "      <td>10</td>\n",
       "      <td>119814.0</td>\n",
       "    </tr>\n",
       "    <tr>\n",
       "      <th>64</th>\n",
       "      <td>2019</td>\n",
       "      <td>11</td>\n",
       "      <td>6109.0</td>\n",
       "    </tr>\n",
       "  </tbody>\n",
       "</table>\n",
       "<p>65 rows × 3 columns</p>\n",
       "</div>"
      ],
      "text/plain": [
       "    StartYear  StartMonth  AcresBurned\n",
       "0        2013           2        406.0\n",
       "1        2013           4        379.0\n",
       "2        2013           5      53957.0\n",
       "3        2013           6       5127.0\n",
       "4        2013           7      77082.0\n",
       "..        ...         ...          ...\n",
       "60       2019           7      20463.0\n",
       "61       2019           8      15129.0\n",
       "62       2019           9     101251.0\n",
       "63       2019          10     119814.0\n",
       "64       2019          11       6109.0\n",
       "\n",
       "[65 rows x 3 columns]"
      ]
     },
     "execution_count": 142,
     "metadata": {},
     "output_type": "execute_result"
    }
   ],
   "source": [
    "grouped_acres_sum"
   ]
  },
  {
   "cell_type": "code",
   "execution_count": 159,
   "metadata": {},
   "outputs": [],
   "source": [
    "def parse_grouped_sums(grouped_df, year_lst):\n",
    "    '''\n",
    "    Creates a list of dataframes parsed by year.\n",
    "    Parameters: grouped dataframe, list of years\n",
    "    Returns: list of dataframes\n",
    "    '''\n",
    "    parse_lst = []\n",
    "    \n",
    "    for year in year_lst:\n",
    "        parse_lst.append(grouped_df[grouped_df['StartYear']==year])\n",
    "    return parse_lst   "
   ]
  },
  {
   "cell_type": "code",
   "execution_count": 168,
   "metadata": {},
   "outputs": [],
   "source": [
    "df_lst = parse_grouped_sums(grouped_acres_sum, year_lst)"
   ]
  },
  {
   "cell_type": "code",
   "execution_count": 169,
   "metadata": {},
   "outputs": [
    {
     "data": {
      "image/png": "[encoded data removed]",
      "text/plain": [
       "<Figure size 576x1800 with 7 Axes>"
      ]
     },
     "metadata": {
      "needs_background": "light"
     },
     "output_type": "display_data"
    }
   ],
   "source": [
    "month_labels = ['Jan.', 'Feb.', 'Mar.', 'Apr.', 'May', 'Jun.', 'Jul.', 'Aug.', 'Sep.', 'Oct.', 'Nov.', 'Dec.']\n",
    "fig, axs = plt.subplots(7, 1, figsize=(8, 25))\n",
    "\n",
    "for idx, ax in enumerate(axs.flatten()):\n",
    "    ax.bar(df_lst[idx]['StartMonth'], height=df_lst[idx]['AcresBurned'], color='red')\n",
    "        \n",
    "    ax.set_xticks(list(range(1, 13)))\n",
    "    ax.set_xticklabels(month_labels, rotation=45)\n",
    "        \n",
    "    ax.set_title(f'Acres Burned per Month ({year_lst[idx]})')\n",
    "    ax.set_xlabel('Months')\n",
    "    ax.set_ylabel('Acres')\n",
    "\n",
    "fig.tight_layout()\n",
    "plt.show()"
   ]
  },
  {
   "cell_type": "code",
   "execution_count": 180,
   "metadata": {},
   "outputs": [
    {
     "data": {
      "image/png": "[encoded data removed]",
      "text/plain": [
       "<Figure size 576x288 with 1 Axes>"
      ]
     },
     "metadata": {
      "needs_background": "light"
     },
     "output_type": "display_data"
    }
   ],
   "source": [
    "month_labels = ['Jan.', 'Feb.', 'Mar.', 'Apr.', 'May', 'Jun.', 'Jul.', 'Aug.', 'Sep.', 'Oct.', 'Nov.', 'Dec.']\n",
    "fig, axs = plt.subplots(figsize=(8, 4))\n",
    "\n",
    "axs.bar(df_lst[6]['StartMonth'], height=df_lst[6]['AcresBurned'], color='pink', label='2019')\n",
    "axs.bar(df_lst[5]['StartMonth'], height=df_lst[5]['AcresBurned'], color='purple', label='2018')\n",
    "axs.bar(df_lst[4]['StartMonth'], height=df_lst[4]['AcresBurned'], color='blue', label='2017')\n",
    "axs.bar(df_lst[3]['StartMonth'], height=df_lst[3]['AcresBurned'], color='green', label='2016')\n",
    "axs.bar(df_lst[2]['StartMonth'], height=df_lst[2]['AcresBurned'], color='yellow', label='2015')\n",
    "axs.bar(df_lst[1]['StartMonth'], height=df_lst[1]['AcresBurned'], color='orange', label='2014')\n",
    "axs.bar(df_lst[0]['StartMonth'], height=df_lst[0]['AcresBurned'], color='red', label='2013')\n",
    "        \n",
    "axs.set_xticks(list(range(1, 13)))\n",
    "axs.set_xticklabels(month_labels, rotation=45)\n",
    "        \n",
    "axs.set_title('Total Acres per Month')\n",
    "axs.set_xlabel('Months')\n",
    "axs.set_ylabel('Acres')\n",
    "\n",
    "axs.legend()\n",
    "\n",
    "plt.show()"
   ]
  },
  {
   "cell_type": "markdown",
   "metadata": {},
   "source": [
    "Terrible graph, but it shows that 2017 and 2018 had most of the acres burned for most months."
   ]
  },
  {
   "cell_type": "code",
   "execution_count": null,
   "metadata": {},
   "outputs": [],
   "source": []
  },
  {
   "cell_type": "code",
   "execution_count": null,
   "metadata": {},
   "outputs": [],
   "source": []
  },
  {
   "cell_type": "code",
   "execution_count": null,
   "metadata": {},
   "outputs": [],
   "source": []
  },
  {
   "cell_type": "markdown",
   "metadata": {},
   "source": [
    "PROBABLY WON'T USE BUT DON'T WANT TO DELETE YET!!!!"
   ]
  },
  {
   "cell_type": "code",
   "execution_count": 143,
   "metadata": {},
   "outputs": [],
   "source": [
    "def month_counter(year):\n",
    "    '''\n",
    "    Creates a dictionary containing the counts for each month in a particular year for ca_fires_df.\n",
    "    Parameters: integer year\n",
    "    Returns: dictionary\n",
    "    '''\n",
    "    \n",
    "    months_dct = {1:0, 2:0, 3:0, 4:0, 5:0, 6:0, 7:0, 8:0, 9:0, 10:0, 11:0, 12:0}\n",
    "    \n",
    "    for month in ca_fires_df[ca_fires_df['StartYear']==year]['StartMonth']:\n",
    "        if month in months_dct:\n",
    "            months_dct[month] += ca_fires_df['AcresBurned']\n",
    "            \n",
    "    return months_dct"
   ]
  },
  {
   "cell_type": "code",
   "execution_count": 129,
   "metadata": {},
   "outputs": [],
   "source": [
    "def apply_month_counter(year_lst):\n",
    "    '''\n",
    "    Applies the previous month_counter() to a list of years.\n",
    "    Parameters: list of integer years\n",
    "    Returns: list of dictionaries where each dictionary represents the distribution of months per year\n",
    "    '''\n",
    "    \n",
    "    dct_lst = [month_counter(year) for year in year_lst]\n",
    "    \n",
    "    return dct_lst"
   ]
  },
  {
   "cell_type": "code",
   "execution_count": 131,
   "metadata": {},
   "outputs": [
    {
     "data": {
      "text/plain": [
       "{1: 0, 2: 0, 3: 0, 4: 0, 5: 0, 6: 0, 7: 0, 8: 0, 9: 0, 10: 0, 11: 0, 12: 0}"
      ]
     },
     "execution_count": 131,
     "metadata": {},
     "output_type": "execute_result"
    }
   ],
   "source": [
    "year_lst = [2013, 2014, 2015, 2016, 2017, 2018, 2019]\n",
    "fires_dct_lst = apply_month_counter(year_lst)\n",
    "fires_dct_lst[0]"
   ]
  },
  {
   "cell_type": "code",
   "execution_count": 143,
   "metadata": {},
   "outputs": [
    {
     "data": {
      "image/png": "[encoded data removed]",
      "text/plain": [
       "<Figure size 576x1800 with 7 Axes>"
      ]
     },
     "metadata": {
      "needs_background": "light"
     },
     "output_type": "display_data"
    }
   ],
   "source": [
    "month_labels = ['Jan.', 'Feb.', 'Mar.', 'Apr.', 'May', 'Jun.', 'Jul.', 'Aug.', 'Sep.', 'Oct.', 'Nov.', 'Dec.']\n",
    "fig, axs = plt.subplots(7, 1, figsize=(8, 25))\n",
    "\n",
    "for idx, ax in enumerate(axs.flatten()):\n",
    "    ax.bar(fires_dct_lst[idx].keys(), height=fires_dct_lst[idx].values(), color='red')\n",
    "        \n",
    "    ax.set_xticks(list(range(1, 13)))\n",
    "    ax.set_xticklabels(month_labels, rotation=45)\n",
    "        \n",
    "    ax.set_title(f'Distribution of Fires per Month ({year_lst[idx]})')\n",
    "    ax.set_xlabel('Months')\n",
    "    ax.set_ylabel('Number of Fires')\n",
    "\n",
    "fig.tight_layout()\n",
    "plt.show()"
   ]
  },
  {
   "cell_type": "markdown",
   "metadata": {},
   "source": [
    "See shift from spring fires to fall fires. Not sure why? Could be because fall is getting warmer?"
   ]
  },
  {
   "cell_type": "code",
   "execution_count": 30,
   "metadata": {},
   "outputs": [
    {
     "data": {
      "text/plain": [
       "2017    429\n",
       "2018    308\n",
       "2019    259\n",
       "2016    154\n",
       "2013    144\n",
       "2015     93\n",
       "2014     72\n",
       "Name: StartYear, dtype: int64"
      ]
     },
     "execution_count": 30,
     "metadata": {},
     "output_type": "execute_result"
    }
   ],
   "source": [
    "ca_fires_df['StartYear'].value_counts()"
   ]
  },
  {
   "cell_type": "code",
   "execution_count": 189,
   "metadata": {},
   "outputs": [],
   "source": []
  },
  {
   "cell_type": "code",
   "execution_count": null,
   "metadata": {},
   "outputs": [],
   "source": []
  },
  {
   "cell_type": "code",
   "execution_count": null,
   "metadata": {},
   "outputs": [],
   "source": []
  },
  {
   "cell_type": "code",
   "execution_count": null,
   "metadata": {},
   "outputs": [],
   "source": []
  },
  {
   "cell_type": "code",
   "execution_count": 51,
   "metadata": {},
   "outputs": [
    {
     "data": {
      "text/plain": [
       "0      False\n",
       "1      False\n",
       "2      False\n",
       "3      False\n",
       "5      False\n",
       "       ...  \n",
       "155    False\n",
       "156    False\n",
       "158    False\n",
       "160    False\n",
       "161    False\n",
       "Name: MajorIncident, Length: 143, dtype: bool"
      ]
     },
     "execution_count": 51,
     "metadata": {},
     "output_type": "execute_result"
    }
   ],
   "source": [
    "mi_lst = []\n",
    "for year in year_lst:\n",
    "    mi_lst.append(ca_fires_df[ca_fires_df['StartYear']==year]['MajorIncident'])"
   ]
  },
  {
   "cell_type": "code",
   "execution_count": 60,
   "metadata": {},
   "outputs": [],
   "source": [
    "nk_dct = {}\n",
    "for bool_lst in mi_lst:\n",
    "    nk_dct[len(bool_lst)] = sum(bool_lst)"
   ]
  },
  {
   "cell_type": "code",
   "execution_count": 61,
   "metadata": {},
   "outputs": [
    {
     "data": {
      "text/plain": [
       "dict_items([(143, 42), (72, 30), (93, 38), (154, 44), (429, 92), (308, 72), (259, 29)])"
      ]
     },
     "execution_count": 61,
     "metadata": {},
     "output_type": "execute_result"
    }
   ],
   "source": [
    "nk_dct.items()"
   ]
  },
  {
   "cell_type": "code",
   "execution_count": 83,
   "metadata": {},
   "outputs": [],
   "source": [
    "post_dist = []\n",
    "for n, k in nk_dct.items():\n",
    "    post_dist.append(stats.distributions.beta(a = 1 + k, b = 1 + n - k))"
   ]
  },
  {
   "cell_type": "code",
   "execution_count": 84,
   "metadata": {},
   "outputs": [
    {
     "data": {
      "image/png": "[encoded data removed]",
      "text/plain": [
       "<Figure size 720x432 with 1 Axes>"
      ]
     },
     "metadata": {
      "needs_background": "light"
     },
     "output_type": "display_data"
    }
   ],
   "source": [
    "fig, ax = plt.subplots(figsize=(10, 6))\n",
    "x = np.linspace(0,1,1000)\n",
    "year_lst = [2013, 2014, 2015, 2016, 2017, 2018, 2019]\n",
    "for idx, dist in enumerate(post_dist):\n",
    "    ax.plot(x, dist.pdf(x), label=f'{year_lst[idx]}')\n",
    "    ax.legend()\n",
    "    ax.set_title('Posterior Probabilities of a Major Incident by Year')\n",
    "    ax.set_xlabel('p')\n",
    "    ax.set_ylabel('pdf')"
   ]
  },
  {
   "cell_type": "markdown",
   "metadata": {},
   "source": [
    "Number of fires in 2019 plummeted because of heavy precipitation. Could account for the fact that people did not think of them as a major incident."
   ]
  },
  {
   "cell_type": "code",
   "execution_count": null,
   "metadata": {},
   "outputs": [],
   "source": []
  },
  {
   "cell_type": "code",
   "execution_count": null,
   "metadata": {},
   "outputs": [],
   "source": []
  },
  {
   "cell_type": "code",
   "execution_count": null,
   "metadata": {},
   "outputs": [],
   "source": []
  },
  {
   "cell_type": "code",
   "execution_count": null,
   "metadata": {},
   "outputs": [],
   "source": []
  },
  {
   "cell_type": "code",
   "execution_count": null,
   "metadata": {},
   "outputs": [],
   "source": []
  },
  {
   "cell_type": "code",
   "execution_count": null,
   "metadata": {},
   "outputs": [],
   "source": []
  },
  {
   "cell_type": "code",
   "execution_count": null,
   "metadata": {},
   "outputs": [],
   "source": []
  },
  {
   "cell_type": "markdown",
   "metadata": {},
   "source": [
    "Sources:\n",
    "https://towardsdatascience.com/data-101s-spatial-visualizations-and-analysis-in-python-with-folium-39730da2adf\n",
    "https://www.sciencemag.org/news/2020/03/us-wildfires-plummeted-2019-experts-say-it-won-t-last\n",
    "https://wildfiretoday.com/2015/11/09/was-the-2014-wildfire-season-in-california-affected-by-climate-change/"
   ]
  },
  {
   "cell_type": "markdown",
   "metadata": {},
   "source": [
    "Fires in 2019 plummeted because of heavy precipitation in forests and grasslands. Scientists called it a weird anomolie."
   ]
  },
  {
   "cell_type": "code",
   "execution_count": null,
   "metadata": {},
   "outputs": [],
   "source": []
  }
 ],
 "metadata": {
  "kernelspec": {
   "display_name": "Python 3",
   "language": "python",
   "name": "python3"
  },
  "language_info": {
   "codemirror_mode": {
    "name": "ipython",
    "version": 3
   },
   "file_extension": ".py",
   "mimetype": "text/x-python",
   "name": "python",
   "nbconvert_exporter": "python",
   "pygments_lexer": "ipython3",
   "version": "3.7.9"
  }
 },
 "nbformat": 4,
 "nbformat_minor": 4
}
